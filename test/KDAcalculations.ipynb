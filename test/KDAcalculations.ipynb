{
 "metadata": {
  "language_info": {
   "codemirror_mode": {
    "name": "ipython",
    "version": 3
   },
   "file_extension": ".py",
   "mimetype": "text/x-python",
   "name": "python",
   "nbconvert_exporter": "python",
   "pygments_lexer": "ipython3",
   "version": 3
  },
  "orig_nbformat": 2
 },
 "nbformat": 4,
 "nbformat_minor": 2,
 "cells": [
  {
   "source": [
    "# KDA Calculations"
   ],
   "cell_type": "markdown",
   "metadata": {}
  },
  {
   "cell_type": "code",
   "execution_count": null,
   "metadata": {},
   "outputs": [],
   "source": []
  },
  {
   "source": [
    "## PUBG Calculator\n",
    "\n",
    "### Old K/D = Total kills/ Total deaths\n",
    "\n",
    "Total K/D = (Total Kills including all matches) / (Total Deaths including all matches)\n",
    "\n",
    "\n",
    "### New K/D = Total kills/ Total number of matches\n",
    "\n",
    "### Further explanations: \n",
    "    - https://www.sportskeeda.com/esports/pubg-mobile-how-kd-calculated-pubg \n",
    "    - https://gamingonphone.com/guides/pubg-mobile-new-kd-system/\n"
   ],
   "cell_type": "markdown",
   "metadata": {}
  },
  {
   "cell_type": "code",
   "execution_count": null,
   "metadata": {},
   "outputs": [],
   "source": [
    "# Other info\n",
    "\n",
    "## KD spread\n",
    "Source: https://halo.fandom.com/wiki/Kill-Death_Ratio \n",
    "Kill-Death Ratio is a term used to define how many kills a player gets before they die each time they spawn. A K/D ratio is kills divided by deaths.k For example, if a player gets 10 kills and 5 deaths in a given game, they have a 2 K/D ratio. It means they got 2 kills before they died each time they spawned (on average),. In other words - for every 2 kills they got, they died once.\n",
    "\n",
    "K/D ratio is not to be confused with K/D spread. K/D spread is a player's (or team's) total kills, minus their deaths. K/D spread is a good metric for single games, while K/D Ratio is a more appropriate metric for a player's career. The reason being is that the more kills a player gets, the less useful K/D spread becomes. For example, a player has 500,000 kills and 470,000 deaths; a spread of +30,000, yet their K/D is close to average. The more a player plays the game, the less useful and less recognizable the K/D spread metric becomes. K/D ratio on the other hand begins to stay fixed the more a player plays, and is much more useful long-term.\n",
    "\n",
    "## value of Long term KDA explained\n",
    "\n",
    "Calculating what you need for your target K/D\n",
    "\n",
    "  (Target KD x Deaths) - Kills\n",
    "\n",
    "  Example: You have 14,943 kills/9,028 deaths and the board reads 1.65 KD. You want to know how many kills are you away from 1.66 KD.\n",
    "\n",
    "(1.66 x 9,028) - 14,943 = 43.48\n",
    "\n",
    "  Basically, if in your next game you score 44 kills/0 deaths, you will reach your target 1.66 KD. Of course, if you die once or more in that game, you will fall short and will have to recalculate to see what you need in the next game.\n",
    "\n",
    "  //\n",
    "  2.98 KD seems so close to 3.0. At 55,000 kills, I'd need to get 368 consecutive kills without a death to bump me up to 3.0.\n",
    "\n",
    "If I play every game at a solid 3.5K/D going 35-10, it would take me about 75 games to hit a 3.0. Even if I play like 2 hours a day and get in 15 games, that would be 5 solid days of playing my ass off to bump my K/D .02.\n"
   ]
  },
  {
   "source": [
    "# Possible formula's"
   ],
   "cell_type": "markdown",
   "metadata": {}
  },
  {
   "source": [
    "## KD\n",
    "\n",
    "Kills/Deaths"
   ],
   "cell_type": "markdown",
   "metadata": {}
  },
  {
   "source": [
    "## KAD \n",
    "\n",
    "(Kills + Assists) / Deaths"
   ],
   "cell_type": "markdown",
   "metadata": {}
  },
  {
   "source": [
    "## KA2D\n",
    "\n",
    "(Kills + (Assists / 2)) / Deaths"
   ],
   "cell_type": "markdown",
   "metadata": {}
  },
  {
   "cell_type": "code",
   "execution_count": null,
   "metadata": {},
   "outputs": [],
   "source": [
    "If deaths is 0, then replace the 0 with 1 and calculate the formula as normal.\n",
    "So 3 kill, 0 death would be 3/0 --> 3/1 = 3\n",
    "\n",
    "However; 4 kills, 1 death (4/1) and 4 kills and 0 deaths (4/0 --> 4/1) both result in the same KD value of 4. "
   ]
  },
  {
   "source": [
    "# Domination factor"
   ],
   "cell_type": "markdown",
   "metadata": {}
  },
  {
   "cell_type": "code",
   "execution_count": null,
   "metadata": {},
   "outputs": [],
   "source": [
    "def domfac(kill, death, assist):\n",
    "    \"\"\"Takes the kills, deaths, and assists of a player and calculates the domination factor order is kills, deaths, assists\n",
    "    \n",
    "    Input is string\n",
    "\n",
    "    \"\"\"\n",
    "    score = round(((kill * 2) + assist) - (death * 3), 3)\n",
    "    return score"
   ]
  }
 ]
}