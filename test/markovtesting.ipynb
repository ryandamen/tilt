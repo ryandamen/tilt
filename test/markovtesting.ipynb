{
 "metadata": {
  "language_info": {
   "codemirror_mode": {
    "name": "ipython",
    "version": 3
   },
   "file_extension": ".py",
   "mimetype": "text/x-python",
   "name": "python",
   "nbconvert_exporter": "python",
   "pygments_lexer": "ipython3",
   "version": "3.9.1-final"
  },
  "orig_nbformat": 2,
  "kernelspec": {
   "name": "python3",
   "display_name": "Python 3",
   "language": "python"
  }
 },
 "nbformat": 4,
 "nbformat_minor": 2,
 "cells": [
  {
   "cell_type": "code",
   "execution_count": 15,
   "metadata": {},
   "outputs": [],
   "source": [
    "#creating a non random dataset\n",
    "from random import randint, random\n",
    "\n",
    "#start with a random dataset\n",
    "markoffdataset = \"\".join (['L' if randint(0,1) else 'W' for p in range(0, 1)]) \n",
    "#print (markoffdataset)\n",
    "\n",
    "# Generate a dataset with certain probabilities\n",
    "thirdlosschance = 0.60 # % chance of getting L after WLL. The higher the number, the higher the chance of losing.\n",
    "\n",
    "for x in range (100000):\n",
    "    lastgameresult = markoffdataset [-1] #this will grab the last character\n",
    "    if markoffdataset [-3:] == \"WLL\":\n",
    "        if random() < thirdlosschance : # this is what changes the dataset to being non random\n",
    "            markoffdataset += \"L\"\n",
    "        else :\n",
    "            markoffdataset +=\"W\"\n",
    "    elif lastgameresult == \"W\":\n",
    "        if random() < .5 : #50% chance of winning the next game\n",
    "            markoffdataset += \"W\"\n",
    "        else :\n",
    "            markoffdataset +=\"L\"\n",
    "    elif lastgameresult == \"L\":\n",
    "        if random() < .5 : #50% chance of losing the next game\n",
    "            markoffdataset += \"L\"\n",
    "        else :\n",
    "            markoffdataset +=\"W\"\n",
    "#print (markoffdataset)"
   ]
  },
  {
   "cell_type": "code",
   "execution_count": 21,
   "metadata": {},
   "outputs": [
    {
     "output_type": "stream",
     "name": "stdout",
     "text": [
      "defaultdict(<class 'int'>, {'W': 12066, 'L': 12289})\n"
     ]
    },
    {
     "output_type": "execute_result",
     "data": {
      "text/plain": [
       "0.5045781153767194"
      ]
     },
     "metadata": {},
     "execution_count": 21
    }
   ],
   "source": [
    "# Detect the frequency of losing the 3th game, given a specific situation (WL) \n",
    "\n",
    "dataset = markoffdataset \n",
    "from collections import defaultdict\n",
    "transitions = defaultdict(int) #the dictionary that counts how many of each transition happened\n",
    "\n",
    "while dataset:\n",
    "    lossstreakstart = dataset.find(\"WL\")\n",
    "    if lossstreakstart == -1: #so it runs until you run out of data\n",
    "        break\n",
    "    nextgame = dataset[lossstreakstart+2] #finds the 3rd character, or first character after WLL. 0 is the W\n",
    "    transitions[nextgame] += 1\n",
    "    dataset = dataset[lossstreakstart+2:] #remove everything from the dataset up until the WLL, and make a new dataset starting from WLL\n",
    "\n",
    "print (transitions)\n",
    "\n",
    "#calculates the % of how often the loss happens next\n",
    "transitions[\"L\"] / (transitions[\"W\"] + transitions[\"L\"]) # this then gives you the value back that you put into the losschance variable \n",
    "\n"
   ]
  },
  {
   "cell_type": "code",
   "execution_count": 17,
   "metadata": {},
   "outputs": [
    {
     "output_type": "stream",
     "name": "stdout",
     "text": [
      "defaultdict(<class 'int'>, {'W': 4934, 'L': 7355})\n"
     ]
    },
    {
     "output_type": "execute_result",
     "data": {
      "text/plain": [
       "0.5985027260151354"
      ]
     },
     "metadata": {},
     "execution_count": 17
    }
   ],
   "source": [
    "# Detect the frequency of losing the 4th game, given a specific situation (WLL) > starting a loss streak\n",
    "\n",
    "dataset = markoffdataset \n",
    "from collections import defaultdict\n",
    "transitions = defaultdict(int) #the dictionary that counts how many of each transition happened\n",
    "\n",
    "while dataset:\n",
    "    lossstreakstart = dataset.find(\"WLL\")\n",
    "    if lossstreakstart == -1: #so it runs until you run out of data\n",
    "        break\n",
    "    nextgame = dataset[lossstreakstart+3] #finds the 4th character, or first character after WLL. 0 is the W\n",
    "    transitions[nextgame] += 1\n",
    "    dataset = dataset[lossstreakstart+3:] #remove everything from the dataset up until the WLL, and make a new dataset starting from WLL\n",
    "\n",
    "print (transitions)\n",
    "\n",
    "#calculates the % of how often the loss happens next\n",
    "transitions[\"L\"] / (transitions[\"W\"] + transitions[\"L\"]) # this then gives you the value back that you put into the losschance variable \n",
    "\n"
   ]
  },
  {
   "cell_type": "code",
   "execution_count": 18,
   "metadata": {},
   "outputs": [
    {
     "output_type": "stream",
     "name": "stdout",
     "text": [
      "defaultdict(<class 'int'>, {'L': 3641, 'W': 3714})\n"
     ]
    },
    {
     "output_type": "execute_result",
     "data": {
      "text/plain": [
       "0.49503738953093135"
      ]
     },
     "metadata": {},
     "execution_count": 18
    }
   ],
   "source": [
    "# Detect the frequency of losing the 5th game, given a specific situation (WLLL)\n",
    "\n",
    "dataset = markoffdataset \n",
    "from collections import defaultdict\n",
    "transitions = defaultdict(int) #the dictionary that counts how many of each transition happened\n",
    "\n",
    "while dataset:\n",
    "    lossstreakstart = dataset.find(\"WLLL\")\n",
    "    if lossstreakstart == -1: #so it runs until you run out of data\n",
    "        break\n",
    "    nextgame = dataset[lossstreakstart+4] #finds the 5th character, or first character after WLL. 0 is the W\n",
    "    transitions[nextgame] += 1\n",
    "    dataset = dataset[lossstreakstart+4:] #remove everything from the dataset up until the WLL, and make a new dataset starting from WLL\n",
    "\n",
    "print (transitions)\n",
    "\n",
    "#calculates the % of how often the loss happens next\n",
    "transitions[\"L\"] / (transitions[\"W\"] + transitions[\"L\"]) # this then gives you the value back that you put into the losschance variable \n",
    "\n"
   ]
  },
  {
   "cell_type": "code",
   "execution_count": 19,
   "metadata": {},
   "outputs": [
    {
     "output_type": "stream",
     "name": "stdout",
     "text": [
      "defaultdict(<class 'int'>, {'L': 1754, 'W': 1887})\n"
     ]
    },
    {
     "output_type": "execute_result",
     "data": {
      "text/plain": [
       "0.4817357868717385"
      ]
     },
     "metadata": {},
     "execution_count": 19
    }
   ],
   "source": [
    "# Detect the frequency of losing the 6th game, given a specific situation (WLLLL)\n",
    "\n",
    "dataset = markoffdataset \n",
    "from collections import defaultdict\n",
    "transitions = defaultdict(int) #the dictionary that counts how many of each transition happened\n",
    "\n",
    "while dataset:\n",
    "    lossstreakstart = dataset.find(\"WLLLL\")\n",
    "    if lossstreakstart == -1: #so it runs until you run out of data\n",
    "        break\n",
    "    nextgame = dataset[lossstreakstart+5] #finds the 4th character, or first character after WLL. 0 is the W\n",
    "    transitions[nextgame] += 1\n",
    "    dataset = dataset[lossstreakstart+5:] #remove everything from the dataset up until the WLL, and make a new dataset starting from WLL\n",
    "\n",
    "print (transitions)\n",
    "\n",
    "#calculates the % of how often the loss happens next\n",
    "transitions[\"L\"] / (transitions[\"W\"] + transitions[\"L\"]) # this then gives you the value back that you put into the losschance variable \n"
   ]
  },
  {
   "cell_type": "code",
   "execution_count": null,
   "metadata": {},
   "outputs": [],
   "source": [
    "\n",
    "                    WL  WLL     WLLL    WLLLL\n",
    "            WL          0.505   \n",
    "            WLL                 0.596\n",
    "            WLLL                        0.481\n",
    "            WLLLL                           \n",
    "\n",
    "# no need to do this because we are not interested in the full matrix\n",
    "\n",
    "5th game of a session\n",
    "what is the chance of losing after losing 3 games\n",
    "WLLL\n",
    "\n",
    "vs \n",
    "\n",
    "what is the chance of losing after playing 4 games \n",
    "LWLL \n",
    "LLWL \n",
    "LLLW\n",
    "> if you do everyone then that wouldn't be a fair comparison because people who lose 3x are worse players than people who did not lose 3x \n",
    "> comparable populations but different ordering of L, so we're figuring out if the ordering has an effect \n",
    "> normalize it after running this on a random dataset. In the random set this substring has X% of occuring. In the actual dataset it occuring X%, and by comparing those two together you can determine whether the actual dataset number are actually surprising/unexcpected or not\n",
    "> starting from session start because then the tiredness is 0 (And tilt is 0 too). \n"
   ]
  }
 ]
}