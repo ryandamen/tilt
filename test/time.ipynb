{
 "cells": [
  {
   "cell_type": "markdown",
   "metadata": {},
   "source": [
    "# Epoch to human UTC time"
   ]
  },
  {
   "cell_type": "code",
   "execution_count": 1,
   "metadata": {},
   "outputs": [],
   "source": [
    "# imports\n",
    "\n",
    "import datetime"
   ]
  },
  {
   "cell_type": "code",
   "execution_count": 2,
   "metadata": {},
   "outputs": [],
   "source": [
    "# currently only used to check time\n",
    "def convert_time(utc_time):\n",
    "    \"\"\"\n",
    "    Converts UTC to GMT time.\n",
    "\n",
    "    Args:\n",
    "        time (long): Time in (milli)seconds following the Coordinated Universal Time (UTC) format.\n",
    "    Returns:\n",
    "        hr_time (str): Time in Greenwich Mean Time format (Year-Month-Day Hour:Minute:Second). \n",
    "    \"\"\"\n",
    "\n",
    "    time_in_secs = int(str(utc_time)[:10])\n",
    "    gmt_time = str(datetime.datetime.fromtimestamp(time_in_secs))\n",
    "    \n",
    "    return(gmt_time)"
   ]
  },
  {
   "cell_type": "code",
   "execution_count": 3,
   "metadata": {},
   "outputs": [
    {
     "data": {
      "text/plain": [
       "'2022-02-10 16:05:20'"
      ]
     },
     "execution_count": 3,
     "metadata": {},
     "output_type": "execute_result"
    }
   ],
   "source": [
    "convert_time(1644505520000)"
   ]
  }
 ],
 "metadata": {
  "kernelspec": {
   "display_name": "Python 3",
   "language": "python",
   "name": "python3"
  },
  "language_info": {
   "codemirror_mode": {
    "name": "ipython",
    "version": 3
   },
   "file_extension": ".py",
   "mimetype": "text/x-python",
   "name": "python",
   "nbconvert_exporter": "python",
   "pygments_lexer": "ipython3",
   "version": "3.9.1"
  },
  "orig_nbformat": 2
 },
 "nbformat": 4,
 "nbformat_minor": 2
}
