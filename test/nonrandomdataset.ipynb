{
 "metadata": {
  "language_info": {
   "codemirror_mode": {
    "name": "ipython",
    "version": 3
   },
   "file_extension": ".py",
   "mimetype": "text/x-python",
   "name": "python",
   "nbconvert_exporter": "python",
   "pygments_lexer": "ipython3",
   "version": "3.9.1-final"
  },
  "orig_nbformat": 2,
  "kernelspec": {
   "name": "python3",
   "display_name": "Python 3",
   "language": "python"
  }
 },
 "nbformat": 4,
 "nbformat_minor": 2,
 "cells": [
  {
   "cell_type": "code",
   "execution_count": 53,
   "metadata": {},
   "outputs": [],
   "source": [
    "#creating a non random dataset\n",
    "from random import randint, random\n",
    "\n",
    "#start with a random dataset\n",
    "markoffdataset = \"\".join (['L' if randint(0,1) else 'W' for p in range(0, 1)]) \n",
    "#print (markoffdataset)\n",
    "\n",
    "# Generate a dataset with certain probabilities\n",
    "thirdlosschance = 0.75 # % chance of getting L after WLL. The higher the number, the higher the chance of losing.\n",
    "\n",
    "for x in range (100000):\n",
    "    lastgameresult = markoffdataset [-1] #this will grab the last character\n",
    "    if markoffdataset [-3:] == \"WLL\":\n",
    "        if random() < thirdlosschance : # this is what changes the dataset to being non random\n",
    "            markoffdataset += \"L\"\n",
    "        else :\n",
    "            markoffdataset +=\"W\"\n",
    "    elif lastgameresult == \"W\":\n",
    "        if random() < .5 : #50% chance of winning the next game\n",
    "            markoffdataset += \"W\"\n",
    "        else :\n",
    "            markoffdataset +=\"L\"\n",
    "    elif lastgameresult == \"L\":\n",
    "        if random() < .5 : #50% chance of losing the next game\n",
    "            markoffdataset += \"L\"\n",
    "        else :\n",
    "            markoffdataset +=\"W\"\n",
    "#print (markoffdataset)"
   ]
  },
  {
   "cell_type": "code",
   "execution_count": null,
   "metadata": {},
   "outputs": [],
   "source": [
    "# chunking & freq testing\n",
    "n = 3\n",
    "chunks = [markoffdataset [i:i + n] for i in range(0, len(markoffdataset), n)]\n",
    "string3 = [\"WWL\", \"WLW\", \"WLL\", \"WWW\", \"LWW\",\"LWL\",\"LLW\",\"LLL\"]\n",
    "\n",
    "# checking the frequency of how often each 3string occurs in the CHUNKED dataset\n",
    "string3count = [chunks.count(s3)/len(markoffdataset) for s3 in string3] \n",
    "sorted(zip(string3, string3count), key=lambda l:-l[1])\n",
    "\n",
    "# but it makes more sense to look for it un-chunked, because the chunks are a randomly chosen value that we picked. "
   ]
  },
  {
   "cell_type": "code",
   "execution_count": 54,
   "metadata": {},
   "outputs": [
    {
     "output_type": "stream",
     "name": "stdout",
     "text": [
      "defaultdict(<class 'int'>, {'W': 2967, 'L': 8783})\n"
     ]
    },
    {
     "output_type": "execute_result",
     "data": {
      "text/plain": [
       "0.7474893617021277"
      ]
     },
     "metadata": {},
     "execution_count": 54
    }
   ],
   "source": [
    "# Detect the frequency of losing the 4th game, given a specific situation (WLL)\n",
    "# \"empirical distribution\"\n",
    "\n",
    "dataset = markoffdataset \n",
    "from collections import defaultdict\n",
    "transitions = defaultdict(int) #the dictionary that counts how many of each transition happened\n",
    "\n",
    "while dataset:\n",
    "    lossstreakstart = dataset.find(\"WLL\")\n",
    "    if lossstreakstart == -1: #so it runs until you run out of data\n",
    "        break\n",
    "    nextgame = dataset[lossstreakstart+3] #finds the 4th character, or first character after WLL. 0 is the W\n",
    "    transitions[nextgame] += 1\n",
    "    dataset = dataset[lossstreakstart+3:] #truncate everything from the dataset up until the WLL, and make a new dataset starting from WLL. Otherwise you'd keep finding the same match over and over again.\n",
    "\n",
    "print (transitions)\n",
    "\n",
    "#calculates the % of how often the loss happens next\n",
    "transitions[\"L\"] / (transitions[\"W\"] + transitions[\"L\"]) # this then gives you the value back that you put into the losschance variable \n",
    "\n"
   ]
  },
  {
   "cell_type": "code",
   "execution_count": 50,
   "metadata": {},
   "outputs": [
    {
     "output_type": "stream",
     "name": "stdout",
     "text": [
      "defaultdict(<class 'int'>, {'W': 118, 'L': 33})\n"
     ]
    },
    {
     "output_type": "execute_result",
     "data": {
      "text/plain": [
       "0.2185430463576159"
      ]
     },
     "metadata": {},
     "execution_count": 50
    }
   ],
   "source": [
    "# finding the thirdlosschance given a different dataset (neddataset)\n",
    "\n",
    "neddataset = \"WWWWWLLWLLLWLWLWLLWLWLWWWLLWLLWLLWLWLWWLWWWLWLWWLLWLWLWWLLLWWWLLWWWLWWWWWLLWLWLWWWLWWLWLWWLWLLWWWWLLLLLLLWLLWWWLLWWLLWLLLWLWLLWLLLLWWWLLWLLLWLLWWWLLWWWLLWWLWWLWLWLLLLWWLLWWWWLLWWWWWWWWLLWLWWLLWLLWWWLLLLLLLWWLLWLLWWWWWWWLLLLLWWLWLWWWLLLLLLWWWWWLLWLLLWLWWWWWLLWLWWLWLLWLLWWLLWWLWLWWWLWWLLWWWWLWLLWWLWLLWLWLLWWLWWWWWWLLWLLWWWLLWWWWWLWLLWWWLLWLWLWLWLLLLWLWWLLWWWWWLLWWLWWWWLWLLLWWLLWLLWWLLLWLLWWLLWWWLWLLWLLWLWWLWWWWWLLWWLLWWWWLLWWLLWLWWLLWWLLWWWLLWLLWLLWLLWWWLLWWWLWWWWWLLWWLWLWWLWWLLWLLWLLWWWLLWWWLWLLLWWLLLLWWWWLLWWLLLWWLLWLWLLWWWLWWWLWWWLWWWWWWLLWWWWWWLLLLWLWWLLWLWLWLLWLLWLWLLWWLLLWLWWLWLLWWLWWLWLWLWLWWLLWLLLLWLWWLLWWLLLLLLWLLLLLWWWLLWWLWWLWWLWLLWWWLLLLWWLLWLWWLLWLWLWWWLWWWLLWLLWLLLWWWWWLLWLWLWWLWWLLWWWLLLLLWWLLWWWLWWWLLLLWLLWLLLLWLWLWWWLLWLWWWLLWLLWWWLLWWLLLLWWWLLWWLLWLLWLLWWLWWWLWWLLWWWWLLLLWLWWWWLWLLWWLLWWWLLWLWWLWLWWLWWWLLWLWWLLLLWWLLWLLWWLLLWWLWWLLLWWWLWLWWWWWWWLLWLWWLLWLWLLWLLWLWLLWWLLWWLWLLWWWWWLWLLWWLWWWLLWLLWLLWWLWLLWWWWLLWWLLWLWWLLWWWWLWLWLLWWLWLLLWWWWLWLWWLLWLWLLWLWLWWLLWLWLLWWLWLW\"\n",
    "\n",
    "from collections import defaultdict\n",
    "transitions = defaultdict(int) #the dictionary that counts how many of each transition happened\n",
    "\n",
    "dataset = neddataset \n",
    "while dataset:\n",
    "    lossstreakstart = dataset.find(\"WLL\")\n",
    "    if lossstreakstart == -1: #so it runs until you run out of data\n",
    "        break\n",
    "    nextgame = dataset[lossstreakstart+3] #finds the first character after WLL. 0 is the W\n",
    "    transitions[nextgame] += 1\n",
    "    dataset = dataset[lossstreakstart+3:] #remove everything from the dataset up until the WLL, and make a new dataset starting from WLL\n",
    "\n",
    "print (transitions)\n",
    "\n",
    "#calculates the % of how often the loss happens next\n",
    "transitions[\"L\"] / (transitions[\"W\"] + transitions[\"L\"]) # this then gives you the value back that you put into the losschance variable \n"
   ]
  },
  {
   "cell_type": "code",
   "execution_count": 52,
   "metadata": {},
   "outputs": [
    {
     "output_type": "stream",
     "name": "stdout",
     "text": [
      "defaultdict(<class 'int'>, {'W': 236, 'L': 66})\n"
     ]
    },
    {
     "output_type": "execute_result",
     "data": {
      "text/plain": [
       "0.7814569536423841"
      ]
     },
     "metadata": {},
     "execution_count": 52
    }
   ],
   "source": [
    "#connecting datasets (or sessions) together\n",
    "\n",
    "nicoledataset = \"WWWWWLLWLLLWLWLWLLWLWLWWWLLWLLWLLWLWLWWLWWWLWLWWLLWLWLWWLLLWWWLLWWWLWWWWWLLWLWLWWWLWWLWLWWLWLLWWWWLLLLLLLWLLWWWLLWWLLWLLLWLWLLWLLLLWWWLLWLLLWLLWWWLLWWWLLWWLWWLWLWLLLLWWLLWWWWLLWWWWWWWWLLWLWWLLWLLWWWLLLLLLLWWLLWLLWWWWWWWLLLLLWWLWLWWWLLLLLLWWWWWLLWLLLWLWWWWWLLWLWWLWLLWLLWWLLWWLWLWWWLWWLLWWWWLWLLWWLWLLWLWLLWWLWWWWWWLLWLLWWWLLWWWWWLWLLWWWLLWLWLWLWLLLLWLWWLLWWWWWLLWWLWWWWLWLLLWWLLWLLWWLLLWLLWWLLWWWLWLLWLLWLWWLWWWWWLLWWLLWWWWLLWWLLWLWWLLWWLLWWWLLWLLWLLWLLWWWLLWWWLWWWWWLLWWLWLWWLWWLLWLLWLLWWWLLWWWLWLLLWWLLLLWWWWLLWWLLLWWLLWLWLLWWWLWWWLWWWLWWWWWWLLWWWWWWLLLLWLWWLLWLWLWLLWLLWLWLLWWLLLWLWWLWLLWWLWWLWLWLWLWWLLWLLLLWLWWLLWWLLLLLLWLLLLLWWWLLWWLWWLWWLWLLWWWLLLLWWLLWLWWLLWLWLWWWLWWWLLWLLWLLLWWWWWLLWLWLWWLWWLLWWWLLLLLWWLLWWWLWWWLLLLWLLWLLLLWLWLWWWLLWLWWWLLWLLWWWLLWWLLLLWWWLLWWLLWLLWLLWWLWWWLWWLLWWWWLLLLWLWWWWLWLLWWLLWWWLLWLWWLWLWWLWWWLLWLWWLLLLWWLLWLLWWLLLWWLWWLLLWWWLWLWWWWWWWLLWLWWLLWLWLLWLLWLWLLWWLLWWLWLLWWWWWLWLLWWLWWWLLWLLWLLWWLWLLWWWWLLWWLLWLWWLLWWWWLWLWLLWWLWLLLWWWWLWLWWLLWLWLLWLWLWWLLWLWLLWWLWLW\"\n",
    "\n",
    "# instead of datasets, you would use sessions. Don't add them togther (nicole + ned) but run the transitions code over it with a for loop. So while dataset = session 1, then while dataset = session 2. \n",
    "\n",
    "from collections import defaultdict\n",
    "transitions = defaultdict(int) #the dictionary that counts how many of each transition happened\n",
    "\n",
    "dataset = neddataset \n",
    "while dataset:\n",
    "    lossstreakstart = dataset.find(\"WLL\")\n",
    "    if lossstreakstart == -1: #so it runs until you run out of data\n",
    "        break\n",
    "    nextgame = dataset[lossstreakstart+3] #finds the first character after WLL. 0 is the W\n",
    "    transitions[nextgame] += 1\n",
    "    dataset = dataset[lossstreakstart+3:] #remove everything from the dataset up until the WLL, and make a new dataset starting from WLL\n",
    "\n",
    "dataset = nicoledataset \n",
    "while dataset:\n",
    "    lossstreakstart = dataset.find(\"WLL\")\n",
    "    if lossstreakstart == -1: #so it runs until you run out of data\n",
    "        break\n",
    "    nextgame = dataset[lossstreakstart+3] #finds the first character after WLL. 0 is the W\n",
    "    transitions[nextgame] += 1\n",
    "    dataset = dataset[lossstreakstart+3:] #remove everything from the dataset up until the WLL, and make a new dataset starting from WLL\n",
    "\n",
    "print (transitions)\n",
    "\n",
    "# percentage of them winning from the total\n",
    "transitions[\"W\"] / (transitions[\"W\"] + transitions[\"L\"])\n"
   ]
  },
  {
   "cell_type": "code",
   "execution_count": null,
   "metadata": {},
   "outputs": [],
   "source": []
  },
  {
   "cell_type": "code",
   "execution_count": 58,
   "metadata": {},
   "outputs": [
    {
     "output_type": "error",
     "ename": "SyntaxError",
     "evalue": "invalid syntax (<ipython-input-58-b42f13d1992b>, line 7)",
     "traceback": [
      "\u001b[0;36m  File \u001b[0;32m\"<ipython-input-58-b42f13d1992b>\"\u001b[0;36m, line \u001b[0;32m7\u001b[0m\n\u001b[0;31m    match 1\u001b[0m\n\u001b[0m          ^\u001b[0m\n\u001b[0;31mSyntaxError\u001b[0m\u001b[0;31m:\u001b[0m invalid syntax\n"
     ]
    }
   ],
   "source": [
    "# notes hereafter \n",
    "\n",
    "Higher\n",
    "Equal\n",
    "Lower\n",
    "\n",
    "match 1\n",
    "KDA = 3.4 \n",
    "\n",
    "match 2\n",
    "KDA = 4.3 \n",
    "\n",
    "--> H \n",
    "\n",
    "match 2\n",
    "KDA 2.5 \n",
    "\n",
    "--> L\n",
    "\n",
    "\n",
    "RQ1: Do loss streaks happen, and if so, how long do they last?\n",
    "normal & ranked together? \n",
    "By when are you most like to break out of a loss streak / How likely are you to break out of a loss streak? \n",
    "\n",
    "RQ2: Are loss streaks more likely to happen in ranked games vs normal games? \n",
    "normal vs ranked \n",
    "\n",
    "NNRNR \n",
    "\n",
    "NNN\n",
    "\n",
    "RR\n",
    "\n",
    "\n",
    "RRNR\n",
    "WLWL\n",
    "\n",
    "WL\n",
    "W\n",
    "L \n",
    "\n",
    "\n",
    "\n",
    "\n",
    "\n",
    "RQ1: loss/win streak\n",
    "\n",
    "RQ2: higher/lower streaks\n",
    "\n",
    "RQ3: compare kda with loss streak \n",
    "\n",
    "HSLHHHLLLSSSLHLLHSLLLHHHHHSLHHHLLLSSSLHLLHSLLLHHHHHSLHHHLLLSSSLHLLHSLLLHHHHHSLHHHLLLSSSLHLLHSLLLHHHH\n",
    "\n",
    "\n",
    "\n"
   ]
  },
  {
   "cell_type": "code",
   "execution_count": null,
   "metadata": {},
   "outputs": [],
   "source": [
    "\n",
    "\n",
    "\n",
    "\n",
    "\n",
    "So, let's see if I understood this correctly:\n",
    "Running that code that I used to find the loss chance of the 4th game given a WLL in your dataset \n",
    "the [lossstreakstart = dataset.find(\"WLL\")] code will give me a frequency of how often WLLL and WLLW occur in the dataset. \n",
    "If I make it dataset.find(\"WLLL\")\n",
    "\n",
    "> compare WLL with WLLL --> keep doing this going up will determine how long a loss streak for each number of loss streaks (4/5/6 loss streak)\n",
    "> compare WLL with xxx --> tiredness > cuz with tiredness it doesnt matter what the previous game results were\n",
    "\n"
   ]
  },
  {
   "cell_type": "code",
   "execution_count": null,
   "metadata": {},
   "outputs": [],
   "source": []
  }
 ]
}