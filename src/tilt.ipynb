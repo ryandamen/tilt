{
 "cells": [
  {
   "cell_type": "markdown",
   "metadata": {},
   "source": [
    "# TILT - Teemo Induced Loss of Tranquility\n",
    "A research project to study main factors in inducing tilt.\n",
    "\n",
    "ONLY LOOKS AT THE PERSON STATS THEMSELVES\n"
   ]
  },
  {
   "cell_type": "markdown",
   "metadata": {},
   "source": [
    "# Imports"
   ]
  },
  {
   "cell_type": "code",
   "execution_count": 314,
   "metadata": {},
   "outputs": [],
   "source": [
    "%matplotlib inline\n",
    "\n",
    "# from collections import defaultdict\n",
    "from datetime import datetime\n",
    "from pathlib2 import Path\n",
    "from riotwatcher import LolWatcher, ApiError\n",
    "from tenacity import retry, wait_exponential, stop_after_attempt\n",
    "\n",
    "\n",
    "# import arrow\n",
    "# import csv\n",
    "import itertools\n",
    "import datetime\n",
    "# import time\n",
    "import json\n",
    "import matplotlib.pyplot as plt\n",
    "import numpy as np\n",
    "import os\n",
    "import pandas as pd"
   ]
  },
  {
   "cell_type": "markdown",
   "metadata": {},
   "source": [
    "# Functions"
   ]
  },
  {
   "cell_type": "code",
   "execution_count": null,
   "metadata": {},
   "outputs": [],
   "source": [
    "def touch(path):\n",
    "    \"\"\"\n",
    "    Creates a file if it doesnt exists and also create any directories in the path that do not exist.\n",
    "\n",
    "    Args:\n",
    "        path (str): File path.\n",
    "    Returns:\n",
    "        None\n",
    "    \"\"\"\n",
    "    basedir = os.path.dirname(path)\n",
    "    if not os.path.exists(basedir):\n",
    "        os.makedirs(basedir)\n",
    "    with open(path, mode=\"a\"):\n",
    "        pass\n",
    "        "
   ]
  },
  {
   "cell_type": "code",
   "execution_count": null,
   "metadata": {},
   "outputs": [],
   "source": [
    "def api_key(api_key_loc):\n",
    "    \"\"\"\n",
    "    Read in the development API key from a file and checks if it is viable.\n",
    "    \n",
    "    Args:\n",
    "        credentials (str): Name of json file containing the credentials.\n",
    "    Returns:\n",
    "        api_key (str): The API key.\n",
    "    \"\"\"\n",
    "\n",
    "    # Keep requestion for a correct key or until canceled\n",
    "    while True:\n",
    "        with open(api_key_loc, \"r\") as credentials:\n",
    "            creds = json.load(credentials)\n",
    "            api_key = creds[\"dev_api_key\"]\n",
    "            lol_watcher = LolWatcher(creds[\"dev_api_key\"])\n",
    "            try:\n",
    "                # Validate API key by using it to check server status\n",
    "                lol_watcher.data_dragon.versions_all()\n",
    "                # Break if key is functional\n",
    "                break\n",
    "            except ApiError as error:\n",
    "                # If the current API key does not work input new one\n",
    "                if error.response.status_code == 403:\n",
    "                    new_api_key = input(\"API key is incorrect, enter correct key here.\")\n",
    "                    creds[\"dev_api_key\"] = new_api_key\n",
    "                    # Replace the old API key\n",
    "                    with open(api_key_loc, \"w\") as json_data:\n",
    "                        json.dump(creds, json_data)\n",
    "    return api_key"
   ]
  },
  {
   "cell_type": "code",
   "execution_count": null,
   "metadata": {},
   "outputs": [],
   "source": [
    "def adj_patch_time(reg, patch_nr=\"now\"):\n",
    "    # TODO: add time epochs instead of patch nrs\n",
    "    \"\"\"\n",
    "    Read the patch number and return the time adjusted for time shift caused by different timezones.  \n",
    "    Args:\n",
    "        reg (str): Official registered Riot server that hosts league of legends.\n",
    "        patch_nr (str): League of legends update patch number. \n",
    "            Defaults to \"now\" which is the current time.\n",
    "    Returns:\n",
    "        adj_time (long): Time in (milli)seconds following the Coordinated Universal Time (UTC) format.\n",
    "    \"\"\"\n",
    "\n",
    "    # Read patch data\n",
    "    patch_loc = proj_dir / \"data\" / \"patches.json\"\n",
    "    with open(patch_loc, \"r\") as in_file:\n",
    "        patch_data = json.load(in_file)\n",
    "    \n",
    "    # Set the base utc time\n",
    "    if patch_nr == \"now\":\n",
    "        patch_time = int(datetime.utcnow().timestamp())\n",
    "    else:\n",
    "        for patch in patch_data[\"patches\"]:\n",
    "            if patch[\"name\"] == patch_nr:\n",
    "                patch_time = patch[\"start\"]\n",
    "    # Check if patch number is valid\n",
    "    assert patch_time, f\"Patch number: {patch_nr} is unknown\"\n",
    "\n",
    "    # Set the time shift\n",
    "    try:\n",
    "        reg_shifts = patch_data[\"shifts\"][reg.upper()]\n",
    "    except KeyError:\n",
    "        # Check if region provided is valid\n",
    "        raise KeyError(f\"Region: {reg} is unknown\")\n",
    "    \n",
    "    # Calculate time adjusted for the time shift of the region\n",
    "    adj_time = patch_time + reg_shifts\n",
    "    return adj_time"
   ]
  },
  {
   "cell_type": "code",
   "execution_count": null,
   "metadata": {},
   "outputs": [],
   "source": [
    "def trans_reg(reg_abbrv):\n",
    "    \"\"\"\n",
    "    Translate a league of legends region into a region readable by riot watcher.\n",
    "    \n",
    "    Args:\n",
    "        reg_abbrv (str): Abbreviation of a official registered Riot servers that\n",
    "            hosts league of legends (e.g. euw1).\n",
    "    Returns:\n",
    "        rw_region (str): Riot Watcher region the reg_abbrv server falls under.\n",
    "    \"\"\"\n",
    "    # Look up in the list what the riot watcher region is for the given region abbreviation\n",
    "    regions_metadata = {\"br1\": \"americas\",\n",
    "                        \"eun1\": \"europe\",\n",
    "                        \"euw1\": \"europe\",\n",
    "                        \"jp1\": \"asia\",\n",
    "                        \"kr\": \"asia\",\n",
    "                        \"la1\": \"americas\",\n",
    "                        \"la2\": \"americas\",\n",
    "                        \"na1\": \"americas\",\n",
    "                        \"oc1\": \"americas\",\n",
    "                        \"tr1\": \"europe\",\n",
    "                        \"ru\": \"europe\"\n",
    "                        }\n",
    "\n",
    "    for reg, rw_reg in regions_metadata.items():\n",
    "        if reg_abbrv.lower() == reg:\n",
    "            rw_region = rw_reg\n",
    "    \n",
    "    return rw_region"
   ]
  },
  {
   "cell_type": "code",
   "execution_count": null,
   "metadata": {},
   "outputs": [],
   "source": [
    "@retry(wait=wait_exponential(multiplier=1, min=5, max=60), stop=stop_after_attempt(10))\n",
    "def get_matches(reg, pid, s_time, e_time):\n",
    "    \"\"\"\n",
    "    Retrieve match IDs from a summoner within a given timeframe.\n",
    "\n",
    "    Args:\n",
    "        reg (str): Abbreviation of a official registered Riot servers that\n",
    "            hosts league of legends (e.g. euw1).\n",
    "        pid (str): An Encrypted globally unique identifyer for a summoner.\n",
    "        s_time (long): Start of a timeframe in (milli)seconds following\n",
    "            the Coordinated Universal Time (UTC) format.\n",
    "        e_time (long): end of a timeframe in (milli)seconds following\n",
    "            the Coordinated Universal Time (UTC) format.\n",
    "    Returns:\n",
    "        matches (list): League of legends match IDs in chronological order\n",
    "            starting with the most recent match.\n",
    "    \"\"\"\n",
    "\n",
    "    # Retrieve all match ID's between two time points\n",
    "    rw_reg = trans_reg(reg)\n",
    "    matches = lol_watcher.match.matchlist_by_puuid(region=rw_reg,\n",
    "                                                   puuid=pid,\n",
    "                                                   start_time=s_time,\n",
    "                                                   count=100,\n",
    "                                                   queue=420,\n",
    "                                                   end_time=e_time)\n",
    "    \n",
    "    # Geather more match IDs in case matches exceeds the standard limit of 100\n",
    "    while len(matches) % 100 == 0 and len(matches) != 0:\n",
    "        # Geather match details of earliest match\n",
    "        match_deets = lol_watcher.match.by_id(rw_reg, matches[-1])\n",
    "        # Start time of earliest match\n",
    "        early_g_start = int(str(match_deets[\"info\"][\"gameCreation\"])[:10])\n",
    "        # Select 100 matches previous to early_g_start  \n",
    "        match_add = lol_watcher.match.matchlist_by_puuid(region=rw_reg,\n",
    "                                                         puuid=pid,\n",
    "                                                         start_time=s_time,\n",
    "                                                         count=100,\n",
    "                                                         queue=420,\n",
    "                                                         end_time=early_g_start)\n",
    "        if len(match_add) == 0:\n",
    "            break\n",
    "        else:\n",
    "            matches.extend(match_add)\n",
    "\n",
    "    return matches"
   ]
  },
  {
   "cell_type": "code",
   "execution_count": null,
   "metadata": {},
   "outputs": [],
   "source": [
    "@retry(wait=wait_exponential(multiplier=1, min=5, max=60), stop=stop_after_attempt(10))\n",
    "def geather_data(puuid, matches):\n",
    "    \"\"\"\n",
    "    Geather summoner data from a match and chronology data of the match.\n",
    "    \n",
    "    Args:\n",
    "        puuid (str): An Encrypted globally unique identifyer for a summoner.\n",
    "        matches (list): League of legends match IDs in chronological order\n",
    "                        starting with the most recent match.  \n",
    "    Returns:\n",
    "        df_matches_data (df): Data geathered from matches of a summoner.\n",
    "    \"\"\"\n",
    "    \n",
    "    game_info = [\"gameCreation\", \"gameStartTimestamp\"]\n",
    "    keep_data = [\"puuid\", \"teamPosition\", \"kills\", \"assists\", \"deaths\", \n",
    "                 \"doubleKills\", \"tripleKills\", \"quadraKills\", \"pentaKills\", \n",
    "                 \"killingSprees\", \"largestKillingSpree\", \n",
    "                 \"gameEndedInEarlySurrender\", \"teamEarlySurrendered\", \"gameEndedInSurrender\",\n",
    "                 \"neutralMinionsKilled\", \"totalMinionsKilled\", \"teamId\", \"win\", \"timePlayed\"]\n",
    "\n",
    "    col_names = [\"match_id\", \"puuid\", \"pos\", \"kills\", \"assists\", \"deaths\", \n",
    "                 \"2_kills\", \"3_kills\", \"4_kills\", \"5_kills\", \n",
    "                 \"kill_spree\", \"max_kill_spree\", \n",
    "                 \"remake\", \"pre_15_surr\", \"game_surr\",\n",
    "                 \"neutral_kills\", \"minion_kills\", \"team_id\", \"win\",\n",
    "                 \"time_played\", \"game_make\", \"game_start\"]\n",
    "      \n",
    "    comp_data = []\n",
    "    # Geather match details\n",
    "    for match_id in matches:\n",
    "        reg = match_id.split(\"_\")[0].lower()\n",
    "        match_deets = lol_watcher.match.by_id(trans_reg(reg), match_id)\n",
    "\n",
    "        # Collect time data\n",
    "        time_data = dict((key, match_deets[\"info\"][key]) for key in game_info)\n",
    "\n",
    "        # Collect summoner data       \n",
    "        for part_info in match_deets[\"info\"][\"participants\"]:\n",
    "            if part_info[\"puuid\"] == puuid:\n",
    "                filt_data = dict((key, part_info[key]) for key in keep_data)\n",
    "        match_data = {\"match_id\": match_id} | filt_data | time_data\n",
    "        comp_data.append(match_data.values())\n",
    "    \n",
    "    # Store all data in a dataframe\n",
    "    df_matches_data = pd.DataFrame(comp_data, columns=col_names)\n",
    "\n",
    "    return df_matches_data\n",
    "    "
   ]
  },
  {
   "cell_type": "code",
   "execution_count": null,
   "metadata": {},
   "outputs": [],
   "source": [
    "def filt_matches(matches_data, max_rest, min_streak):\n",
    "    \"\"\"\n",
    "    Filter matches based on rest time in between matches and number of matches played in a row.  \n",
    "    \n",
    "    Args:\n",
    "        matches_data (df): Data geathered from matches of a summoner.\n",
    "        max_rest (int): Rest time in between matches in miliseconds e.g. 3600000 = 1 hour.\n",
    "        min_streak (int): Minimum games played in a row with less then max_rest between.\n",
    "    Returns:\n",
    "        df_match_filt (df): Matches filtered based on minimum subsequent matches within\n",
    "            the maximum rest time in between the matches.\n",
    "    \"\"\"\n",
    "      \n",
    "    # Add rest time between previous and next match to base the filtering of on\n",
    "    df_match_filt = matches_data \n",
    "    df_match_filt[\"game_end\"] = df_match_filt.loc[:,[\"game_start\", \"time_played\"]].sum(axis=1)\n",
    "    df_match_filt[\"prev_game_end\"] = df_match_filt[\"game_end\"].shift(-1, fill_value=np.nan)\n",
    "    df_match_filt[\"next_game_make\"] = df_match_filt[\"game_make\"].shift(1, fill_value=np.nan)\n",
    "    df_match_filt[\"time_since_last\"] = df_match_filt[\"game_make\"] - df_match_filt[\"prev_game_end\"]\n",
    "    df_match_filt[\"time_till_next\"] = df_match_filt[\"next_game_make\"] - df_match_filt[\"game_end\"]\n",
    "    \n",
    "    # Filter for matches based on rest time below the max_rest time\n",
    "\n",
    "    # Find games that were played in a streak by grouping based on matches played subsequently\n",
    "    # Copy index to know where a empty line was inserted\n",
    "    df_match_filt[\"idx\"] = df_match_filt.index\n",
    "    # Add empty lines between groups to split them up\n",
    "    indices = np.where((df_match_filt[\"time_till_next\"] >= max_rest) | (np.isnan(df_match_filt[\"time_since_last\"].shift(-1))))[0]\n",
    "    rows_ = dict.fromkeys(df_match_filt.columns.tolist(), np.nan)\n",
    "    # Add empty lines\n",
    "    df_match_filt = pd.DataFrame(np.insert(df_match_filt.values, [x for x in indices],\n",
    "                                           values=list(rows_.values()),\n",
    "                                           axis=0),columns=rows_.keys())\n",
    "\n",
    "    # Temporarily store streak_id to know how big the groups are\n",
    "    game_streak = df_match_filt[\"idx\"].diff().ne(1).cumsum()\n",
    "    df_match_filt[\"streak_id\"] = df_match_filt.groupby(game_streak).ngroup()\n",
    "    # Filter out streaks that are lower then min_streak\n",
    "    df_match_filt = df_match_filt[df_match_filt[\"idx\"].groupby(game_streak).transform(\"count\") >= min_streak]\n",
    "    \n",
    "    # Clean up\n",
    "    # Drop all empty rows\n",
    "    df_match_filt = df_match_filt[df_match_filt[\"idx\"].notna()]\n",
    "\n",
    "    # Change all values above max_rest to nan\n",
    "    df_match_filt[\"time_since_last\"] = np.where(df_match_filt[\"time_since_last\"] >= max_rest , np.nan, df_match_filt[\"time_since_last\"])\n",
    "    \n",
    "    return df_match_filt\n"
   ]
  },
  {
   "cell_type": "code",
   "execution_count": null,
   "metadata": {},
   "outputs": [],
   "source": [
    "def get_summoner_data(regs, tiers, divs, sum_lim, p_patch, r_patch, max_rest, min_streak, sumo_data_loc):\n",
    "    \"\"\"\n",
    "    Get puuid's, tier and division, from all regions that are in ranks below master rank ((random?) above bronze?).\n",
    "    \n",
    "    Args:\n",
    "        regs (list): Official registered Riot servers that hosts league of legends.\n",
    "        tier (list): Tiers below Master rank.\n",
    "        divs (list): Divisions in roman numerals.\n",
    "        sum_lim (int): Maximum number of summoner ids to collect per region, tier and division.\n",
    "        p_patch (str): A patch prior to then r_patch's patch.\n",
    "        r_patch (str): A more recent patch then p_patch's patch.\n",
    "        max_rest (int): Rest time in between matches in miliseconds e.g. 3600000 = 1 hour.\n",
    "        min_streak (int): Minimum games played in a row with less then max_rest between.\n",
    "        sumo_data_loc (str): location to store the info on the summoner and game statistics.\n",
    "    Returns:\n",
    "        None\n",
    "    \"\"\"\n",
    "    \n",
    "    for reg, tier, div in itertools.product(regs, tiers, divs):\n",
    "        summs_div = 0\n",
    "        page_nr = 0\n",
    "        # Keep adding new summoners until the summoner limit has been reached\n",
    "        while summs_div < sum_lim:\n",
    "            page_nr += 1\n",
    "            summs = lol_watcher.league.entries(reg, \"RANKED_SOLO_5x5\", tier, div, page_nr)\n",
    "            # Look into data per summoner\n",
    "            for sumo in summs:\n",
    "                if summs_div < sum_lim:\n",
    "                    # Get PUUID\n",
    "                    pid = lol_watcher.summoner.by_id(reg, sumo[\"summonerId\"])[\"puuid\"]\n",
    "\n",
    "                    # Retrieve all match ID's between two time points\n",
    "                    match_ids = get_matches(reg, pid, adj_patch_time(reg, p_patch), adj_patch_time(reg, r_patch))\n",
    "                    # Skip summoners that have no matches in the given time frame \n",
    "                    if not match_ids:\n",
    "                        continue\n",
    "        \n",
    "                    # Geather match data of the summoner\n",
    "                    match_info = geather_data(pid, match_ids)\n",
    "\n",
    "                    # Filter matches\n",
    "                    filt_match_info = filt_matches(match_info, max_rest, min_streak)\n",
    "                    # Skip summoners that have no matches left after filtering\n",
    "                    if filt_match_info.empty:\n",
    "                        continue\n",
    "                    \n",
    "                    # Add summoner rank information \n",
    "                    cur_rank = f\"{tier}_{div}\"\n",
    "                    filt_match_info.insert (2, \"rank\", cur_rank)\n",
    "\n",
    "                    # Increase the summoner counter\n",
    "                    summs_div += 1\n",
    "                    \n",
    "                    # Store summoner data in a tsv file\n",
    "                    file_true = sumo_data_loc.exists()\n",
    "                    filt_match_info.to_csv(sumo_data_loc,\n",
    "                                           header=not file_true,\n",
    "                                           mode=\"a\" if file_true else \"w\",\n",
    "                                           sep=\"\\t\",\n",
    "                                           index=False)"
   ]
  },
  {
   "cell_type": "code",
   "execution_count": 156,
   "metadata": {},
   "outputs": [],
   "source": [
    "def prep_data(df_match_filt, out_file):\n",
    "    \"\"\"\n",
    "    Preprocess the df_match_filt, manipulation and dropping some data to make to ready for use.  \n",
    "    \n",
    "    Args:\n",
    "        df_match_filt (df): Matches filtered based on minimum subsequent matches within\n",
    "            the maximum rest time in between the matches.\n",
    "    Returns:\n",
    "        None\n",
    "    \"\"\"\n",
    "\n",
    "    # Beautification of dataframe\n",
    "    # Move information of next game to next line by reversing the dataframe. Games played first (oldest) are on top \n",
    "    df_match_prep = df_match_filt[::-1]\n",
    "    \n",
    "    # Redo the streak_id numbers\n",
    "    streak_id_ident = df_match_prep[\"streak_id\"].diff().ne(0).cumsum()\n",
    "    idx_consec = df_match_filt[\"idx\"].diff().ne(1).cumsum()\n",
    "    df_match_prep[\"streak_id\"] = df_match_prep.groupby([streak_id_ident, idx_consec]).ngroup()\n",
    "    \n",
    "    # Add informational columns\n",
    "\n",
    "    # Clean up the dataframe\n",
    "    # Dropping columns used for calculations that are not needed anymore\n",
    "    col_drop = [\"game_start\", \"game_end\", \"prev_game_end\", \"next_game_make\", \"time_till_next\", \"idx\"]\n",
    "    df_match_prep.drop(columns=col_drop, axis=1, inplace = True)\n",
    "\n",
    "    # Store the dataframe\n",
    "    df_match_prep.to_csv(out_file,\n",
    "                         mode=\"w\",\n",
    "                         sep=\"\\t\",\n",
    "                         index=False)\n",
    "    return df_match_prep"
   ]
  },
  {
   "cell_type": "markdown",
   "metadata": {},
   "source": [
    "# Global variables and settings"
   ]
  },
  {
   "cell_type": "code",
   "execution_count": null,
   "metadata": {},
   "outputs": [],
   "source": [
    "# Directory locations\n",
    "\n",
    "# Project folders\n",
    "proj_dir = Path.cwd().parent\n",
    "\n",
    "# Raw data storage\n",
    "data_dir = proj_dir / \"data\"\n",
    "\n",
    "# Out dir\n",
    "out_dir = proj_dir / \"out\"\n",
    "\n",
    "# Gobal variables\n",
    "\n",
    "# Set API key\n",
    "api_key_loc = data_dir / \"dev_api_key.json\"\n",
    "\n",
    "# Enter API key\n",
    "lol_watcher = LolWatcher(api_key(api_key_loc))\n",
    "\n",
    "# Read user settings\n",
    "settings_loc = proj_dir / \"settings\" / \"config.json\"\n",
    "with open(settings_loc, \"r\") as settings_data:\n",
    "    settings = json.load(settings_data)"
   ]
  },
  {
   "cell_type": "markdown",
   "metadata": {},
   "source": [
    "# Data collection"
   ]
  },
  {
   "cell_type": "code",
   "execution_count": null,
   "metadata": {},
   "outputs": [],
   "source": [
    "# Retrieve the summoner info of n summoners per rank (tier and division) \n",
    "\n",
    "# Remove output file if it exists\n",
    "raw_sumo_data = data_dir / \"summoner_data_raw.tsv\"\n",
    "\n",
    "while Path(raw_sumo_data).exists():\n",
    "    answer = input(\"\"\"Enter \"yes\" to overwrite file, or enter new filepath\"\"\")\n",
    "    if answer.upper() in [\"Y\", \"YES\"]:\n",
    "        os.remove(raw_sumo_data)\n",
    "    else:\n",
    "        raw_sumo_data = answer\n",
    "        touch(raw_sumo_data)\n",
    "        \n",
    "get_summoner_data(regs=settings[\"regions\"],\n",
    "                  tiers=settings[\"tiers\"],\n",
    "                  divs=settings['divisions'],\n",
    "                  sum_lim=settings['summoner_limit'],\n",
    "                  p_patch=settings[\"prior_patch\"],\n",
    "                  r_patch=settings[\"recent_patch\"],\n",
    "                  max_rest=settings[\"max_rest\"],\n",
    "                  min_streak=settings[\"min_streak\"],\n",
    "                  sumo_data_loc=raw_sumo_data)\n"
   ]
  },
  {
   "cell_type": "markdown",
   "metadata": {},
   "source": [
    "# Preprocessing"
   ]
  },
  {
   "cell_type": "code",
   "execution_count": 237,
   "metadata": {},
   "outputs": [],
   "source": [
    "# Note: If slow consider storing as a pickle object or just add this to the data collection step\n",
    "# Read in the summoner data\n",
    "sumo_info_raw_loc = data_dir / \"summoner_data_raw.tsv\"\n",
    "sumo_info_raw = pd.read_csv(sumo_info_raw_loc, sep = \"\\t\")\n",
    "\n",
    "# Preprocessing\n",
    "sumo_data_loc = out_dir / \"prep_sumo_data.tsv\"\n",
    "sumo_info = prep_data(sumo_info_raw, sumo_data_loc)\n",
    "\n",
    "sumo_info.head()\n",
    "\n",
    "# TODO: Remove this after the data has been geatehr again after 21-6 (this has been moved to filtering so wont work in prep)\n",
    "# Change all values above max_rest to nan\n",
    "sumo_info[\"time_since_last\"] = np.where(sumo_info[\"time_since_last\"] >= 3600000 , np.nan, sumo_info[\"time_since_last\"])\n",
    "    "
   ]
  },
  {
   "cell_type": "markdown",
   "metadata": {},
   "source": [
    "# Data Analysis\n",
    "Main question when should you stop playing and take a chill pill\n"
   ]
  },
  {
   "cell_type": "markdown",
   "metadata": {},
   "source": [
    "## Base lines"
   ]
  },
  {
   "cell_type": "code",
   "execution_count": 449,
   "metadata": {},
   "outputs": [
    {
     "data": {
      "image/png": "[encoded data removed]",
      "text/plain": [
       "<Figure size 432x288 with 1 Axes>"
      ]
     },
     "metadata": {
      "needs_background": "light"
     },
     "output_type": "display_data"
    }
   ],
   "source": [
    "# Calculate average win rate per rank\n",
    "df_win_rank = sumo_info.groupby(\"rank\")[\"win\"].mean().reset_index()\n",
    "\n",
    "# Plot the graph\n",
    "ax = df_win_rank.plot(x=\"rank\",\n",
    "                 y=\"win\",\n",
    "                 kind=\"bar\",\n",
    "                 title=\"Win rate per rank\",\n",
    "                 ylim=[0, 1],\n",
    "                 legend=False,\n",
    "                 xlabel=\"Rank\",\n",
    "                 ylabel=\"Win rate\")\n",
    "# Add values to bar for better visibility\n",
    "ax.bar_label(ax.containers[0], label_type=\"edge\")\n",
    "# Rotate X_axis label 45 degree\n",
    "plt.xticks(rotation=45)\n",
    "# Add horizontal line at the 50% winrate\n",
    "plt.axhline(y=0.5, linestyle=\"dashed\", color=\"r\")\n",
    "plt.show()\n"
   ]
  },
  {
   "cell_type": "markdown",
   "metadata": {},
   "source": [
    "## When do players play?"
   ]
  },
  {
   "cell_type": "code",
   "execution_count": 347,
   "metadata": {},
   "outputs": [
    {
     "data": {
      "image/png": "[encoded data removed]",
      "text/plain": [
       "<Figure size 432x288 with 1 Axes>"
      ]
     },
     "metadata": {
      "needs_background": "light"
     },
     "output_type": "display_data"
    }
   ],
   "source": [
    "# Games played during each hour of the day\n",
    "\n",
    "# Retrieve hour of the day from epoch\n",
    "sumo_info[\"hour\"] = pd.to_datetime(sumo_info[\"game_make\"], unit = \"ms\").dt.hour\n",
    "# Create bins\n",
    "time_bins = np.arange(0, 25, 1) # 24 hours\n",
    "# Labels for bins\n",
    "labels = []\n",
    "for time in time_bins:\n",
    "    labels.append(f\"{time_bins[time]}_{time_bins[time] + 1}\") \n",
    "labels = labels[0:-1]\n",
    "# Bin the data\n",
    "sumo_info[\"time_bins\"] = pd.cut(sumo_info[\"hour\"], bins=time_bins, labels=labels, include_lowest=True)\n",
    "\n",
    "# Calculate how many people play at what hour of the day\n",
    "df_time_play = sumo_info.groupby([\"time_bins\"]).size().to_frame(\"size\").reset_index()\n",
    "\n",
    "# Plot the graph\n",
    "ax = df_time_play.plot(x=\"time_bins\",\n",
    "                  y=\"size\",\n",
    "                  kind=\"bar\",\n",
    "                  title=\"Games played per hour of the day\",\n",
    "                  legend=False,\n",
    "                  xlabel=\"Hour\",\n",
    "                  ylabel=\"Games Played\")\n",
    "# Rotate X_axis label 45 degree\n",
    "plt.xticks(rotation=45)\n",
    "plt.show()"
   ]
  },
  {
   "cell_type": "markdown",
   "metadata": {},
   "source": [
    "## Effect of rest"
   ]
  },
  {
   "cell_type": "code",
   "execution_count": 427,
   "metadata": {},
   "outputs": [
    {
     "data": {
      "image/png": "[encoded data removed]",
      "text/plain": [
       "<Figure size 432x288 with 1 Axes>"
      ]
     },
     "metadata": {
      "needs_background": "light"
     },
     "output_type": "display_data"
    }
   ],
   "source": [
    "# Rest time vs win rate plot\n",
    "\n",
    "# Define time bins\n",
    "min_time = int(sumo_info.time_since_last.min())\n",
    "max_time = int(sumo_info.time_since_last.max())\n",
    "block = 300000 # minutes of rest * 60000 = epoch minutes\n",
    "rest_bins = np.append(np.arange(min_time, max_time, block), max_time)\n",
    "# Labels for bins\n",
    "labels = []\n",
    "for time in rest_bins:\n",
    "    time_1 = np.around(time / 60000, decimals=1)\n",
    "    time_2 = np.around((time + block) / 60000, decimals=1)\n",
    "    labels.append(f\"{time_1}_{time_2}\") \n",
    "labels = labels[0:-1]\n",
    "# Bin the data\n",
    "sumo_info[\"rest_bins\"] = pd.cut(sumo_info[\"time_since_last\"], rest_bins, labels=labels, include_lowest=True)\n",
    "\n",
    "# Calculate the mean win rate per bin\n",
    "df_time_win = sumo_info.groupby(\"rest_bins\")[\"win\"].mean().reset_index()\n",
    "\n",
    "df_time_win\n",
    "# Plot the graph\n",
    "# Change the X ticks\n",
    "levels = len(sumo_info[\"rest_bins\"].unique())\n",
    "x_ticks = np.arange(0, levels + 1, 1)\n",
    "# TODO: Error bars use yerr = error,\n",
    "# error = sumo_info.groupby(\"rest_bins\")[\"win\"].std()\n",
    "# Plot\n",
    "ax = df_time_win.plot(x=\"rest_bins\",\n",
    "                 y=\"win\",\n",
    "                 kind=\"line\",\n",
    "                 title=\"Effect of rest on winrate\",\n",
    "                 legend=False,\n",
    "                 xticks=x_ticks,\n",
    "                 xlim=[-1, 11],\n",
    "                 ylim=[0.4, 0.6],\n",
    "                 xlabel=\"Rest in minutes\",\n",
    "                 ylabel=\"Winrate\")\n",
    "# Rotate X_axis label 45 degree\n",
    "plt.xticks(rotation=90)\n",
    "# Add horizontal line at the 50% winrate\n",
    "plt.axhline(y=0.5, linestyle=\"dashed\", color=\"r\")\n",
    "plt.show()"
   ]
  },
  {
   "cell_type": "markdown",
   "metadata": {},
   "source": [
    "## Tilted or in the zone?"
   ]
  },
  {
   "cell_type": "code",
   "execution_count": 340,
   "metadata": {},
   "outputs": [
    {
     "data": {
      "image/png": "[encoded data removed]",
      "text/plain": [
       "<Figure size 432x288 with 1 Axes>"
      ]
     },
     "metadata": {
      "needs_background": "light"
     },
     "output_type": "display_data"
    }
   ],
   "source": [
    "# Win rate during points a win or lose streak\n",
    "# Calculate the number of games won and lost in succesion per groep of games played within max_rest time of one another \n",
    "game_streak = sumo_info[\"streak_id\"].diff().ne(0).cumsum()\n",
    "sumo_info[\"consec_wl\"] = sumo_info.win.groupby((sumo_info.win != sumo_info.groupby(game_streak)[\"win\"].shift()).cumsum()).cumcount()\n",
    "# Turn streak values negative if the game ended in a loss\n",
    "sumo_info.loc[sumo_info.loc[:, \"win\"] == False, \"consec_wl\":] *= -1\n",
    "# Add if the next game is a win or lose\n",
    "sumo_info['win_next'] = sumo_info.groupby(game_streak)[\"win\"].shift(-1, fill_value=np.nan)\n",
    "# Calculate mean win rate\n",
    "df_streak_win = sumo_info.groupby([\"consec_wl\"])[\"win_next\"].mean().reset_index()\n",
    "# Optional: Calculate mean win rate taking into account their rank. Need to adjut plot then \n",
    "# df_streak_win = sumo_info.groupby([\"rank\", \"consec_wl\"])[\"win_next\"].mean().reset_index()\n",
    "\n",
    "# Plot the graph\n",
    "# Change the X ticks\n",
    "min_num = sumo_info[\"consec_wl\"].min()\n",
    "max_num = sumo_info[\"consec_wl\"].max()\n",
    "x_ticks = np.append(np.arange(min_num, max_num, 1), max_num)\n",
    "# Plot\n",
    "ax = df_streak_win.plot(x=\"consec_wl\",\n",
    "                        y=\"win_next\",\n",
    "                        kind=\"line\",\n",
    "                        title=\"Effect of win/lose streak\",\n",
    "                        legend=True,\n",
    "                        xticks=x_ticks,\n",
    "                        # ylim=[0, 1],\n",
    "                        xlabel=\"consecutive wins or losses\",\n",
    "                        ylabel=\"Winrate of next game\")\n",
    "# Add horizontal line at the 50% winrate\n",
    "plt.axhline(y=0.5, linestyle=\"dashed\", color=\"r\")\n",
    "plt.show()"
   ]
  },
  {
   "cell_type": "code",
   "execution_count": 453,
   "metadata": {},
   "outputs": [
    {
     "data": {
      "image/png": "[encoded data removed]",
      "text/plain": [
       "<Figure size 432x288 with 1 Axes>"
      ]
     },
     "metadata": {
      "needs_background": "light"
     },
     "output_type": "display_data"
    }
   ],
   "source": [
    "# Win rates based on played games in a streak\n",
    "# Calculate the average win rate of each players first second third etc. game\n",
    "sumo_info[\"game_nr\"] = sumo_info.groupby(\"streak_id\")[\"puuid\"].rank(method=\"first\", ascending=True)\n",
    "df_win_game =  sumo_info.groupby([\"game_nr\"])[\"win\"].mean().reset_index()\n",
    "\n",
    "# Plot the graph\n",
    "# Change the X ticks\n",
    "max_num = df_win_game[\"game_nr\"].max()\n",
    "x_ticks = np.arange(1, max_num + 1, 1)\n",
    "# Plot\n",
    "ax = df_win_game.plot(x=\"game_nr\",\n",
    "                      y=\"win\",\n",
    "                      kind=\"line\",\n",
    "                      title=\"Effect of playing consecutive games\",\n",
    "                      legend=True,\n",
    "                      xticks=x_ticks,\n",
    "                      ylim=[0, 1],\n",
    "                      xlabel=\"Games played\",\n",
    "                      ylabel=\"Winrate\")\n",
    "# Add horizontal line at the 50% winrate\n",
    "plt.axhline(y=0.5, linestyle=\"dashed\", color=\"r\")\n",
    "plt.show()\n"
   ]
  },
  {
   "cell_type": "code",
   "execution_count": null,
   "metadata": {},
   "outputs": [],
   "source": [
    "# Future plans:\n",
    "# define good and bad stats using medians/average normal dist? \n",
    "# Win rate in next game after losing with bad stats\n",
    "# Win rate in next game after losing with good stats\n",
    "# Win rate in next game after winning with bad stats\n",
    "# Win rate in next game after winning with good stats\n"
   ]
  }
 ],
 "metadata": {
  "interpreter": {
   "hash": "86fe447469a8d852eea4b65c790d87be74d102a869903b8cc8b4ce651f2c3448"
  },
  "kernelspec": {
   "display_name": "Python 3.10.4 ('tilt')",
   "language": "python",
   "name": "python3"
  },
  "language_info": {
   "codemirror_mode": {
    "name": "ipython",
    "version": 3
   },
   "file_extension": ".py",
   "mimetype": "text/x-python",
   "name": "python",
   "nbconvert_exporter": "python",
   "pygments_lexer": "ipython3",
   "version": "3.10.4"
  },
  "orig_nbformat": 2
 },
 "nbformat": 4,
 "nbformat_minor": 2
}
