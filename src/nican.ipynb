{
 "cells": [
  {
   "cell_type": "markdown",
   "metadata": {},
   "source": [
    "# TILT - Teemo Induced Loss of Tranquility\n",
    "A research insentive to study main factors in inducing tilt.\n"
   ]
  },
  {
   "cell_type": "markdown",
   "metadata": {},
   "source": [
    "# Imports"
   ]
  },
  {
   "cell_type": "code",
   "execution_count": 1,
   "metadata": {},
   "outputs": [],
   "source": [
    "from collections import defaultdict\n",
    "from pathlib2 import Path\n",
    "from riotwatcher import LolWatcher, ApiError\n",
    "\n",
    "\n",
    "# import arrow\n",
    "import csv\n",
    "import itertools\n",
    "import datetime\n",
    "import time\n",
    "import json\n",
    "import numpy as np\n",
    "import pandas as pd"
   ]
  },
  {
   "cell_type": "markdown",
   "metadata": {},
   "source": [
    "# Functions"
   ]
  },
  {
   "cell_type": "code",
   "execution_count": 2,
   "metadata": {},
   "outputs": [],
   "source": [
    "  \n",
    "def api_key(api_key_loc):\n",
    "    \"\"\"\n",
    "    Read in the development API key from a file and checks if it is viable.\n",
    "    \n",
    "    Args:\n",
    "        credentials (str): Name of json file containing the credentials.\n",
    "    Returns:\n",
    "        api_key (str): The API key.\n",
    "    \"\"\"\n",
    "\n",
    "    while True:\n",
    "        with open(api_key_loc, \"r\") as json_data:\n",
    "            creds = json.load(json_data)\n",
    "            api_key = creds[\"dev_api_key\"]\n",
    "            lol_watcher = LolWatcher(creds[\"dev_api_key\"])\n",
    "            try:\n",
    "                # Validate API key by using it to check server status\n",
    "                lol_watcher.lol_status.shard_data(\"euw1\")\n",
    "                # Break if key is functional\n",
    "                break\n",
    "            except ApiError as error:\n",
    "                # If the current API key does not work input new one\n",
    "                if error.response.status_code == 403:\n",
    "                    new_api_key = input(\"API key is incorrect, enter correct key here.\")\n",
    "                    creds[\"dev_api_key\"] = new_api_key\n",
    "                    # Replace the old API key\n",
    "                    with open(api_key_loc, \"w\") as json_data:\n",
    "                        json.dump(creds, json_data)\n",
    "    return api_key"
   ]
  },
  {
   "cell_type": "code",
   "execution_count": 3,
   "metadata": {},
   "outputs": [],
   "source": [
    "def trans_reg(reg_abbrv):\n",
    "    \"\"\"\n",
    "    Translate a league of legends region into a region readable by riot watcher.\n",
    "    \n",
    "    Args:\n",
    "        reg_abbrv (str): Abbreviation of a official registered Riot servers that\n",
    "                         hosts league of legends (e.g. euw1).\n",
    "    Returns:\n",
    "        rw_region (str): Riot Watcher region the reg_abbrv server falls under.\n",
    "    \"\"\"\n",
    "    # Look up in the list what the riot watcher region is for the given region abbreviation\n",
    "    regions_metadata = {\"br1\": \"americas\",\n",
    "                        \"eun1\": \"europe\",\n",
    "                        \"euw1\": \"europe\",\n",
    "                        \"jp1\": \"asia\",\n",
    "                        \"kr\": \"asia\",\n",
    "                        \"la1\": \"americas\",\n",
    "                        \"la2\": \"americas\",\n",
    "                        \"na1\": \"americas\",\n",
    "                        \"oc1\": \"americas\",\n",
    "                        \"tr1\": \"europe\",\n",
    "                        \"ru\": \"europe\"\n",
    "                        }\n",
    "\n",
    "    for reg, rw_reg in regions_metadata.items():\n",
    "        if reg_abbrv.lower() == reg:\n",
    "            rw_region = rw_reg\n",
    "    \n",
    "    return rw_region"
   ]
  },
  {
   "cell_type": "code",
   "execution_count": 4,
   "metadata": {},
   "outputs": [],
   "source": [
    "def get_matches(reg, pid, s_time, e_time):\n",
    "    \"\"\"\n",
    "    Retrieve match IDs from a player within a given timeframe.\n",
    "\n",
    "    Args:\n",
    "        reg (str): Abbreviation of a official registered Riot servers that\n",
    "                   hosts league of legends (e.g. euw1).\n",
    "        pid (str): An Encrypted globally unique identifyer for a player.\n",
    "        s_time (long): Start of a timeframe in (milli)seconds following\n",
    "                       the Coordinated Universal Time (UTC) format.\n",
    "        e_time (long): end of a timeframe in (milli)seconds following\n",
    "                       the Coordinated Universal Time (UTC) format.\n",
    "    Returns:\n",
    "        matches (list): League of legends match IDs in chronological order\n",
    "                        starting with the most recent match.\n",
    "    \"\"\"\n",
    "\n",
    "    # Retrieve all match ID's between two time points \n",
    "    matches = lol_watcher.match.matchlist_by_puuid(region=trans_reg(reg),\n",
    "                                                   puuid=pid,\n",
    "                                                   start_time=s_time,\n",
    "                                                   end_time=e_time,\n",
    "                                                   count=100)\n",
    "    \n",
    "    # Geather more match IDs in case matches exceeds the standard limit of 100\n",
    "    while len(matches) % 100 == 0 and len(matches) != 0:\n",
    "        # Geather match details of earliest match\n",
    "        match_deets = lol_watcher.match.by_id(trans_reg(reg), matches[-1])\n",
    "        # Start time of earliest match\n",
    "        early_g_start = int(str(match_deets[\"info\"]['gameCreation'])[:10])\n",
    "        # Select 100 matches previous to early_g_start  \n",
    "        match_add = lol_watcher.match.matchlist_by_puuid(region=trans_reg(reg),\n",
    "                                                         puuid=pid,\n",
    "                                                         start_time=s_time,\n",
    "                                                         end_time=early_g_start,\n",
    "                                                         count=100)\n",
    "        if len(match_add) == 0:\n",
    "            break\n",
    "        else:\n",
    "            matches.extend(match_add)\n",
    "\n",
    "    return matches"
   ]
  },
  {
   "cell_type": "code",
   "execution_count": 96,
   "metadata": {},
   "outputs": [],
   "source": [
    "def geather_data(puuid, reg, matches):\n",
    "    \"\"\"\n",
    "    Geather player data from a match and chronology data of the match.\n",
    "    \n",
    "    Args:\n",
    "        puuid (str): An Encrypted globally unique identifyer for a player.\n",
    "        reg (str): Abbreviation of a official registered Riot servers that host league of legends (e.g. euw1).\n",
    "        matches (list): League of legends match IDs in chronological order\n",
    "                        starting with the most recent matches.  \n",
    "    Returns:\n",
    "        matches_data (df): Data geathered from all provided matches  \n",
    "    \"\"\"\n",
    "    \n",
    "    time_info = [\"gameCreation\", \"gameStartTimestamp\", \"gameDuration\"]\n",
    "    keep_data = [\"individualPosition\", \"role\", \"teamPosition\", \"lane\", \"kills\", \"assists\", \"deaths\", \n",
    "                 \"doubleKills\", \"tripleKills\", \"quadraKills\", \"pentaKills\", \n",
    "                 \"killingSprees\", \"largestKillingSpree\", \n",
    "                 \"teamEarlySurrendered\", \"gameEndedInEarlySurrender\", \"gameEndedInSurrender\",\n",
    "                 \"neutralMinionsKilled\", \"totalMinionsKilled\", \"teamId\", \"win\"]\n",
    "\n",
    "    col_names = [\"match_id\", \"game_make\", \"game_start\", \"game_dur\", \n",
    "                \"indiv_pos\", \"role\", \"team_pos\", \"lane\", \"kills\", \"assists\", \"deaths\", \n",
    "                 \"2_kills\", \"3_kills\", \"4_kills\", \"5_kills\", \n",
    "                 \"kill_spree\", \"max_kill_spree\", \n",
    "                 \"early_surr_try\", \"early_surr\", \"game_surr\",\n",
    "                 \"neutral_kills\", \"mini_kills\", \"team_id\", \"win\"]\n",
    "\n",
    "    \n",
    "    \n",
    "    comp_data = []\n",
    "    # Geather match details\n",
    "    for match_id in matches:\n",
    "        match_deets = lol_watcher.match.by_id(trans_reg(reg), match_id)        \n",
    "        # Time data\n",
    "        time_data = dict((key, match_deets[\"info\"][key]) for key in time_info)\n",
    "        # Player data       \n",
    "        for part_info in match_deets[\"info\"][\"participants\"]:\n",
    "            if part_info[\"puuid\"] == puuid:\n",
    "                filt_data = dict((key, part_info[key]) for key in keep_data)\n",
    "        match_data = {\"match_id\": match_id} | time_data | filt_data\n",
    "        comp_data.append(match_data.values())\n",
    "    \n",
    "    # Store all data in a dataframe\n",
    "    matches_data = pd.DataFrame(comp_data, columns=col_names)\n",
    "\n",
    "    return matches_data\n",
    "    "
   ]
  },
  {
   "cell_type": "code",
   "execution_count": 155,
   "metadata": {},
   "outputs": [],
   "source": [
    "def calc_rest_time(matches_data):\n",
    "    \"\"\"\n",
    "    Calculate the time in between matches.\n",
    "    \n",
    "    Args:\n",
    "        reg (str): Abbreviation of a official registered Riot servers that host league of legends (e.g. euw1).\n",
    "        matches (list): League of legends match IDs in chronological order\n",
    "                        starting with the most recent matches.  \n",
    "    Returns:\n",
    "        rest_times (list): Determine from multiple matches the milliseconds between\n",
    "                           the begin of champion select and the end of the previous match.\n",
    "    \"\"\"\n",
    "    # time_info = matches_data[[\"game_make\", \"game_start\", \"game_dur\"]]\n",
    "\n",
    "    # move this to the filter block?\n",
    "    matches_data[\"game_end\"] = matches_data.loc[:,[\"game_start\", \"game_dur\"]].sum(axis=1)\n",
    "    matches_data[\"prev_game_make\"] = matches_data[\"game_make\"].shift(-1, fill_value=0)\n",
    "    matches_data[\"rest_time\"] = matches_data[\"game_end\"] - matches_data[\"prev_game_make\"]\n",
    "    print(matches_data)\n",
    "\n",
    "    # print(time_info)\n",
    "    # print(time_info.loc[1:])\n",
    "    # print(time_info[1:])\n",
    "    # time_info = []\n",
    "    # # Geather start and duration of each game\n",
    "    # for match in matches:\n",
    "    #     match_deets = lol_watcher.match.by_id(trans_reg(reg), match)\n",
    "    #     time_info.append([match_deets[\"info\"][\"gameCreation\"],\n",
    "    #                       match_deets[\"info\"][\"gameStartTimestamp\"],\n",
    "    #                       match_deets[\"info\"][\"gameDuration\"]])\n",
    "\n",
    "    # rest_times = []\n",
    "    # # Substract the end of the previous match from the current matches start\n",
    "    # for match, prev_match in zip(time_info, time_info.loc[1:]):\n",
    "    #     print(match, prev_match)\n",
    "    #     # rest_times.append(match[\"gameCreation\"] - (prev_match[\"gameStartTimestamp\"] + prev_match[\"gameDuration\"]))\n",
    "    #     # rest_times.append(match[0] - (prev_match[1] + prev_match[2]))\n",
    "    # # Oldest game has no previous match and thus a None is added\n",
    "    # rest_times.append(None)\n",
    "    \n",
    "    # return rest_times"
   ]
  },
  {
   "cell_type": "code",
   "execution_count": 156,
   "metadata": {},
   "outputs": [
    {
     "name": "stdout",
     "output_type": "stream",
     "text": [
      "          match_id      game_make     game_start  game_dur indiv_pos     role  \\\n",
      "0  EUN1_2923232971  1631108276000  1631108388636   1754772   UTILITY  SUPPORT   \n",
      "1  EUN1_2923257322  1631104125000  1631104223486   1594271   UTILITY  SUPPORT   \n",
      "2  EUN1_2923064617  1631100078000  1631100113446   1514201   UTILITY  SUPPORT   \n",
      "3  EUN1_2923101349  1631097553000  1631097685770   1017875   UTILITY  SUPPORT   \n",
      "\n",
      "  team_pos    lane  kills  assists  ...  early_surr_try  early_surr  \\\n",
      "0  UTILITY  BOTTOM      6       10  ...           False       False   \n",
      "1  UTILITY  BOTTOM      1        7  ...           False       False   \n",
      "2  UTILITY  BOTTOM      2        4  ...           False       False   \n",
      "3  UTILITY    NONE      5        4  ...           False       False   \n",
      "\n",
      "   game_surr  neutral_kills  mini_kills  team_id    win       game_end  \\\n",
      "0      False              4          48      200   True  1631110143408   \n",
      "1      False              0          40      200  False  1631105817757   \n",
      "2      False              2          53      200   True  1631101627647   \n",
      "3       True              0          64      100  False  1631098703645   \n",
      "\n",
      "   prev_game_make      rest_time  \n",
      "0   1631104125000        6018408  \n",
      "1   1631100078000        5739757  \n",
      "2   1631097553000        4074647  \n",
      "3               0  1631098703645  \n",
      "\n",
      "[4 rows x 27 columns]\n"
     ]
    }
   ],
   "source": [
    "matches = [\"EUN1_2923232971\", \"EUN1_2923257322\", \"EUN1_2923064617\", \"EUN1_2923101349\"]\n",
    "data = geather_data(\"WdfvM1gFWely8WNUtqV8ThlaO469Fu8D82jdDh4_4VRzdLqoFxVIEmU3crVeRjrYyPy0cY0c3CV8aw\", \"eun1\", matches)\n",
    "calc_rest_time(data)"
   ]
  },
  {
   "cell_type": "code",
   "execution_count": 7,
   "metadata": {},
   "outputs": [],
   "source": [
    "def filt_matches(reg, match_ids, max_rest, min_streak):\n",
    "    \"\"\"\n",
    "    Filter matches based on rest time in between matches and number of matches played in a row.  \n",
    "    \n",
    "    Args:\n",
    "        reg (str): Abbreviation of a official registered Riot servers that hosts league of legends (e.g. euw1).\n",
    "        match_ids (list): League of legends match IDs in chronological order\n",
    "                          starting with the most recent matches.  \n",
    "        max_rest (int): Rest time in between matches in miliseconds e.g. 3600000 = 1 hour.\n",
    "        min_streak (int): Minimum games played in a row with less then max_rest_time between   \n",
    "    Returns:\n",
    "        df_match_filt (df): Matches that ?????????????????\n",
    "    \"\"\"\n",
    "\n",
    "    # TODO: reg can be read from match ID\n",
    "    # Store the match IDs and the rest times in a dataframe\n",
    "    df_match_filt = pd.DataFrame(list(zip(match_ids, calc_rest_time(reg, match_ids))), columns=[\"match_id\", \"rest_time\"])\n",
    "\n",
    "    # Filter for matches of interrest\n",
    "    # Store if the game ID should be kept if rest time is below max_rest\n",
    "    df_match_filt['keep'] = df_match_filt[\"rest_time\"] <= max_rest\n",
    "    # Grouping based on matches played subsequently \n",
    "    subseq_true = df_match_filt['keep'].diff().ne(0).cumsum()\n",
    "    # Drop streaks that are lower then min_streak\n",
    "    df_match_filt = df_match_filt[df_match_filt['keep'].groupby(subseq_true).transform(\"count\") >= min_streak]\n",
    "    # Drop matches with rest times above max_rest \n",
    "    df_match_filt = df_match_filt[~(df_match_filt[\"keep\"] == 0.0)]\n",
    "\n",
    "    # Add the streak id to the df_match_filt\n",
    "    df_match_filt[\"streak_id\"] = df_match_filt.groupby(subseq_true).grouper.group_info[0]\n",
    "\n",
    "    # Remove the keep column \n",
    "    df_match_filt.drop(\"keep\", axis=1, inplace = True)\n",
    "    \n",
    "    return df_match_filt\n"
   ]
  },
  {
   "cell_type": "code",
   "execution_count": 8,
   "metadata": {},
   "outputs": [],
   "source": [
    "\n",
    "def get_summoners(regs, tiers, divs, sum_lim, s_time, e_time):\n",
    "    \"\"\"\n",
    "    Get puuid's, tier and division, from all regions that are in ranks below master rank ((random?) above bronze?).\n",
    "    \n",
    "    Args:\n",
    "        regs (list): Official registered Riot servers that hosts league of legends.\n",
    "        tier (list): Tiers below master ranks.\n",
    "        divs (list): Divisions in roman numerals.\n",
    "        sum_lim (int): Maximum number of summoner ids to collect per region, tier and division\n",
    "        s_time (long): Start of a timeframe in (milli)seconds following\n",
    "                       the Coordinated Universal Time (UTC) format.\n",
    "        e_time (long): end of a timeframe in (milli)seconds following\n",
    "                       the Coordinated Universal Time (UTC) format.\n",
    "    Returns:\n",
    "        sumo_info (list): Summoners puuid, region, tier, and division.\n",
    "    \"\"\"\n",
    "    \n",
    "    summs_info=[]\n",
    "    # for reg, tier, div in itertools.product(regs, tiers, divs): # real line change what we want in teh settings file\n",
    "    for reg, tier, div in itertools.product(regs[0:1], tiers[1:2], divs[0:1]): # test line\n",
    "        # print(reg, tier, div) # TODO: remove me later\n",
    "        summs_div = 0\n",
    "        page_nr = 0\n",
    "        # Keep adding new summoners until the summoner limit has been reached\n",
    "        while summs_div < sum_lim:\n",
    "            page_nr += 1\n",
    "            summs = lol_watcher.league.entries(reg, queue, tier, div, page_nr)\n",
    "            # Look into data per summoner\n",
    "            for sumo in summs:\n",
    "                if summs_div < sum_lim:\n",
    "                    # Get puuid\n",
    "                    pid = lol_watcher.summoner.by_id(reg, sumo[\"summonerId\"])[\"puuid\"]\n",
    "                    # Retrieve all match ID's between two time points\n",
    "                    match_ids = get_matches(reg, pid, s_time, e_time)\n",
    "                    \n",
    "                    # TODO: could fit this into a try accept loop \n",
    "                    # Skip players that have no matches in the given time frame \n",
    "                    if len(match_ids) == 0:\n",
    "                        continue\n",
    "        \n",
    "                    # GEATHER DATA FUNCTION\n",
    "                    \n",
    "                    # Filter matches\n",
    "                    # TODO: these things you filter on should be in settings \n",
    "                    match_info = filt_matches(reg, match_ids, 3600000, 3)\n",
    "\n",
    "                    # Store the info \n",
    "                    # TODO: Think of a smart dictionary/ list / dataframe solution for this\n",
    "                    summs_info.append([pid, reg, tier, div, match_info]) # add time and change len to actual matches\n",
    "                    summs_div += 1\n",
    "            if summs_div == sum_lim:\n",
    "                break\n",
    "\n",
    "    return(summs_info)\n"
   ]
  },
  {
   "cell_type": "code",
   "execution_count": 9,
   "metadata": {},
   "outputs": [],
   "source": [
    "# currently only used to check time\n",
    "def convert_time(utc_time):\n",
    "    \"\"\"\n",
    "    Converts UTC to GMT time.\n",
    "\n",
    "    Args:\n",
    "        time (long): Time in (milli)seconds following the Coordinated Universal Time (UTC) format.\n",
    "    Returns:\n",
    "        hr_time (str): Time in Greenwich Mean Time format (Year-Month-Day Hour:Minute:Second). \n",
    "    \"\"\"\n",
    "\n",
    "    time_in_secs = int(str(utc_time)[:10])\n",
    "    gmt_time = str(datetime.datetime.fromtimestamp(time_in_secs))\n",
    "    \n",
    "    return(gmt_time)"
   ]
  },
  {
   "cell_type": "markdown",
   "metadata": {},
   "source": [
    "# Main"
   ]
  },
  {
   "cell_type": "code",
   "execution_count": 10,
   "metadata": {},
   "outputs": [],
   "source": [
    "# Directory locations\n",
    "\n",
    "# Project folders\n",
    "proj_dir = Path.cwd().parent\n",
    "\n",
    "# Raw data storage\n",
    "data_dir = proj_dir / \"data\"\n",
    "\n",
    "# Out dir\n",
    "out_dir = proj_dir / \"out\""
   ]
  },
  {
   "cell_type": "code",
   "execution_count": 11,
   "metadata": {},
   "outputs": [],
   "source": [
    "# Gobal variables\n",
    "\n",
    "# Set API key\n",
    "api_key_loc = data_dir / \"dev_api_key.json\"\n",
    "\n",
    "# Enter API key\n",
    "lol_watcher = LolWatcher(api_key(api_key_loc))\n",
    "\n",
    "# Read user settings \n",
    "settings_loc = proj_dir / \"settings\" / \"config.json\"\n",
    "with open(settings_loc, \"r\") as settings_data:\n",
    "    settings = json.load(settings_data)\n",
    "    # Min durtion of draft_pick in milliseconds, according to https://leagueoflegends.fandom.com/wiki/Draft_Pick 10-02-2022\n",
    "    min_lobby_time = settings[\"min_lobby_time\"]\n",
    "    # Queue type of interrest\n",
    "    queue = settings[\"queue\"]\n",
    "    # Official registered Riot servers of interrest\n",
    "    regs = settings[\"regions\"]\n",
    "    # Tiers of interrest, below Master rank\n",
    "    tiers = settings[\"tiers\"]\n",
    "    # Divisions of interrest, in roman numerals\n",
    "    divs = settings['divisions']\n",
    "\n",
    "\n",
    "\n",
    "    # things that could be removed if unused    \n",
    "    # summoner name (not case sensitive)\n",
    "    prota = settings[\"protagonist\"]"
   ]
  },
  {
   "cell_type": "markdown",
   "metadata": {},
   "source": [
    "### Collect summoners"
   ]
  },
  {
   "cell_type": "code",
   "execution_count": 13,
   "metadata": {},
   "outputs": [
    {
     "name": "stdout",
     "output_type": "stream",
     "text": [
      "[['WdfvM1gFWely8WNUtqV8ThlaO469Fu8D82jdDh4_4VRzdLqoFxVIEmU3crVeRjrYyPy0cY0c3CV8aw', 'eun1', 'BRONZE', 'I',            match_id  rest_time  streak_id\n",
      "2   EUN1_2923232971  2458243.0          0\n",
      "3   EUN1_2923257322  2497353.0          0\n",
      "4   EUN1_2923064617  1374355.0          0\n",
      "5   EUN1_2923101349  3111249.0          0\n",
      "8   EUN1_2894416345   167890.0          1\n",
      "9   EUN1_2894412842   426965.0          1\n",
      "10  EUN1_2894387447   264884.0          1\n",
      "11  EUN1_2894352050   425159.0          1\n",
      "26  EUN1_2883507364   296988.0          2\n",
      "27  EUN1_2883413209  3047541.0          2\n",
      "28  EUN1_2883370200  1033270.0          2\n",
      "29  EUN1_2883312203   377635.0          2]]\n"
     ]
    }
   ],
   "source": [
    "# Retrieve the summoner info of X players\n",
    "# move start end time to settings\n",
    "s_time = 1609920000\n",
    "e_time = 1631170800\n",
    "summs_info = get_summoners(regs, tiers, divs, 1, s_time, e_time)\n",
    "\n",
    "print(summs_info)\n",
    "\n",
    "\n",
    "# Store the data in a dataframe\n",
    "# sumo_info = pd.DataFrame(summs_info, columns=(\"puuid\", \"region\", \"tier\", \"division\"))\n",
    "# sumo_info"
   ]
  },
  {
   "cell_type": "markdown",
   "metadata": {},
   "source": [
    "### User info\n",
    "Some simple scripts to retrieve basic information of the user not really needed just for quick test"
   ]
  },
  {
   "cell_type": "code",
   "execution_count": 5,
   "metadata": {},
   "outputs": [
    {
     "data": {
      "text/plain": [
       "'2022-02-10 16:05:20'"
      ]
     },
     "execution_count": 5,
     "metadata": {},
     "output_type": "execute_result"
    }
   ],
   "source": [
    "convert_time(1644505520000)"
   ]
  },
  {
   "cell_type": "code",
   "execution_count": 279,
   "metadata": {},
   "outputs": [
    {
     "name": "stdout",
     "output_type": "stream",
     "text": [
      "{'id': 'L2OqMzNqsCelFfcFlPx5iQWRB7dKLDdf9xGgO_W1dNau3EI', 'accountId': 'fYybzHGf_HSjunX7VEs-9jXIEvVLk-eQhAyhq_VzaXWi2w', 'puuid': 'tKPszy2ygrLuiS7AYcfh4pjDzc3jQO2xOIjAf4YKq8XjytTznNaQc88wPYMmJkONT1JjtkioHEfaMg', 'name': 'Alnas', 'profileIconId': 3382, 'revisionDate': 1617835118000, 'summonerLevel': 109}\n"
     ]
    }
   ],
   "source": [
    "# retrieve info using region and summoner name # check region is wrong\n",
    "user = lol_watcher.summoner.by_name('euw1', prota)\n",
    "print(user)\n",
    "\n",
    "# Check rank stats using user id\n",
    "ranked_stats = lol_watcher.league.by_summoner(\"euw1\", user[\"id\"])\n",
    "print(ranked_stats)"
   ]
  },
  {
   "cell_type": "markdown",
   "metadata": {},
   "source": [
    "### 2/3 Get match list by PUUID's"
   ]
  },
  {
   "cell_type": "code",
   "execution_count": 368,
   "metadata": {
    "tags": []
   },
   "outputs": [
    {
     "name": "stdout",
     "output_type": "stream",
     "text": [
      "metadata > {'dataVersion': '2', 'matchId': 'EUW1_5722779994', 'participants': ['_yHPg3ee266u0jfpkDiiHINIIB-HvIpxyIMSM7qOquBSbxaf_Kr_yPtyj-Y76s711dud8023BMSADw', 'QSh7HumTtVrR4cVtD-qNdDm7slUZMeoMvhXdQQWeDI5hqfb2Iz15UGkvXtENrM6G18ag-s_KKZ2-iA', 'jcb62REEFDAZUxRCWVlq5IhuKmPkIHymoouFiMdwoluUVIe0xJAFosqysXKIKcTeoza2e6cdQ6ig_A', 'KG0c7frvFoXbq73AKfwm28xubKeJiMZwRIjc0WNSHoWWYy-401kgzTV_tDre2CYBdWTR6VjfDj4AqQ', 'c_L5dvu5BCO_QTtWNTJ_41ZUETB8IX52FegHPbQl-VpPnSHWxTHmhj7uPkicqhUDjinctACbRdB6xQ', 'rbDNeqIIavsLjSLdVaD6Iz1ktmEWt9X1BxTjP7hRuJ30Qn6gc1hfpUx8oBts-izKotQQ1L0wm_W8tA', '1oTRWtiyNtZENiagrcbo7ijGMlIb0IgcmhcFHIzIi-aneWSCVk8FSNsdtOa-8SOOtz7zD_UPTLMjbQ', 'dtYUu4WRg9v0nnvaZjkhcLueQpCHAkLvN4PQOnJSv6vGANbfKbccI7bDtqMsBBpjPmGrM5Xh1WWffg', 'PkyDyFsJQ35GQYruyFBfALnEvWKhRNSPqNyq15L6wgmY4WWH_ddk1ufUMtNh2-ioNtJvHwo-aY3c-w', 'M8agh_QgrDjQ02Ulf1NcFr-f1osn-HMxuaLnamJusYu0NLI-ZGRj8tmaWmaOPTbqjEo69XCzNBzu5w']}\n",
      "info > {'gameCreation': 1644505520000, 'gameDuration': 1908, 'gameEndTimestamp': 1644507548617, 'gameId': 5722779994, 'gameMode': 'CLASSIC', 'gameName': 'teambuilder-match-5722779994', 'gameStartTimestamp': 1644505640408, 'gameType': 'MATCHED_GAME', 'gameVersion': '12.3.421.5967', 'mapId': 11, 'participants': [{'assists': 7, 'baronKills': 0, 'bountyLevel': 0, 'challenges': {'12AssistStreakCount': 0, 'abilityUses': 125, 'acesBefore15Minutes': 0, 'alliedJungleMonsterKills': 12, 'baronBuffGoldAdvantageOverThreshold': 1, 'baronTakedowns': 1, 'blastConeOppositeOpponentCount': 0, 'bountyGold': 1350, 'buffsStolen': 1, 'controlWardsPlaced': 0, 'damagePerMinute': 4258.547084448632, 'damageTakenOnTeamPercentage': 0.25772456181379727, 'dancedWithRiftHerald': 0, 'deathsByEnemyChamps': 5, 'doubleAces': 0, 'dragonTakedowns': 0, 'earliestBaron': 1475.0759097, 'earlyLaningPhaseGoldExpAdvantage': -0.026310503482818604, 'effectiveHealAndShielding': 0, 'elderDragonKillsWithOpposingSoul': 0, 'elderDragonMultikills': 0, 'enemyChampionImmobilizations': 0, 'enemyJungleMonsterKills': 8, 'epicMonsterKillsNearEnemyJungler': 0, 'epicMonsterKillsWithin30SecondsOfSpawn': 0, 'epicMonsterSteals': 0, 'firstTurretKilledTime': 870.5476927, 'flawlessAces': 1, 'fullTeamTakedown': 0, 'gameLength': 1908.4391845, 'goldPerMinute': 473.4327223691261, 'hadAfkTeammate': 0, 'hadOpenNexus': 0, 'initialBuffCount': 0, 'initialCrabCount': 0, 'jungleCsBefore10Minutes': 4, 'junglerKillsEarlyJungle': 0, 'junglerTakedownsNearDamagedEpicMonster': 0, 'kda': 3.2, 'killParticipation': 0.45714285714285713, 'killsNearEnemyTurret': 3, 'killsOnLanersEarlyJungleAsJungler': 0, 'killsOnRecentlyHealedByAramPack': 0, 'killsUnderOwnTurret': 1, 'killsWithHelpFromEpicMonster': 0, 'laneMinionsFirst10Minutes': 65, 'laningPhaseGoldExpAdvantage': -0.08925104141235352, 'legendaryCount': 0, 'lostAnInhibitor': 0, 'maxCsAdvantageOnLaneOpponent': 36.3499998152256, 'maxKillDeficit': 0, 'maxLevelLeadLaneOpponent': 3, 'moreEnemyJungleThanOpponent': -120.00000008940697, 'mostWardsDestroyedOneSweeper': 0, 'multiKillOneSpell': 0, 'multikills': 2, 'multikillsAfterAggressiveFlash': 0, 'mythicItemUsed': 6631, 'outerTurretExecutesBefore10Minutes': 0, 'outnumberedKills': 1, 'outnumberedNexusKill': 0, 'perfectDragonSoulsTaken': 0, 'perfectGame': 0, 'poroExplosions': 0, 'riftHeraldTakedowns': 0, 'scuttleCrabKills': 3, 'shortestTimeToAceFromFirstTakedown': 19.860561899999993, 'skillshotsDodged': 120, 'skillshotsHit': 88, 'snowballsHit': 0, 'soloBaronKills': 0, 'soloKills': 2, 'stealthWardsPlaced': 7, 'survivedSingleDigitHpCount': 0, 'takedownOnFirstTurret': 0, 'takedowns': 16, 'takedownsAfterGainingLevelAdvantage': 0, 'takedownsBeforeJungleMinionSpawn': 0, 'takedownsFirst25Minutes': 9, 'takedownsInAlcove': 0, 'takedownsInEnemyFountain': 0, 'teamBaronKills': 1, 'teamDamagePercentage': 0.2795537468117723, 'teamElderDragonKills': 0, 'teamRiftHeraldKills': 0, 'teleportTakedowns': 1, 'turretPlatesTaken': 0, 'turretTakedowns': 3, 'turretsTakenWithRiftHerald': 0, 'twentyMinionsIn3SecondsCount': 0, 'unseenRecalls': 0, 'visionScoreAdvantageLaneOpponent': 0.7801488041877747, 'visionScorePerMinute': 0.6397204713997496, 'wardTakedowns': 3, 'wardTakedownsBefore20M': 1, 'wardsGuarded': 0}, 'champExperience': 16039, 'champLevel': 16, 'championId': 86, 'championName': 'Garen', 'championTransform': 0, 'consumablesPurchased': 1, 'damageDealtToBuildings': 7731, 'damageDealtToObjectives': 11988, 'damageDealtToTurrets': 7731, 'damageSelfMitigated': 50109, 'deaths': 5, 'detectorWardsPlaced': 0, 'doubleKills': 2, 'dragonKills': 0, 'firstBloodAssist': False, 'firstBloodKill': False, 'firstTowerAssist': False, 'firstTowerKill': False, 'gameEndedInEarlySurrender': False, 'gameEndedInSurrender': False, 'goldEarned': 15058, 'goldSpent': 14200, 'individualPosition': 'TOP', 'inhibitorKills': 0, 'inhibitorTakedowns': 0, 'inhibitorsLost': 2, 'item0': 6631, 'item1': 3006, 'item2': 1031, 'item3': 3033, 'item4': 3742, 'item5': 3053, 'item6': 3340, 'itemsPurchased': 16, 'killingSprees': 2, 'kills': 9, 'lane': 'JUNGLE', 'largestCriticalStrike': 457, 'largestKillingSpree': 6, 'largestMultiKill': 2, 'longestTimeSpentLiving': 648, 'magicDamageDealt': 53, 'magicDamageDealtToChampions': 35, 'magicDamageTaken': 7419, 'neutralMinionsKilled': 32, 'nexusKills': 0, 'nexusLost': 1, 'nexusTakedowns': 0, 'objectivesStolen': 0, 'objectivesStolenAssists': 0, 'participantId': 1, 'pentaKills': 0, 'perks': {'statPerks': {'defense': 5002, 'flex': 5008, 'offense': 5008}, 'styles': [{'description': 'primaryStyle', 'selections': [{'perk': 8010, 'var1': 1105, 'var2': 0, 'var3': 0}, {'perk': 9111, 'var1': 1384, 'var2': 320, 'var3': 0}, {'perk': 9105, 'var1': 19, 'var2': 40, 'var3': 0}, {'perk': 8299, 'var1': 701, 'var2': 0, 'var3': 0}], 'style': 8000}, {'description': 'subStyle', 'selections': [{'perk': 8429, 'var1': 62, 'var2': 17, 'var3': 13}, {'perk': 8451, 'var1': 204, 'var2': 0, 'var3': 0}], 'style': 8400}]}, 'physicalDamageDealt': 130124, 'physicalDamageDealtToChampions': 17693, 'physicalDamageTaken': 24485, 'profileIcon': 4779, 'puuid': '_yHPg3ee266u0jfpkDiiHINIIB-HvIpxyIMSM7qOquBSbxaf_Kr_yPtyj-Y76s711dud8023BMSADw', 'quadraKills': 0, 'riotIdName': '', 'riotIdTagline': '', 'role': 'NONE', 'sightWardsBoughtInGame': 0, 'spell1Casts': 57, 'spell2Casts': 12, 'spell3Casts': 49, 'spell4Casts': 7, 'summoner1Casts': 4, 'summoner1Id': 4, 'summoner2Casts': 5, 'summoner2Id': 14, 'summonerId': 'RluuZRiVl6dGfbOJfZ12mOQBF6RQ2BrRJK0DQIG83o1Au6Sa', 'summonerLevel': 85, 'summonerName': 'magìc', 'teamEarlySurrendered': False, 'teamId': 100, 'teamPosition': 'TOP', 'timeCCingOthers': 30, 'timePlayed': 1908, 'totalDamageDealt': 135452, 'totalDamageDealtToChampions': 22780, 'totalDamageShieldedOnTeammates': 0, 'totalDamageTaken': 34262, 'totalHeal': 2200, 'totalHealsOnTeammates': 0, 'totalMinionsKilled': 165, 'totalTimeCCDealt': 158, 'totalTimeSpentDead': 141, 'totalUnitsHealed': 1, 'tripleKills': 0, 'trueDamageDealt': 5274, 'trueDamageDealtToChampions': 5050, 'trueDamageTaken': 2357, 'turretKills': 3, 'turretTakedowns': 3, 'turretsLost': 7, 'unrealKills': 0, 'visionScore': 20, 'visionWardsBoughtInGame': 0, 'wardsKilled': 3, 'wardsPlaced': 8, 'win': False}, {'assists': 8, 'baronKills': 1, 'bountyLevel': 0, 'challenges': {'12AssistStreakCount': 0, 'abilityUses': 410, 'acesBefore15Minutes': 0, 'alliedJungleMonsterKills': 74.10000011324883, 'baronBuffGoldAdvantageOverThreshold': 1, 'baronTakedowns': 1, 'blastConeOppositeOpponentCount': 0, 'bountyGold': 0, 'buffsStolen': 1, 'controlWardTimeCoverageInRiverOrEnemyHalf': 0.13861760319562336, 'controlWardsPlaced': 7, 'damagePerMinute': 4144.364444116243, 'damageTakenOnTeamPercentage': 0.2786835226632359, 'dancedWithRiftHerald': 0, 'deathsByEnemyChamps': 11, 'doubleAces': 0, 'dragonTakedowns': 3, 'earliestBaron': 1475.0759097, 'earliestDragonTakedown': 393.13079899999997, 'earlyLaningPhaseGoldExpAdvantage': 0, 'effectiveHealAndShielding': 55, 'elderDragonKillsWithOpposingSoul': 0, 'elderDragonMultikills': 0, 'enemyChampionImmobilizations': 29, 'enemyJungleMonsterKills': 4.4000000059604645, 'epicMonsterKillsNearEnemyJungler': 1, 'epicMonsterKillsWithin30SecondsOfSpawn': 0, 'epicMonsterSteals': 1, 'firstTurretKilledTime': 870.5476927, 'flawlessAces': 1, 'fullTeamTakedown': 0, 'gameLength': 1908.4391845, 'goldPerMinute': 366.89588133034897, 'hadAfkTeammate': 0, 'hadOpenNexus': 0, 'initialBuffCount': 2, 'initialCrabCount': 1, 'jungleCsBefore10Minutes': 48.000000059604645, 'junglerKillsEarlyJungle': 0, 'junglerTakedownsNearDamagedEpicMonster': 1, 'kda': 1.2727272727272727, 'killParticipation': 0.4, 'killsNearEnemyTurret': 1, 'killsOnLanersEarlyJungleAsJungler': 4, 'killsOnRecentlyHealedByAramPack': 0, 'killsUnderOwnTurret': 0, 'killsWithHelpFromEpicMonster': 0, 'laneMinionsFirst10Minutes': 7, 'laningPhaseGoldExpAdvantage': 0, 'legendaryCount': 0, 'lostAnInhibitor': 0, 'maxCsAdvantageOnLaneOpponent': 4, 'maxKillDeficit': 0, 'maxLevelLeadLaneOpponent': 1, 'moreEnemyJungleThanOpponent': -76.00000002980232, 'mostWardsDestroyedOneSweeper': 0, 'multiKillOneSpell': 0, 'multikills': 1, 'multikillsAfterAggressiveFlash': 0, 'mythicItemUsed': 6630, 'outerTurretExecutesBefore10Minutes': 0, 'outnumberedKills': 1, 'outnumberedNexusKill': 0, 'perfectDragonSoulsTaken': 0, 'perfectGame': 0, 'poroExplosions': 0, 'riftHeraldTakedowns': 0, 'scuttleCrabKills': 2, 'skillshotsDodged': 199, 'skillshotsHit': 124, 'snowballsHit': 0, 'soloBaronKills': 0, 'soloKills': 0, 'stealthWardsPlaced': 7, 'survivedSingleDigitHpCount': 0, 'takedownOnFirstTurret': 1, 'takedowns': 14, 'takedownsAfterGainingLevelAdvantage': 1, 'takedownsBeforeJungleMinionSpawn': 0, 'takedownsFirst25Minutes': 11, 'takedownsInAlcove': 0, 'takedownsInEnemyFountain': 0, 'teamBaronKills': 1, 'teamDamagePercentage': 0.13952246113747438, 'teamElderDragonKills': 0, 'teamRiftHeraldKills': 0, 'teleportTakedowns': 4, 'turretPlatesTaken': 0, 'turretTakedowns': 3, 'turretsTakenWithRiftHerald': 0, 'twentyMinionsIn3SecondsCount': 0, 'unseenRecalls': 0, 'visionScoreAdvantageLaneOpponent': 0.8202599287033081, 'visionScorePerMinute': 0.6726115454951859, 'wardTakedowns': 2, 'wardTakedownsBefore20M': 2, 'wardsGuarded': 3}, 'champExperience': 12378, 'champLevel': 14, 'championId': 64, 'championName': 'LeeSin', 'championTransform': 0, 'consumablesPurchased': 8, 'damageDealtToBuildings': 2656, 'damageDealtToObjectives': 10081, 'damageDealtToTurrets': 2656, 'damageSelfMitigated': 32831, 'deaths': 11, 'detectorWardsPlaced': 7, 'doubleKills': 1, 'dragonKills': 1, 'firstBloodAssist': False, 'firstBloodKill': True, 'firstTowerAssist': False, 'firstTowerKill': True, 'gameEndedInEarlySurrender': False, 'gameEndedInSurrender': False, 'goldEarned': 11669, 'goldSpent': 11100, 'individualPosition': 'JUNGLE', 'inhibitorKills': 0, 'inhibitorTakedowns': 0, 'inhibitorsLost': 2, 'item0': 3026, 'item1': 2055, 'item2': 6630, 'item3': 3111, 'item4': 3053, 'item5': 0, 'item6': 3340, 'itemsPurchased': 21, 'killingSprees': 2, 'kills': 6, 'lane': 'JUNGLE', 'largestCriticalStrike': 0, 'largestKillingSpree': 3, 'largestMultiKill': 2, 'longestTimeSpentLiving': 547, 'magicDamageDealt': 31003, 'magicDamageDealtToChampions': 2281, 'magicDamageTaken': 9059, 'neutralMinionsKilled': 102, 'nexusKills': 0, 'nexusLost': 1, 'nexusTakedowns': 0, 'objectivesStolen': 1, 'objectivesStolenAssists': 0, 'participantId': 2, 'pentaKills': 0, 'perks': {'statPerks': {'defense': 5002, 'flex': 5008, 'offense': 5005}, 'styles': [{'description': 'primaryStyle', 'selections': [{'perk': 8010, 'var1': 98, 'var2': 0, 'var3': 0}, {'perk': 9111, 'var1': 919, 'var2': 280, 'var3': 0}, {'perk': 9104, 'var1': 10, 'var2': 10, 'var3': 0}, {'perk': 8014, 'var1': 267, 'var2': 0, 'var3': 0}], 'style': 8000}, {'description': 'subStyle', 'selections': [{'perk': 8304, 'var1': 9, 'var2': 0, 'var3': 0}, {'perk': 8347, 'var1': 0, 'var2': 0, 'var3': 0}], 'style': 8300}]}, 'physicalDamageDealt': 85246, 'physicalDamageDealtToChampions': 8790, 'physicalDamageTaken': 26036, 'profileIcon': 5162, 'puuid': 'QSh7HumTtVrR4cVtD-qNdDm7slUZMeoMvhXdQQWeDI5hqfb2Iz15UGkvXtENrM6G18ag-s_KKZ2-iA', 'quadraKills': 0, 'riotIdName': '', 'riotIdTagline': '', 'role': 'NONE', 'sightWardsBoughtInGame': 0, 'spell1Casts': 170, 'spell2Casts': 129, 'spell3Casts': 103, 'spell4Casts': 8, 'summoner1Casts': 18, 'summoner1Id': 11, 'summoner2Casts': 5, 'summoner2Id': 4, 'summonerId': 'PvwfQaL2E7xQIOb0An9DHvshVATBZCHxqqxGyUwfXEcBhcI', 'summonerLevel': 169, 'summonerName': 'MadCat32', 'teamEarlySurrendered': False, 'teamId': 100, 'teamPosition': 'JUNGLE', 'timeCCingOthers': 27, 'timePlayed': 1908, 'totalDamageDealt': 131821, 'totalDamageDealtToChampions': 11369, 'totalDamageShieldedOnTeammates': 55, 'totalDamageTaken': 37049, 'totalHeal': 6359, 'totalHealsOnTeammates': 0, 'totalMinionsKilled': 49, 'totalTimeCCDealt': 409, 'totalTimeSpentDead': 346, 'totalUnitsHealed': 1, 'tripleKills': 0, 'trueDamageDealt': 15570, 'trueDamageDealtToChampions': 297, 'trueDamageTaken': 1953, 'turretKills': 1, 'turretTakedowns': 3, 'turretsLost': 7, 'unrealKills': 0, 'visionScore': 21, 'visionWardsBoughtInGame': 8, 'wardsKilled': 2, 'wardsPlaced': 14, 'win': False}, {'assists': 7, 'baronKills': 0, 'bountyLevel': 0, 'challenges': {'12AssistStreakCount': 0, 'abilityUses': 274, 'acesBefore15Minutes': 0, 'alliedJungleMonsterKills': 4.000000029802322, 'baronBuffGoldAdvantageOverThreshold': 1, 'baronTakedowns': 1, 'blastConeOppositeOpponentCount': 0, 'bountyGold': 0, 'buffsStolen': 0, 'controlWardsPlaced': 0, 'damagePerMinute': 3118.50510725562, 'damageTakenOnTeamPercentage': 0.21819619007304553, 'dancedWithRiftHerald': 0, 'deathsByEnemyChamps': 6, 'doubleAces': 0, 'dragonTakedowns': 0, 'earliestBaron': 1475.0759097, 'earlyLaningPhaseGoldExpAdvantage': -0.2379242181777954, 'effectiveHealAndShielding': 0, 'elderDragonKillsWithOpposingSoul': 0, 'elderDragonMultikills': 0, 'enemyChampionImmobilizations': 0, 'enemyJungleMonsterKills': 0, 'epicMonsterKillsNearEnemyJungler': 0, 'epicMonsterKillsWithin30SecondsOfSpawn': 0, 'epicMonsterSteals': 0, 'firstTurretKilledTime': 870.5476927, 'flawlessAces': 1, 'fullTeamTakedown': 0, 'gameLength': 1908.4391845, 'getTakedownsInAllLanesEarlyJungleAsLaner': 0, 'goldPerMinute': 290.28766132853946, 'hadAfkTeammate': 0, 'hadOpenNexus': 0, 'initialBuffCount': 0, 'initialCrabCount': 0, 'jungleCsBefore10Minutes': 0, 'junglerKillsEarlyJungle': 0, 'junglerTakedownsNearDamagedEpicMonster': 0, 'kda': 1.6666666666666667, 'killParticipation': 0.2857142857142857, 'killsNearEnemyTurret': 0, 'killsOnLanersEarlyJungleAsJungler': 0, 'killsOnOtherLanesEarlyJungleAsLaner': 0, 'killsOnRecentlyHealedByAramPack': 0, 'killsUnderOwnTurret': 1, 'killsWithHelpFromEpicMonster': 0, 'laneMinionsFirst10Minutes': 49, 'laningPhaseGoldExpAdvantage': -0.22125041484832764, 'legendaryCount': 0, 'lostAnInhibitor': 0, 'maxCsAdvantageOnLaneOpponent': 3, 'maxKillDeficit': 0, 'maxLevelLeadLaneOpponent': 1, 'moreEnemyJungleThanOpponent': -124.00000008940697, 'mostWardsDestroyedOneSweeper': 0, 'multiKillOneSpell': 0, 'multikills': 0, 'multikillsAfterAggressiveFlash': 0, 'mythicItemUsed': 3152, 'outerTurretExecutesBefore10Minutes': 0, 'outnumberedKills': 0, 'outnumberedNexusKill': 0, 'perfectDragonSoulsTaken': 0, 'perfectGame': 0, 'poroExplosions': 0, 'riftHeraldTakedowns': 0, 'scuttleCrabKills': 0, 'shortestTimeToAceFromFirstTakedown': 19.860561899999993, 'skillshotsDodged': 475, 'skillshotsHit': 297, 'snowballsHit': 0, 'soloBaronKills': 0, 'soloKills': 0, 'stealthWardsPlaced': 5, 'survivedSingleDigitHpCount': 0, 'takedownOnFirstTurret': 0, 'takedowns': 10, 'takedownsAfterGainingLevelAdvantage': 0, 'takedownsBeforeJungleMinionSpawn': 0, 'takedownsFirst25Minutes': 7, 'takedownsInAlcove': 0, 'takedownsInEnemyFountain': 0, 'teamBaronKills': 1, 'teamDamagePercentage': 0.13682328706475103, 'teamElderDragonKills': 0, 'teamRiftHeraldKills': 0, 'turretPlatesTaken': 0, 'turretTakedowns': 1, 'turretsTakenWithRiftHerald': 0, 'twentyMinionsIn3SecondsCount': 0, 'unseenRecalls': 0, 'visionScoreAdvantageLaneOpponent': 0.3121752440929413, 'visionScorePerMinute': 0.21753741012228806, 'wardTakedowns': 0, 'wardTakedownsBefore20M': 0, 'wardsGuarded': 1}, 'champExperience': 13484, 'champLevel': 15, 'championId': 8, 'championName': 'Vladimir', 'championTransform': 0, 'consumablesPurchased': 0, 'damageDealtToBuildings': 917, 'damageDealtToObjectives': 3688, 'damageDealtToTurrets': 917, 'damageSelfMitigated': 13595, 'deaths': 6, 'detectorWardsPlaced': 0, 'doubleKills': 0, 'dragonKills': 0, 'firstBloodAssist': False, 'firstBloodKill': False, 'firstTowerAssist': False, 'firstTowerKill': False, 'gameEndedInEarlySurrender': False, 'gameEndedInSurrender': False, 'goldEarned': 9233, 'goldSpent': 8800, 'individualPosition': 'MIDDLE', 'inhibitorKills': 0, 'inhibitorTakedowns': 0, 'inhibitorsLost': 2, 'item0': 1082, 'item1': 2031, 'item2': 3152, 'item3': 3020, 'item4': 4629, 'item5': 3191, 'item6': 3340, 'itemsPurchased': 14, 'killingSprees': 0, 'kills': 3, 'lane': 'MIDDLE', 'largestCriticalStrike': 0, 'largestKillingSpree': 0, 'largestMultiKill': 1, 'longestTimeSpentLiving': 693, 'magicDamageDealt': 87749, 'magicDamageDealtToChampions': 10922, 'magicDamageTaken': 6623, 'neutralMinionsKilled': 4, 'nexusKills': 0, 'nexusLost': 1, 'nexusTakedowns': 0, 'objectivesStolen': 0, 'objectivesStolenAssists': 0, 'participantId': 3, 'pentaKills': 0, 'perks': {'statPerks': {'defense': 5003, 'flex': 5008, 'offense': 5007}, 'styles': [{'description': 'primaryStyle', 'selections': [{'perk': 8112, 'var1': 713, 'var2': 0, 'var3': 0}, {'perk': 8139, 'var1': 866, 'var2': 0, 'var3': 0}, {'perk': 8138, 'var1': 30, 'var2': 0, 'var3': 0}, {'perk': 8135, 'var1': 1405, 'var2': 5, 'var3': 0}], 'style': 8100}, {'description': 'subStyle', 'selections': [{'perk': 8275, 'var1': 11, 'var2': 0, 'var3': 0}, {'perk': 8210, 'var1': 9, 'var2': 0, 'var3': 0}], 'style': 8200}]}, 'physicalDamageDealt': 11441, 'physicalDamageDealtToChampions': 227, 'physicalDamageTaken': 21505, 'profileIcon': 1108, 'puuid': 'jcb62REEFDAZUxRCWVlq5IhuKmPkIHymoouFiMdwoluUVIe0xJAFosqysXKIKcTeoza2e6cdQ6ig_A', 'quadraKills': 0, 'riotIdName': '', 'riotIdTagline': '', 'role': 'SOLO', 'sightWardsBoughtInGame': 0, 'spell1Casts': 168, 'spell2Casts': 12, 'spell3Casts': 86, 'spell4Casts': 8, 'summoner1Casts': 5, 'summoner1Id': 4, 'summoner2Casts': 6, 'summoner2Id': 6, 'summonerId': 'pMDbrij5F0zOgZawXq-yzWs9ARWfirNoN2YG-xgRxT6jvtmuhi5NvCYk8g', 'summonerLevel': 38, 'summonerName': '524pingPlayer', 'teamEarlySurrendered': False, 'teamId': 100, 'teamPosition': 'MIDDLE', 'timeCCingOthers': 2, 'timePlayed': 1908, 'totalDamageDealt': 99191, 'totalDamageDealtToChampions': 11149, 'totalDamageShieldedOnTeammates': 0, 'totalDamageTaken': 29007, 'totalHeal': 15915, 'totalHealsOnTeammates': 0, 'totalMinionsKilled': 129, 'totalTimeCCDealt': 52, 'totalTimeSpentDead': 169, 'totalUnitsHealed': 1, 'tripleKills': 0, 'trueDamageDealt': 0, 'trueDamageDealtToChampions': 0, 'trueDamageTaken': 879, 'turretKills': 1, 'turretTakedowns': 1, 'turretsLost': 7, 'unrealKills': 0, 'visionScore': 6, 'visionWardsBoughtInGame': 0, 'wardsKilled': 0, 'wardsPlaced': 5, 'win': False}, {'assists': 10, 'baronKills': 0, 'bountyLevel': 0, 'challenges': {'12AssistStreakCount': 0, 'abilityUses': 151, 'acesBefore15Minutes': 0, 'alliedJungleMonsterKills': 0, 'baronBuffGoldAdvantageOverThreshold': 1, 'baronTakedowns': 1, 'blastConeOppositeOpponentCount': 0, 'bountyGold': 0, 'buffsStolen': 0, 'controlWardTimeCoverageInRiverOrEnemyHalf': 0.10829897121094247, 'controlWardsPlaced': 2, 'damagePerMinute': 4450.321436218655, 'damageTakenOnTeamPercentage': 0.16942925845330475, 'dancedWithRiftHerald': 0, 'deathsByEnemyChamps': 7, 'doubleAces': 0, 'dragonTakedowns': 3, 'earliestBaron': 1475.0759097, 'earliestDragonTakedown': 393.13079899999997, 'earlyLaningPhaseGoldExpAdvantage': 0, 'effectiveHealAndShielding': 618, 'elderDragonKillsWithOpposingSoul': 0, 'elderDragonMultikills': 0, 'enemyChampionImmobilizations': 9, 'enemyJungleMonsterKills': 0, 'epicMonsterKillsNearEnemyJungler': 0, 'epicMonsterKillsWithin30SecondsOfSpawn': 0, 'epicMonsterSteals': 0, 'firstTurretKilledTime': 870.5476927, 'flawlessAces': 1, 'fullTeamTakedown': 0, 'gameLength': 1908.4391845, 'getTakedownsInAllLanesEarlyJungleAsLaner': 0, 'goldPerMinute': 418.0159749839018, 'hadAfkTeammate': 0, 'hadOpenNexus': 0, 'highestCrowdControlScore': 1, 'initialBuffCount': 0, 'initialCrabCount': 0, 'jungleCsBefore10Minutes': 0, 'junglerKillsEarlyJungle': 0, 'junglerTakedownsNearDamagedEpicMonster': 1, 'kda': 2.5714285714285716, 'killParticipation': 0.5142857142857142, 'killsNearEnemyTurret': 0, 'killsOnLanersEarlyJungleAsJungler': 0, 'killsOnOtherLanesEarlyJungleAsLaner': 0, 'killsOnRecentlyHealedByAramPack': 0, 'killsUnderOwnTurret': 3, 'killsWithHelpFromEpicMonster': 0, 'laneMinionsFirst10Minutes': 46, 'laningPhaseGoldExpAdvantage': -0.14353352785110474, 'legendaryCount': 0, 'lostAnInhibitor': 0, 'maxCsAdvantageOnLaneOpponent': 47.75, 'maxKillDeficit': 0, 'maxLevelLeadLaneOpponent': 1, 'moreEnemyJungleThanOpponent': -124.00000008940697, 'mostWardsDestroyedOneSweeper': 0, 'multiKillOneSpell': 0, 'multikills': 2, 'multikillsAfterAggressiveFlash': 0, 'mythicItemUsed': 6673, 'outerTurretExecutesBefore10Minutes': 0, 'outnumberedKills': 1, 'outnumberedNexusKill': 0, 'perfectDragonSoulsTaken': 0, 'perfectGame': 0, 'poroExplosions': 0, 'riftHeraldTakedowns': 0, 'scuttleCrabKills': 0, 'shortestTimeToAceFromFirstTakedown': 19.860561899999993, 'skillshotsDodged': 129, 'skillshotsHit': 67, 'snowballsHit': 0, 'soloBaronKills': 0, 'soloKills': 0, 'stealthWardsPlaced': 3, 'survivedSingleDigitHpCount': 0, 'takedownOnFirstTurret': 0, 'takedowns': 18, 'takedownsAfterGainingLevelAdvantage': 0, 'takedownsBeforeJungleMinionSpawn': 0, 'takedownsFirst25Minutes': 13, 'takedownsInAlcove': 0, 'takedownsInEnemyFountain': 0, 'teamBaronKills': 1, 'teamDamagePercentage': 0.2968424919612782, 'teamElderDragonKills': 0, 'teamRiftHeraldKills': 0, 'teleportTakedowns': 3, 'turretPlatesTaken': 2, 'turretTakedowns': 4, 'turretsTakenWithRiftHerald': 0, 'twentyMinionsIn3SecondsCount': 0, 'unseenRecalls': 0, 'visionScoreAdvantageLaneOpponent': 0.5223391652107239, 'visionScorePerMinute': 0.5922406985848393, 'wardTakedowns': 7, 'wardTakedownsBefore20M': 3, 'wardsGuarded': 0}, 'champExperience': 12760, 'champLevel': 14, 'championId': 22, 'championName': 'Ashe', 'championTransform': 0, 'consumablesPurchased': 4, 'damageDealtToBuildings': 4811, 'damageDealtToObjectives': 10526, 'damageDealtToTurrets': 4811, 'damageSelfMitigated': 12171, 'deaths': 7, 'detectorWardsPlaced': 2, 'doubleKills': 2, 'dragonKills': 0, 'firstBloodAssist': True, 'firstBloodKill': False, 'firstTowerAssist': True, 'firstTowerKill': False, 'gameEndedInEarlySurrender': False, 'gameEndedInSurrender': False, 'goldEarned': 13295, 'goldSpent': 13150, 'individualPosition': 'BOTTOM', 'inhibitorKills': 0, 'inhibitorTakedowns': 0, 'inhibitorsLost': 2, 'item0': 1038, 'item1': 3085, 'item2': 6673, 'item3': 3006, 'item4': 3153, 'item5': 1018, 'item6': 3363, 'itemsPurchased': 28, 'killingSprees': 2, 'kills': 8, 'lane': 'BOTTOM', 'largestCriticalStrike': 349, 'largestKillingSpree': 5, 'largestMultiKill': 2, 'longestTimeSpentLiving': 595, 'magicDamageDealt': 2521, 'magicDamageDealtToChampions': 2373, 'magicDamageTaken': 6112, 'neutralMinionsKilled': 0, 'nexusKills': 0, 'nexusLost': 1, 'nexusTakedowns': 0, 'objectivesStolen': 0, 'objectivesStolenAssists': 1, 'participantId': 4, 'pentaKills': 0, 'perks': {'statPerks': {'defense': 5002, 'flex': 5008, 'offense': 5005}, 'styles': [{'description': 'primaryStyle', 'selections': [{'perk': 8008, 'var1': 70, 'var2': 19, 'var3': 0}, {'perk': 8009, 'var1': 2356, 'var2': 0, 'var3': 0}, {'perk': 9103, 'var1': 21, 'var2': 30, 'var3': 0}, {'perk': 8014, 'var1': 688, 'var2': 0, 'var3': 0}], 'style': 8000}, {'description': 'subStyle', 'selections': [{'perk': 8345, 'var1': 3, 'var2': 0, 'var3': 0}, {'perk': 8410, 'var1': 152, 'var2': 0, 'var3': 0}], 'style': 8300}]}, 'physicalDamageDealt': 134311, 'physicalDamageDealtToChampions': 21785, 'physicalDamageTaken': 14824, 'profileIcon': 3160, 'puuid': 'KG0c7frvFoXbq73AKfwm28xubKeJiMZwRIjc0WNSHoWWYy-401kgzTV_tDre2CYBdWTR6VjfDj4AqQ', 'quadraKills': 0, 'riotIdName': '', 'riotIdTagline': '', 'role': 'CARRY', 'sightWardsBoughtInGame': 0, 'spell1Casts': 38, 'spell2Casts': 94, 'spell3Casts': 8, 'spell4Casts': 11, 'summoner1Casts': 5, 'summoner1Id': 7, 'summoner2Casts': 5, 'summoner2Id': 4, 'summonerId': 'za0KWzd8-Pm8OXLeOyNmGJl1djtBkOdhqU7QEscCk2Cu977jipLQKG4-Og', 'summonerLevel': 334, 'summonerName': 'KillLWA ', 'teamEarlySurrendered': False, 'teamId': 100, 'teamPosition': 'BOTTOM', 'timeCCingOthers': 57, 'timePlayed': 1908, 'totalDamageDealt': 141552, 'totalDamageDealtToChampions': 24188, 'totalDamageShieldedOnTeammates': 0, 'totalDamageTaken': 22524, 'totalHeal': 1240, 'totalHealsOnTeammates': 618, 'totalMinionsKilled': 174, 'totalTimeCCDealt': 788, 'totalTimeSpentDead': 144, 'totalUnitsHealed': 4, 'tripleKills': 0, 'trueDamageDealt': 4720, 'trueDamageDealtToChampions': 30, 'trueDamageTaken': 1587, 'turretKills': 1, 'turretTakedowns': 4, 'turretsLost': 7, 'unrealKills': 0, 'visionScore': 18, 'visionWardsBoughtInGame': 2, 'wardsKilled': 6, 'wardsPlaced': 7, 'win': False}, {'assists': 20, 'baronKills': 0, 'bountyLevel': 0, 'challenges': {'12AssistStreakCount': 0, 'abilityUses': 300, 'acesBefore15Minutes': 0, 'alliedJungleMonsterKills': 0, 'baronBuffGoldAdvantageOverThreshold': 1, 'baronTakedowns': 1, 'blastConeOppositeOpponentCount': 0, 'bountyGold': 0, 'buffsStolen': 0, 'controlWardTimeCoverageInRiverOrEnemyHalf': 0.05537914042971697, 'controlWardsPlaced': 6, 'damagePerMinute': 505.7790074748384, 'damageTakenOnTeamPercentage': 0.07596646699661652, 'dancedWithRiftHerald': 0, 'deathsByEnemyChamps': 6, 'doubleAces': 0, 'dragonTakedowns': 2, 'earliestBaron': 1475.0759097, 'earliestDragonTakedown': 393.13079899999997, 'earlyLaningPhaseGoldExpAdvantage': 0, 'effectiveHealAndShielding': 19725.599609375, 'elderDragonKillsWithOpposingSoul': 0, 'elderDragonMultikills': 0, 'enemyChampionImmobilizations': 19, 'enemyJungleMonsterKills': 0, 'epicMonsterKillsNearEnemyJungler': 0, 'epicMonsterKillsWithin30SecondsOfSpawn': 0, 'epicMonsterSteals': 0, 'firstTurretKilledTime': 870.5476927, 'flawlessAces': 1, 'fullTeamTakedown': 0, 'gameLength': 1908.4391845, 'getTakedownsInAllLanesEarlyJungleAsLaner': 0, 'goldPerMinute': 312.9675885016392, 'hadAfkTeammate': 0, 'hadOpenNexus': 0, 'initialBuffCount': 0, 'initialCrabCount': 0, 'jungleCsBefore10Minutes': 0, 'junglerKillsEarlyJungle': 0, 'junglerTakedownsNearDamagedEpicMonster': 1, 'kda': 4, 'killParticipation': 0.6857142857142857, 'killsNearEnemyTurret': 0, 'killsOnLanersEarlyJungleAsJungler': 0, 'killsOnOtherLanesEarlyJungleAsLaner': 0, 'killsOnRecentlyHealedByAramPack': 0, 'killsUnderOwnTurret': 3, 'killsWithHelpFromEpicMonster': 0, 'laneMinionsFirst10Minutes': 5, 'laningPhaseGoldExpAdvantage': 0, 'legendaryCount': 0, 'lostAnInhibitor': 0, 'maxCsAdvantageOnLaneOpponent': 0, 'maxKillDeficit': 0, 'maxLevelLeadLaneOpponent': 1, 'moreEnemyJungleThanOpponent': -124.00000008940697, 'mostWardsDestroyedOneSweeper': 0, 'multiKillOneSpell': 0, 'multikills': 0, 'multikillsAfterAggressiveFlash': 0, 'mythicItemUsed': 6617, 'outerTurretExecutesBefore10Minutes': 0, 'outnumberedKills': 0, 'outnumberedNexusKill': 0, 'perfectDragonSoulsTaken': 0, 'perfectGame': 0, 'poroExplosions': 0, 'riftHeraldTakedowns': 0, 'scuttleCrabKills': 0, 'shortestTimeToAceFromFirstTakedown': 19.860561899999993, 'skillshotsDodged': 200, 'skillshotsHit': 25, 'snowballsHit': 0, 'soloBaronKills': 0, 'soloKills': 1, 'stealthWardsPlaced': 27, 'survivedSingleDigitHpCount': 0, 'takedownOnFirstTurret': 1, 'takedowns': 24, 'takedownsAfterGainingLevelAdvantage': 1, 'takedownsBeforeJungleMinionSpawn': 0, 'takedownsFirst25Minutes': 16, 'takedownsInAlcove': 0, 'takedownsInEnemyFountain': 0, 'teamBaronKills': 1, 'teamDamagePercentage': 0.1472580130247241, 'teamElderDragonKills': 0, 'teamRiftHeraldKills': 0, 'turretPlatesTaken': 2, 'turretTakedowns': 3, 'turretsTakenWithRiftHerald': 0, 'twentyMinionsIn3SecondsCount': 0, 'unseenRecalls': 0, 'visionScoreAdvantageLaneOpponent': 1.1630996465682983, 'visionScorePerMinute': 2.0527218492624275, 'wardTakedowns': 6, 'wardTakedownsBefore20M': 6, 'wardsGuarded': 0}, 'champExperience': 12187, 'champLevel': 14, 'championId': 350, 'championName': 'Yuumi', 'championTransform': 0, 'consumablesPurchased': 10, 'damageDealtToBuildings': 1296, 'damageDealtToObjectives': 1483, 'damageDealtToTurrets': 1296, 'damageSelfMitigated': 5758, 'deaths': 6, 'detectorWardsPlaced': 6, 'doubleKills': 0, 'dragonKills': 0, 'firstBloodAssist': True, 'firstBloodKill': False, 'firstTowerAssist': True, 'firstTowerKill': False, 'gameEndedInEarlySurrender': False, 'gameEndedInSurrender': False, 'goldEarned': 9954, 'goldSpent': 9000, 'individualPosition': 'UTILITY', 'inhibitorKills': 0, 'inhibitorTakedowns': 0, 'inhibitorsLost': 2, 'item0': 3853, 'item1': 3011, 'item2': 6617, 'item3': 3504, 'item4': 3114, 'item5': 2055, 'item6': 3364, 'itemsPurchased': 29, 'killingSprees': 1, 'kills': 4, 'lane': 'BOTTOM', 'largestCriticalStrike': 0, 'largestKillingSpree': 2, 'largestMultiKill': 1, 'longestTimeSpentLiving': 598, 'magicDamageDealt': 14013, 'magicDamageDealtToChampions': 10906, 'magicDamageTaken': 1929, 'neutralMinionsKilled': 0, 'nexusKills': 0, 'nexusLost': 1, 'nexusTakedowns': 0, 'objectivesStolen': 0, 'objectivesStolenAssists': 1, 'participantId': 5, 'pentaKills': 0, 'perks': {'statPerks': {'defense': 5002, 'flex': 5008, 'offense': 5007}, 'styles': [{'description': 'primaryStyle', 'selections': [{'perk': 8214, 'var1': 1276, 'var2': 3028, 'var3': 0}, {'perk': 8226, 'var1': 250, 'var2': 482, 'var3': 0}, {'perk': 8210, 'var1': 11, 'var2': 0, 'var3': 0}, {'perk': 8237, 'var1': 485, 'var2': 0, 'var3': 0}], 'style': 8200}, {'description': 'subStyle', 'selections': [{'perk': 8009, 'var1': 3686, 'var2': 0, 'var3': 0}, {'perk': 8017, 'var1': 945, 'var2': 0, 'var3': 0}], 'style': 8000}]}, 'physicalDamageDealt': 1546, 'physicalDamageDealtToChampions': 565, 'physicalDamageTaken': 7518, 'profileIcon': 4532, 'puuid': 'c_L5dvu5BCO_QTtWNTJ_41ZUETB8IX52FegHPbQl-VpPnSHWxTHmhj7uPkicqhUDjinctACbRdB6xQ', 'quadraKills': 0, 'riotIdName': '', 'riotIdTagline': '', 'role': 'SUPPORT', 'sightWardsBoughtInGame': 0, 'spell1Casts': 53, 'spell2Casts': 170, 'spell3Casts': 67, 'spell4Casts': 10, 'summoner1Casts': 6, 'summoner1Id': 3, 'summoner2Casts': 7, 'summoner2Id': 14, 'summonerId': 'Ijn62NMkV3qtYj4a3_cqhqSEqpx9zA130_pwbxMv7GX4rVre', 'summonerLevel': 265, 'summonerName': 'Sandramusen', 'teamEarlySurrendered': False, 'teamId': 100, 'teamPosition': 'UTILITY', 'timeCCingOthers': 36, 'timePlayed': 1908, 'totalDamageDealt': 16087, 'totalDamageDealtToChampions': 11999, 'totalDamageShieldedOnTeammates': 4583, 'totalDamageTaken': 10099, 'totalHeal': 15654, 'totalHealsOnTeammates': 15142, 'totalMinionsKilled': 10, 'totalTimeCCDealt': 65, 'totalTimeSpentDead': 124, 'totalUnitsHealed': 5, 'tripleKills': 0, 'trueDamageDealt': 528, 'trueDamageDealtToChampions': 528, 'trueDamageTaken': 651, 'turretKills': 0, 'turretTakedowns': 3, 'turretsLost': 7, 'unrealKills': 0, 'visionScore': 65, 'visionWardsBoughtInGame': 8, 'wardsKilled': 4, 'wardsPlaced': 33, 'win': False}, {'assists': 10, 'baronKills': 0, 'bountyLevel': 1, 'challenges': {'12AssistStreakCount': 0, 'abilityUses': 364, 'acesBefore15Minutes': 0, 'alliedJungleMonsterKills': 4.000000029802322, 'baronBuffGoldAdvantageOverThreshold': 1, 'baronTakedowns': 1, 'blastConeOppositeOpponentCount': 0, 'bountyGold': 0, 'buffsStolen': 0, 'controlWardsPlaced': 0, 'damagePerMinute': 5584.693777020904, 'damageTakenOnTeamPercentage': 0.13503019416782516, 'dancedWithRiftHerald': 0, 'deathsByEnemyChamps': 5, 'doubleAces': 0, 'dragonTakedowns': 0, 'earliestBaron': 1860.4308948999999, 'effectiveHealAndShielding': 0, 'elderDragonKillsWithOpposingSoul': 0, 'elderDragonMultikills': 0, 'enemyChampionImmobilizations': 9, 'enemyJungleMonsterKills': 0, 'epicMonsterKillsNearEnemyJungler': 0, 'epicMonsterKillsWithin30SecondsOfSpawn': 0, 'epicMonsterSteals': 0, 'flawlessAces': 2, 'fullTeamTakedown': 3, 'gameLength': 1908.4391845, 'getTakedownsInAllLanesEarlyJungleAsLaner': 0, 'goldPerMinute': 385.6915500193661, 'hadAfkTeammate': 0, 'hadOpenNexus': 0, 'initialBuffCount': 0, 'initialCrabCount': 0, 'jungleCsBefore10Minutes': 0, 'junglerKillsEarlyJungle': 0, 'junglerTakedownsNearDamagedEpicMonster': 0, 'kda': 2.4, 'killParticipation': 0.4, 'killsNearEnemyTurret': 1, 'killsOnLanersEarlyJungleAsJungler': 0, 'killsOnOtherLanesEarlyJungleAsLaner': 0, 'killsOnRecentlyHealedByAramPack': 0, 'killsUnderOwnTurret': 0, 'killsWithHelpFromEpicMonster': 0, 'laneMinionsFirst10Minutes': 79, 'legendaryCount': 0, 'lostAnInhibitor': 0, 'maxKillDeficit': 4, 'moreEnemyJungleThanOpponent': -116.00000005960464, 'mostWardsDestroyedOneSweeper': 0, 'multiKillOneSpell': 0, 'multikills': 0, 'multikillsAfterAggressiveFlash': 0, 'mythicItemUsed': 6692, 'outerTurretExecutesBefore10Minutes': 0, 'outnumberedKills': 1, 'outnumberedNexusKill': 0, 'perfectDragonSoulsTaken': 0, 'perfectGame': 0, 'poroExplosions': 0, 'riftHeraldTakedowns': 0, 'scuttleCrabKills': 0, 'shortestTimeToAceFromFirstTakedown': 9.881453500000134, 'skillshotsDodged': 59, 'skillshotsHit': 21, 'snowballsHit': 0, 'soloBaronKills': 0, 'soloKills': 1, 'stealthWardsPlaced': 11, 'survivedSingleDigitHpCount': 0, 'takedownOnFirstTurret': 0, 'takedowns': 12, 'takedownsAfterGainingLevelAdvantage': 0, 'takedownsBeforeJungleMinionSpawn': 0, 'takedownsFirst25Minutes': 8, 'takedownsInAlcove': 0, 'takedownsInEnemyFountain': 0, 'teamBaronKills': 1, 'teamDamagePercentage': 0.1774583513256541, 'teamElderDragonKills': 0, 'teamRiftHeraldKills': 1, 'turretPlatesTaken': 1, 'turretTakedowns': 4, 'turretsTakenWithRiftHerald': 5, 'twentyMinionsIn3SecondsCount': 0, 'unseenRecalls': 0, 'visionScorePerMinute': 0.5191479503257862, 'wardTakedowns': 0, 'wardTakedownsBefore20M': 0, 'wardsGuarded': 0}, 'champExperience': 15921, 'champLevel': 16, 'championId': 126, 'championName': 'Jayce', 'championTransform': 0, 'consumablesPurchased': 0, 'damageDealtToBuildings': 4386, 'damageDealtToObjectives': 7709, 'damageDealtToTurrets': 4386, 'damageSelfMitigated': 10446, 'deaths': 5, 'detectorWardsPlaced': 0, 'doubleKills': 0, 'dragonKills': 0, 'firstBloodAssist': False, 'firstBloodKill': False, 'firstTowerAssist': False, 'firstTowerKill': False, 'gameEndedInEarlySurrender': False, 'gameEndedInSurrender': False, 'goldEarned': 12267, 'goldSpent': 10000, 'individualPosition': 'TOP', 'inhibitorKills': 0, 'inhibitorTakedowns': 2, 'inhibitorsLost': 0, 'item0': 6692, 'item1': 6694, 'item2': 3158, 'item3': 3042, 'item4': 0, 'item5': 0, 'item6': 3340, 'itemsPurchased': 22, 'killingSprees': 0, 'kills': 2, 'lane': 'TOP', 'largestCriticalStrike': 0, 'largestKillingSpree': 0, 'largestMultiKill': 1, 'longestTimeSpentLiving': 674, 'magicDamageDealt': 9790, 'magicDamageDealtToChampions': 3103, 'magicDamageTaken': 4115, 'neutralMinionsKilled': 4, 'nexusKills': 0, 'nexusLost': 0, 'nexusTakedowns': 1, 'objectivesStolen': 0, 'objectivesStolenAssists': 0, 'participantId': 6, 'pentaKills': 0, 'perks': {'statPerks': {'defense': 5002, 'flex': 5008, 'offense': 5008}, 'styles': [{'description': 'primaryStyle', 'selections': [{'perk': 8369, 'var1': 864, 'var2': 659, 'var3': 0}, {'perk': 8304, 'var1': 11, 'var2': 1, 'var3': 5}, {'perk': 8345, 'var1': 3, 'var2': 0, 'var3': 0}, {'perk': 8347, 'var1': 0, 'var2': 0, 'var3': 0}], 'style': 8300}, {'description': 'subStyle', 'selections': [{'perk': 8226, 'var1': 250, 'var2': 1142, 'var3': 0}, {'perk': 8210, 'var1': 12, 'var2': 0, 'var3': 0}], 'style': 8200}]}, 'physicalDamageDealt': 156708, 'physicalDamageDealtToChampions': 15167, 'physicalDamageTaken': 9896, 'profileIcon': 3865, 'puuid': 'rbDNeqIIavsLjSLdVaD6Iz1ktmEWt9X1BxTjP7hRuJ30Qn6gc1hfpUx8oBts-izKotQQ1L0wm_W8tA', 'quadraKills': 0, 'riotIdName': '', 'riotIdTagline': '', 'role': 'SOLO', 'sightWardsBoughtInGame': 0, 'spell1Casts': 117, 'spell2Casts': 61, 'spell3Casts': 78, 'spell4Casts': 108, 'summoner1Casts': 4, 'summoner1Id': 4, 'summoner2Casts': 4, 'summoner2Id': 12, 'summonerId': 'lP34mDVGS9IpR9IWYc4m91q5XePJ0Qcz_AD-Mq009_p6M4M', 'summonerLevel': 288, 'summonerName': 'DocNurs', 'teamEarlySurrendered': False, 'teamId': 200, 'teamPosition': 'TOP', 'timeCCingOthers': 5, 'timePlayed': 1908, 'totalDamageDealt': 177634, 'totalDamageDealtToChampions': 19139, 'totalDamageShieldedOnTeammates': 0, 'totalDamageTaken': 14876, 'totalHeal': 488, 'totalHealsOnTeammates': 0, 'totalMinionsKilled': 229, 'totalTimeCCDealt': 119, 'totalTimeSpentDead': 211, 'totalUnitsHealed': 1, 'tripleKills': 0, 'trueDamageDealt': 11135, 'trueDamageDealtToChampions': 868, 'trueDamageTaken': 864, 'turretKills': 3, 'turretTakedowns': 4, 'turretsLost': 6, 'unrealKills': 0, 'visionScore': 16, 'visionWardsBoughtInGame': 0, 'wardsKilled': 0, 'wardsPlaced': 11, 'win': True}, {'assists': 9, 'baronKills': 0, 'bountyLevel': 0, 'challenges': {'12AssistStreakCount': 0, 'abilityUses': 216, 'acesBefore15Minutes': 0, 'alliedJungleMonsterKills': 105.40000012516975, 'baronBuffGoldAdvantageOverThreshold': 1, 'baronTakedowns': 1, 'blastConeOppositeOpponentCount': 0, 'bountyGold': 300, 'buffsStolen': 0, 'controlWardTimeCoverageInRiverOrEnemyHalf': 0.235888864238524, 'controlWardsPlaced': 3, 'damagePerMinute': 5452.839300313581, 'damageTakenOnTeamPercentage': 0.3354664697880374, 'dancedWithRiftHerald': 0, 'deathsByEnemyChamps': 6, 'doubleAces': 0, 'dragonTakedowns': 5, 'earliestBaron': 1860.4308948999999, 'earliestDragonTakedown': 393.13079899999997, 'earlyLaningPhaseGoldExpAdvantage': 0, 'effectiveHealAndShielding': 0, 'elderDragonKillsWithOpposingSoul': 0, 'elderDragonMultikills': 0, 'enemyChampionImmobilizations': 20, 'enemyJungleMonsterKills': 12.000000059604645, 'epicMonsterKillsNearEnemyJungler': 2, 'epicMonsterKillsWithin30SecondsOfSpawn': 2, 'epicMonsterSteals': 0, 'fastestLegendary': 1643.544792, 'flawlessAces': 2, 'fullTeamTakedown': 3, 'gameLength': 1908.4391845, 'goldPerMinute': 420.22151585687584, 'hadAfkTeammate': 0, 'hadOpenNexus': 0, 'initialBuffCount': 2, 'initialCrabCount': 1, 'jungleCsBefore10Minutes': 60.00000008940697, 'junglerKillsEarlyJungle': 0, 'junglerTakedownsNearDamagedEpicMonster': 0, 'kda': 3.1666666666666665, 'killParticipation': 0.6333333333333333, 'killsNearEnemyTurret': 1, 'killsOnLanersEarlyJungleAsJungler': 0, 'killsOnRecentlyHealedByAramPack': 0, 'killsUnderOwnTurret': 1, 'killsWithHelpFromEpicMonster': 1, 'laneMinionsFirst10Minutes': 5, 'laningPhaseGoldExpAdvantage': 0, 'legendaryCount': 1, 'lostAnInhibitor': 0, 'maxCsAdvantageOnLaneOpponent': 13.000000059604645, 'maxKillDeficit': 4, 'maxLevelLeadLaneOpponent': 1, 'moreEnemyJungleThanOpponent': -55.99999997019768, 'mostWardsDestroyedOneSweeper': 0, 'multiKillOneSpell': 0, 'multikills': 4, 'multikillsAfterAggressiveFlash': 2, 'mythicItemUsed': 6630, 'outerTurretExecutesBefore10Minutes': 0, 'outnumberedKills': 1, 'outnumberedNexusKill': 0, 'perfectDragonSoulsTaken': 0, 'perfectGame': 0, 'poroExplosions': 0, 'riftHeraldTakedowns': 1, 'scuttleCrabKills': 2, 'skillshotsDodged': 185, 'skillshotsHit': 66, 'snowballsHit': 0, 'soloBaronKills': 0, 'soloKills': 0, 'stealthWardsPlaced': 2, 'survivedSingleDigitHpCount': 0, 'takedownOnFirstTurret': 0, 'takedowns': 19, 'takedownsAfterGainingLevelAdvantage': 0, 'takedownsBeforeJungleMinionSpawn': 0, 'takedownsFirst25Minutes': 14, 'takedownsInAlcove': 0, 'takedownsInEnemyFountain': 0, 'teamBaronKills': 1, 'teamDamagePercentage': 0.17092056875590006, 'teamElderDragonKills': 0, 'teamRiftHeraldKills': 1, 'turretPlatesTaken': 0, 'turretTakedowns': 2, 'turretsTakenWithRiftHerald': 5, 'twentyMinionsIn3SecondsCount': 0, 'unseenRecalls': 0, 'visionScoreAdvantageLaneOpponent': 1.2818068265914917, 'visionScorePerMinute': 0.8199980353295546, 'wardTakedowns': 4, 'wardTakedownsBefore20M': 2, 'wardsGuarded': 0}, 'champExperience': 14772, 'champLevel': 16, 'championId': 5, 'championName': 'XinZhao', 'championTransform': 0, 'consumablesPurchased': 3, 'damageDealtToBuildings': 932, 'damageDealtToObjectives': 32032, 'damageDealtToTurrets': 932, 'damageSelfMitigated': 27812, 'deaths': 6, 'detectorWardsPlaced': 3, 'doubleKills': 2, 'dragonKills': 3, 'firstBloodAssist': False, 'firstBloodKill': False, 'firstTowerAssist': False, 'firstTowerKill': False, 'gameEndedInEarlySurrender': False, 'gameEndedInSurrender': False, 'goldEarned': 13366, 'goldSpent': 12175, 'individualPosition': 'JUNGLE', 'inhibitorKills': 0, 'inhibitorTakedowns': 1, 'inhibitorsLost': 0, 'item0': 3071, 'item1': 3053, 'item2': 6630, 'item3': 1031, 'item4': 1036, 'item5': 3047, 'item6': 3364, 'itemsPurchased': 23, 'killingSprees': 1, 'kills': 10, 'lane': 'JUNGLE', 'largestCriticalStrike': 0, 'largestKillingSpree': 8, 'largestMultiKill': 4, 'longestTimeSpentLiving': 475, 'magicDamageDealt': 21444, 'magicDamageDealtToChampions': 2015, 'magicDamageTaken': 8574, 'neutralMinionsKilled': 149, 'nexusKills': 1, 'nexusLost': 0, 'nexusTakedowns': 1, 'objectivesStolen': 0, 'objectivesStolenAssists': 0, 'participantId': 7, 'pentaKills': 0, 'perks': {'statPerks': {'defense': 5002, 'flex': 5008, 'offense': 5005}, 'styles': [{'description': 'primaryStyle', 'selections': [{'perk': 8010, 'var1': 687, 'var2': 0, 'var3': 0}, {'perk': 9111, 'var1': 1258, 'var2': 380, 'var3': 0}, {'perk': 9104, 'var1': 12, 'var2': 40, 'var3': 0}, {'perk': 8014, 'var1': 533, 'var2': 0, 'var3': 0}], 'style': 8000}, {'description': 'subStyle', 'selections': [{'perk': 8304, 'var1': 11, 'var2': 1, 'var3': 5}, {'perk': 8347, 'var1': 0, 'var2': 0, 'var3': 0}], 'style': 8300}]}, 'physicalDamageDealt': 134313, 'physicalDamageDealtToChampions': 16044, 'physicalDamageTaken': 25652, 'profileIcon': 4930, 'puuid': '1oTRWtiyNtZENiagrcbo7ijGMlIb0IgcmhcFHIzIi-aneWSCVk8FSNsdtOa-8SOOtz7zD_UPTLMjbQ', 'quadraKills': 1, 'riotIdName': '', 'riotIdTagline': '', 'role': 'NONE', 'sightWardsBoughtInGame': 0, 'spell1Casts': 78, 'spell2Casts': 129, 'spell3Casts': 0, 'spell4Casts': 9, 'summoner1Casts': 15, 'summoner1Id': 11, 'summoner2Casts': 3, 'summoner2Id': 4, 'summonerId': 'Q6FcZZneYLEFBb9WcMaVlKT9YPVwMP_XI4sC9RcToUwttsc', 'summonerLevel': 105, 'summonerName': 'Lysandrake', 'teamEarlySurrendered': False, 'teamId': 200, 'teamPosition': 'JUNGLE', 'timeCCingOthers': 21, 'timePlayed': 1908, 'totalDamageDealt': 173440, 'totalDamageDealtToChampions': 18434, 'totalDamageShieldedOnTeammates': 0, 'totalDamageTaken': 36958, 'totalHeal': 15972, 'totalHealsOnTeammates': 0, 'totalMinionsKilled': 24, 'totalTimeCCDealt': 479, 'totalTimeSpentDead': 214, 'totalUnitsHealed': 1, 'tripleKills': 1, 'trueDamageDealt': 17681, 'trueDamageDealtToChampions': 374, 'trueDamageTaken': 2731, 'turretKills': 1, 'turretTakedowns': 2, 'turretsLost': 6, 'unrealKills': 0, 'visionScore': 26, 'visionWardsBoughtInGame': 3, 'wardsKilled': 4, 'wardsPlaced': 5, 'win': True}, {'assists': 12, 'baronKills': 0, 'bountyLevel': 2, 'challenges': {'12AssistStreakCount': 0, 'abilityUses': 761, 'acesBefore15Minutes': 0, 'alliedJungleMonsterKills': 9.200000017881393, 'baronBuffGoldAdvantageOverThreshold': 1, 'baronTakedowns': 1, 'blastConeOppositeOpponentCount': 0, 'bountyGold': 750, 'buffsStolen': 0, 'controlWardsPlaced': 0, 'damagePerMinute': 5706.143317767326, 'damageTakenOnTeamPercentage': 0.16228563111468297, 'dancedWithRiftHerald': 0, 'deathsByEnemyChamps': 5, 'doubleAces': 0, 'dragonTakedowns': 3, 'earliestBaron': 1860.4308948999999, 'earliestDragonTakedown': 1062.6316914, 'earlyLaningPhaseGoldExpAdvantage': 0, 'effectiveHealAndShielding': 0, 'elderDragonKillsWithOpposingSoul': 0, 'elderDragonMultikills': 0, 'enemyChampionImmobilizations': 0, 'enemyJungleMonsterKills': 0.4000000059604645, 'epicMonsterKillsNearEnemyJungler': 0, 'epicMonsterKillsWithin30SecondsOfSpawn': 0, 'epicMonsterSteals': 0, 'flawlessAces': 2, 'fullTeamTakedown': 3, 'gameLength': 1908.4391845, 'getTakedownsInAllLanesEarlyJungleAsLaner': 0, 'goldPerMinute': 435.5562820824328, 'hadAfkTeammate': 0, 'hadOpenNexus': 0, 'highestChampionDamage': 1, 'initialBuffCount': 0, 'initialCrabCount': 0, 'jungleCsBefore10Minutes': 0, 'junglerKillsEarlyJungle': 0, 'junglerTakedownsNearDamagedEpicMonster': 0, 'kda': 4.2, 'killParticipation': 0.7, 'killsNearEnemyTurret': 0, 'killsOnLanersEarlyJungleAsJungler': 0, 'killsOnOtherLanesEarlyJungleAsLaner': 0, 'killsOnRecentlyHealedByAramPack': 0, 'killsUnderOwnTurret': 1, 'killsWithHelpFromEpicMonster': 1, 'laneMinionsFirst10Minutes': 64, 'laningPhaseGoldExpAdvantage': 0, 'legendaryCount': 0, 'lostAnInhibitor': 0, 'maxCsAdvantageOnLaneOpponent': 57.099999994039536, 'maxKillDeficit': 4, 'maxLevelLeadLaneOpponent': 2, 'moreEnemyJungleThanOpponent': -116.00000005960464, 'mostWardsDestroyedOneSweeper': 0, 'multiKillOneSpell': 0, 'multikills': 3, 'multikillsAfterAggressiveFlash': 0, 'mythicItemUsed': 3078, 'outerTurretExecutesBefore10Minutes': 0, 'outnumberedKills': 4, 'outnumberedNexusKill': 0, 'perfectDragonSoulsTaken': 0, 'perfectGame': 0, 'poroExplosions': 0, 'riftHeraldTakedowns': 0, 'scuttleCrabKills': 1, 'shortestTimeToAceFromFirstTakedown': 9.881453500000134, 'skillshotsDodged': 144, 'skillshotsHit': 39, 'snowballsHit': 0, 'soloBaronKills': 0, 'soloKills': 2, 'stealthWardsPlaced': 11, 'survivedSingleDigitHpCount': 0, 'takedownOnFirstTurret': 0, 'takedowns': 21, 'takedownsAfterGainingLevelAdvantage': 1, 'takedownsBeforeJungleMinionSpawn': 0, 'takedownsFirst25Minutes': 13, 'takedownsInAlcove': 0, 'takedownsInEnemyFountain': 0, 'teamBaronKills': 1, 'teamDamagePercentage': 0.2835586310981495, 'teamElderDragonKills': 0, 'teamRiftHeraldKills': 1, 'turretPlatesTaken': 1, 'turretTakedowns': 3, 'turretsTakenWithRiftHerald': 5, 'twentyMinionsIn3SecondsCount': 0, 'unseenRecalls': 0, 'visionScoreAdvantageLaneOpponent': 3.203328847885132, 'visionScorePerMinute': 0.6968438703444799, 'wardTakedowns': 2, 'wardTakedownsBefore20M': 2, 'wardsGuarded': 0}, 'champExperience': 16511, 'champLevel': 17, 'championId': 221, 'championName': 'Zeri', 'championTransform': 0, 'consumablesPurchased': 1, 'damageDealtToBuildings': 7622, 'damageDealtToObjectives': 17251, 'damageDealtToTurrets': 7622, 'damageSelfMitigated': 10312, 'deaths': 5, 'detectorWardsPlaced': 0, 'doubleKills': 2, 'dragonKills': 0, 'firstBloodAssist': False, 'firstBloodKill': False, 'firstTowerAssist': False, 'firstTowerKill': False, 'gameEndedInEarlySurrender': False, 'gameEndedInSurrender': False, 'goldEarned': 13853, 'goldSpent': 11433, 'individualPosition': 'MIDDLE', 'inhibitorKills': 1, 'inhibitorTakedowns': 2, 'inhibitorsLost': 0, 'item0': 3085, 'item1': 3078, 'item2': 3009, 'item3': 3748, 'item4': 3123, 'item5': 0, 'item6': 3340, 'itemsPurchased': 22, 'killingSprees': 2, 'kills': 9, 'lane': 'MIDDLE', 'largestCriticalStrike': 469, 'largestKillingSpree': 5, 'largestMultiKill': 3, 'longestTimeSpentLiving': 545, 'magicDamageDealt': 29604, 'magicDamageDealtToChampions': 10478, 'magicDamageTaken': 6151, 'neutralMinionsKilled': 14, 'nexusKills': 0, 'nexusLost': 0, 'nexusTakedowns': 1, 'objectivesStolen': 0, 'objectivesStolenAssists': 0, 'participantId': 8, 'pentaKills': 0, 'perks': {'statPerks': {'defense': 5003, 'flex': 5008, 'offense': 5005}, 'styles': [{'description': 'primaryStyle', 'selections': [{'perk': 8008, 'var1': 90, 'var2': 1, 'var3': 0}, {'perk': 9101, 'var1': 304, 'var2': 413, 'var3': 0}, {'perk': 9104, 'var1': 17, 'var2': 40, 'var3': 0}, {'perk': 8017, 'var1': 871, 'var2': 0, 'var3': 0}], 'style': 8000}, {'description': 'subStyle', 'selections': [{'perk': 8139, 'var1': 1117, 'var2': 0, 'var3': 0}, {'perk': 8134, 'var1': 12, 'var2': 5, 'var3': 0}], 'style': 8100}]}, 'physicalDamageDealt': 128735, 'physicalDamageDealtToChampions': 18832, 'physicalDamageTaken': 10653, 'profileIcon': 5031, 'puuid': 'dtYUu4WRg9v0nnvaZjkhcLueQpCHAkLvN4PQOnJSv6vGANbfKbccI7bDtqMsBBpjPmGrM5Xh1WWffg', 'quadraKills': 0, 'riotIdName': '', 'riotIdTagline': '', 'role': 'SOLO', 'sightWardsBoughtInGame': 0, 'spell1Casts': 634, 'spell2Casts': 55, 'spell3Casts': 63, 'spell4Casts': 9, 'summoner1Casts': 3, 'summoner1Id': 4, 'summoner2Casts': 3, 'summoner2Id': 12, 'summonerId': 'dPA2flLdGW9mLPjQtDKnoPBMCPvJY-5M7tU6pDErYqMhYic', 'summonerLevel': 196, 'summonerName': 'Moizzzz', 'teamEarlySurrendered': False, 'teamId': 200, 'teamPosition': 'MIDDLE', 'timeCCingOthers': 14, 'timePlayed': 1908, 'totalDamageDealt': 181497, 'totalDamageDealtToChampions': 30583, 'totalDamageShieldedOnTeammates': 0, 'totalDamageTaken': 17878, 'totalHeal': 2832, 'totalHealsOnTeammates': 0, 'totalMinionsKilled': 177, 'totalTimeCCDealt': 226, 'totalTimeSpentDead': 186, 'totalUnitsHealed': 1, 'tripleKills': 1, 'trueDamageDealt': 23156, 'trueDamageDealtToChampions': 1271, 'trueDamageTaken': 1074, 'turretKills': 1, 'turretTakedowns': 3, 'turretsLost': 6, 'unrealKills': 0, 'visionScore': 22, 'visionWardsBoughtInGame': 0, 'wardsKilled': 2, 'wardsPlaced': 11, 'win': True}, {'assists': 17, 'baronKills': 1, 'bountyLevel': 1, 'challenges': {'12AssistStreakCount': 0, 'abilityUses': 286, 'acesBefore15Minutes': 0, 'alliedJungleMonsterKills': 4, 'baronBuffGoldAdvantageOverThreshold': 1, 'baronTakedowns': 1, 'blastConeOppositeOpponentCount': 0, 'bountyGold': 650, 'buffsStolen': 0, 'controlWardTimeCoverageInRiverOrEnemyHalf': 0.04390684014484508, 'controlWardsPlaced': 1, 'damagePerMinute': 3659.862169949068, 'damageTakenOnTeamPercentage': 0.1811982120482293, 'dancedWithRiftHerald': 0, 'deathsByEnemyChamps': 9, 'doubleAces': 0, 'dragonTakedowns': 5, 'earliestBaron': 1860.4308948999999, 'earliestDragonTakedown': 393.13079899999997, 'earlyLaningPhaseGoldExpAdvantage': -0.13501912355422974, 'effectiveHealAndShielding': 0, 'elderDragonKillsWithOpposingSoul': 0, 'elderDragonMultikills': 0, 'enemyChampionImmobilizations': 9, 'enemyJungleMonsterKills': 1, 'epicMonsterKillsNearEnemyJungler': 0, 'epicMonsterKillsWithin30SecondsOfSpawn': 1, 'epicMonsterSteals': 0, 'flawlessAces': 2, 'fullTeamTakedown': 3, 'gameLength': 1908.4391845, 'getTakedownsInAllLanesEarlyJungleAsLaner': 0, 'goldPerMinute': 440.22065900353033, 'hadAfkTeammate': 0, 'hadOpenNexus': 0, 'highestWardKills': 1, 'initialBuffCount': 0, 'initialCrabCount': 0, 'jungleCsBefore10Minutes': 0, 'junglerKillsEarlyJungle': 0, 'junglerTakedownsNearDamagedEpicMonster': 0, 'kda': 3.111111111111111, 'killParticipation': 0.9333333333333333, 'killsNearEnemyTurret': 4, 'killsOnLanersEarlyJungleAsJungler': 0, 'killsOnOtherLanesEarlyJungleAsLaner': 0, 'killsOnRecentlyHealedByAramPack': 0, 'killsUnderOwnTurret': 1, 'killsWithHelpFromEpicMonster': 1, 'laneMinionsFirst10Minutes': 45, 'laningPhaseGoldExpAdvantage': 0, 'legendaryCount': 0, 'lostAnInhibitor': 0, 'maxCsAdvantageOnLaneOpponent': 11, 'maxKillDeficit': 4, 'maxLevelLeadLaneOpponent': 1, 'moreEnemyJungleThanOpponent': -116.00000005960464, 'mostWardsDestroyedOneSweeper': 0, 'multiKillOneSpell': 0, 'multikills': 2, 'multikillsAfterAggressiveFlash': 0, 'mythicItemUsed': 6672, 'outerTurretExecutesBefore10Minutes': 0, 'outnumberedKills': 2, 'outnumberedNexusKill': 0, 'perfectDragonSoulsTaken': 0, 'perfectGame': 0, 'poroExplosions': 0, 'riftHeraldTakedowns': 0, 'scuttleCrabKills': 1, 'shortestTimeToAceFromFirstTakedown': 9.881453500000134, 'skillshotsDodged': 194, 'skillshotsHit': 78, 'snowballsHit': 0, 'soloBaronKills': 0, 'soloKills': 0, 'stealthWardsPlaced': 11, 'survivedSingleDigitHpCount': 0, 'takedownOnFirstTurret': 0, 'takedowns': 28, 'takedownsAfterGainingLevelAdvantage': 0, 'takedownsBeforeJungleMinionSpawn': 0, 'takedownsFirst25Minutes': 18, 'takedownsInAlcove': 0, 'takedownsInEnemyFountain': 0, 'teamBaronKills': 1, 'teamDamagePercentage': 0.26544185694567324, 'teamElderDragonKills': 0, 'teamRiftHeraldKills': 1, 'turretPlatesTaken': 3, 'turretTakedowns': 3, 'turretsTakenWithRiftHerald': 5, 'twentyMinionsIn3SecondsCount': 0, 'unseenRecalls': 0, 'visionScoreAdvantageLaneOpponent': 1.9144649505615234, 'visionScorePerMinute': 1.1338240411797753, 'wardTakedowns': 11, 'wardTakedownsBefore20M': 5, 'wardsGuarded': 0}, 'champExperience': 12779, 'champLevel': 14, 'championId': 429, 'championName': 'Kalista', 'championTransform': 0, 'consumablesPurchased': 2, 'damageDealtToBuildings': 4893, 'damageDealtToObjectives': 19151, 'damageDealtToTurrets': 4893, 'damageSelfMitigated': 11307, 'deaths': 9, 'detectorWardsPlaced': 1, 'doubleKills': 2, 'dragonKills': 1, 'firstBloodAssist': False, 'firstBloodKill': False, 'firstTowerAssist': False, 'firstTowerKill': False, 'gameEndedInEarlySurrender': False, 'gameEndedInSurrender': False, 'goldEarned': 14002, 'goldSpent': 12375, 'individualPosition': 'BOTTOM', 'inhibitorKills': 1, 'inhibitorTakedowns': 2, 'inhibitorsLost': 0, 'item0': 6672, 'item1': 3033, 'item2': 3006, 'item3': 3085, 'item4': 1038, 'item5': 1053, 'item6': 3340, 'itemsPurchased': 22, 'killingSprees': 3, 'kills': 11, 'lane': 'BOTTOM', 'largestCriticalStrike': 456, 'largestKillingSpree': 3, 'largestMultiKill': 2, 'longestTimeSpentLiving': 408, 'magicDamageDealt': 5224, 'magicDamageDealtToChampions': 4505, 'magicDamageTaken': 3140, 'neutralMinionsKilled': 18, 'nexusKills': 0, 'nexusLost': 0, 'nexusTakedowns': 1, 'objectivesStolen': 0, 'objectivesStolenAssists': 0, 'participantId': 9, 'pentaKills': 0, 'perks': {'statPerks': {'defense': 5003, 'flex': 5008, 'offense': 5005}, 'styles': [{'description': 'primaryStyle', 'selections': [{'perk': 8005, 'var1': 2214, 'var2': 974, 'var3': 1240}, {'perk': 9111, 'var1': 1673, 'var2': 560, 'var3': 0}, {'perk': 9104, 'var1': 12, 'var2': 40, 'var3': 0}, {'perk': 8014, 'var1': 679, 'var2': 0, 'var3': 0}], 'style': 8000}, {'description': 'subStyle', 'selections': [{'perk': 8135, 'var1': 3304, 'var2': 5, 'var3': 0}, {'perk': 8126, 'var1': 990, 'var2': 0, 'var3': 0}], 'style': 8100}]}, 'physicalDamageDealt': 95774, 'physicalDamageDealtToChampions': 20178, 'physicalDamageTaken': 16010, 'profileIcon': 548, 'puuid': 'PkyDyFsJQ35GQYruyFBfALnEvWKhRNSPqNyq15L6wgmY4WWH_ddk1ufUMtNh2-ioNtJvHwo-aY3c-w', 'quadraKills': 0, 'riotIdName': '', 'riotIdTagline': '', 'role': 'CARRY', 'sightWardsBoughtInGame': 0, 'spell1Casts': 76, 'spell2Casts': 8, 'spell3Casts': 194, 'spell4Casts': 8, 'summoner1Casts': 8, 'summoner1Id': 14, 'summoner2Casts': 5, 'summoner2Id': 3, 'summonerId': 'upGX2h3cyIw3yDySH7DaqVEYB9CeJaR-o5CiHTZz7_ytVGhT', 'summonerLevel': 360, 'summonerName': 'L1NKMAN', 'teamEarlySurrendered': False, 'teamId': 200, 'teamPosition': 'BOTTOM', 'timeCCingOthers': 22, 'timePlayed': 1908, 'totalDamageDealt': 116410, 'totalDamageDealtToChampions': 28629, 'totalDamageShieldedOnTeammates': 0, 'totalDamageTaken': 19962, 'totalHeal': 2179, 'totalHealsOnTeammates': 0, 'totalMinionsKilled': 138, 'totalTimeCCDealt': 168, 'totalTimeSpentDead': 235, 'totalUnitsHealed': 1, 'tripleKills': 0, 'trueDamageDealt': 15411, 'trueDamageDealtToChampions': 3944, 'trueDamageTaken': 811, 'turretKills': 0, 'turretTakedowns': 3, 'turretsLost': 6, 'unrealKills': 0, 'visionScore': 36, 'visionWardsBoughtInGame': 1, 'wardsKilled': 11, 'wardsPlaced': 12, 'win': True}, {'assists': 26, 'baronKills': 0, 'bountyLevel': 1, 'challenges': {'12AssistStreakCount': 1, 'abilityUses': 134, 'acesBefore15Minutes': 0, 'alliedJungleMonsterKills': 0, 'baronBuffGoldAdvantageOverThreshold': 1, 'baronTakedowns': 1, 'blastConeOppositeOpponentCount': 0, 'bountyGold': 0, 'buffsStolen': 0, 'controlWardTimeCoverageInRiverOrEnemyHalf': 0.10400557094618802, 'controlWardsPlaced': 1, 'damagePerMinute': 884.8644965165249, 'damageTakenOnTeamPercentage': 0.18601949288122516, 'dancedWithRiftHerald': 0, 'deathsByEnemyChamps': 5, 'doubleAces': 0, 'dragonTakedowns': 4, 'earliestBaron': 1860.4308948999999, 'earliestDragonTakedown': 393.13079899999997, 'earlyLaningPhaseGoldExpAdvantage': -0.15633618831634521, 'effectiveHealAndShielding': 5742.5498046875, 'elderDragonKillsWithOpposingSoul': 0, 'elderDragonMultikills': 0, 'enemyChampionImmobilizations': 80, 'enemyJungleMonsterKills': 0, 'epicMonsterKillsNearEnemyJungler': 0, 'epicMonsterKillsWithin30SecondsOfSpawn': 0, 'epicMonsterSteals': 0, 'flawlessAces': 2, 'fullTeamTakedown': 3, 'gameLength': 1908.4391845, 'getTakedownsInAllLanesEarlyJungleAsLaner': 0, 'goldPerMinute': 290.3830231241775, 'hadAfkTeammate': 0, 'hadOpenNexus': 0, 'initialBuffCount': 0, 'initialCrabCount': 0, 'jungleCsBefore10Minutes': 0, 'junglerKillsEarlyJungle': 0, 'junglerTakedownsNearDamagedEpicMonster': 0, 'kda': 5.8, 'killParticipation': 0.9666666666666667, 'killsNearEnemyTurret': 0, 'killsOnLanersEarlyJungleAsJungler': 0, 'killsOnOtherLanesEarlyJungleAsLaner': 0, 'killsOnRecentlyHealedByAramPack': 0, 'killsUnderOwnTurret': 0, 'killsWithHelpFromEpicMonster': 0, 'laneMinionsFirst10Minutes': 17, 'laningPhaseGoldExpAdvantage': -0.03808188438415527, 'legendaryCount': 0, 'lostAnInhibitor': 0, 'maxCsAdvantageOnLaneOpponent': 24, 'maxKillDeficit': 4, 'maxLevelLeadLaneOpponent': 2, 'moreEnemyJungleThanOpponent': -116.00000005960464, 'mostWardsDestroyedOneSweeper': 0, 'multiKillOneSpell': 0, 'multikills': 0, 'multikillsAfterAggressiveFlash': 0, 'mythicItemUsed': 3190, 'outerTurretExecutesBefore10Minutes': 0, 'outnumberedKills': 0, 'outnumberedNexusKill': 0, 'perfectDragonSoulsTaken': 0, 'perfectGame': 0, 'poroExplosions': 0, 'riftHeraldTakedowns': 0, 'scuttleCrabKills': 0, 'shortestTimeToAceFromFirstTakedown': 9.881453500000134, 'skillshotsDodged': 251, 'skillshotsHit': 79, 'snowballsHit': 0, 'soloBaronKills': 0, 'soloKills': 0, 'stealthWardsPlaced': 25, 'survivedSingleDigitHpCount': 0, 'takedownOnFirstTurret': 0, 'takedowns': 29, 'takedownsAfterGainingLevelAdvantage': 0, 'takedownsBeforeJungleMinionSpawn': 0, 'takedownsFirst25Minutes': 19, 'takedownsInAlcove': 0, 'takedownsInEnemyFountain': 0, 'teamBaronKills': 1, 'teamDamagePercentage': 0.10262059187462312, 'teamElderDragonKills': 0, 'teamRiftHeraldKills': 1, 'teleportTakedowns': 4, 'turretPlatesTaken': 3, 'turretTakedowns': 3, 'turretsTakenWithRiftHerald': 5, 'twentyMinionsIn3SecondsCount': 0, 'unseenRecalls': 0, 'visionScoreAdvantageLaneOpponent': 0.8597715497016907, 'visionScorePerMinute': 1.7648717913220642, 'wardTakedowns': 3, 'wardTakedownsBefore20M': 2, 'wardsGuarded': 0}, 'champExperience': 12152, 'champLevel': 14, 'championId': 412, 'championName': 'Thresh', 'championTransform': 0, 'consumablesPurchased': 9, 'damageDealtToBuildings': 1799, 'damageDealtToObjectives': 4817, 'damageDealtToTurrets': 1799, 'damageSelfMitigated': 24571, 'deaths': 5, 'detectorWardsPlaced': 1, 'doubleKills': 0, 'dragonKills': 0, 'firstBloodAssist': False, 'firstBloodKill': False, 'firstTowerAssist': False, 'firstTowerKill': False, 'gameEndedInEarlySurrender': False, 'gameEndedInSurrender': False, 'goldEarned': 9236, 'goldSpent': 7875, 'individualPosition': 'UTILITY', 'inhibitorKills': 0, 'inhibitorTakedowns': 2, 'inhibitorsLost': 0, 'item0': 3860, 'item1': 3190, 'item2': 3117, 'item3': 3050, 'item4': 3076, 'item5': 0, 'item6': 3364, 'itemsPurchased': 26, 'killingSprees': 0, 'kills': 3, 'lane': 'BOTTOM', 'largestCriticalStrike': 0, 'largestKillingSpree': 0, 'largestMultiKill': 1, 'longestTimeSpentLiving': 498, 'magicDamageDealt': 19559, 'magicDamageDealtToChampions': 9049, 'magicDamageTaken': 7185, 'neutralMinionsKilled': 0, 'nexusKills': 0, 'nexusLost': 0, 'nexusTakedowns': 1, 'objectivesStolen': 0, 'objectivesStolenAssists': 0, 'participantId': 10, 'pentaKills': 0, 'perks': {'statPerks': {'defense': 5003, 'flex': 5002, 'offense': 5007}, 'styles': [{'description': 'primaryStyle', 'selections': [{'perk': 8465, 'var1': 3326, 'var2': 0, 'var3': 0}, {'perk': 8446, 'var1': 803, 'var2': 0, 'var3': 0}, {'perk': 8473, 'var1': 253, 'var2': 0, 'var3': 0}, {'perk': 8451, 'var1': 179, 'var2': 0, 'var3': 0}], 'style': 8400}, {'description': 'subStyle', 'selections': [{'perk': 8345, 'var1': 3, 'var2': 0, 'var3': 0}, {'perk': 8347, 'var1': 0, 'var2': 0, 'var3': 0}], 'style': 8300}]}, 'physicalDamageDealt': 4431, 'physicalDamageDealtToChampions': 1048, 'physicalDamageTaken': 12883, 'profileIcon': 1298, 'puuid': 'M8agh_QgrDjQ02Ulf1NcFr-f1osn-HMxuaLnamJusYu0NLI-ZGRj8tmaWmaOPTbqjEo69XCzNBzu5w', 'quadraKills': 0, 'riotIdName': '', 'riotIdTagline': '', 'role': 'SUPPORT', 'sightWardsBoughtInGame': 0, 'spell1Casts': 67, 'spell2Casts': 28, 'spell3Casts': 27, 'spell4Casts': 12, 'summoner1Casts': 7, 'summoner1Id': 14, 'summoner2Casts': 5, 'summoner2Id': 3, 'summonerId': '4eawdz_oRiySR5Ssd8F9fmpdVJ-CbsLKADKa1Pgj8wLG_LJEz7NQ3WfrUA', 'summonerLevel': 109, 'summonerName': 'overdos', 'teamEarlySurrendered': False, 'teamId': 200, 'teamPosition': 'UTILITY', 'timeCCingOthers': 52, 'timePlayed': 1908, 'totalDamageDealt': 28145, 'totalDamageDealtToChampions': 11068, 'totalDamageShieldedOnTeammates': 5742, 'totalDamageTaken': 20493, 'totalHeal': 2032, 'totalHealsOnTeammates': 0, 'totalMinionsKilled': 34, 'totalTimeCCDealt': 176, 'totalTimeSpentDead': 137, 'totalUnitsHealed': 1, 'tripleKills': 0, 'trueDamageDealt': 4154, 'trueDamageDealtToChampions': 969, 'trueDamageTaken': 424, 'turretKills': 1, 'turretTakedowns': 3, 'turretsLost': 6, 'unrealKills': 0, 'visionScore': 56, 'visionWardsBoughtInGame': 1, 'wardsKilled': 3, 'wardsPlaced': 29, 'win': True}], 'platformId': 'EUW1', 'queueId': 420, 'teams': [{'bans': [{'championId': 106, 'pickTurn': 1}, {'championId': 45, 'pickTurn': 2}, {'championId': 50, 'pickTurn': 3}, {'championId': 29, 'pickTurn': 4}, {'championId': 75, 'pickTurn': 5}], 'objectives': {'baron': {'first': True, 'kills': 1}, 'champion': {'first': True, 'kills': 30}, 'dragon': {'first': True, 'kills': 1}, 'inhibitor': {'first': False, 'kills': 0}, 'riftHerald': {'first': False, 'kills': 0}, 'tower': {'first': True, 'kills': 6}}, 'teamId': 100, 'win': False}, {'bans': [{'championId': 11, 'pickTurn': 6}, {'championId': 164, 'pickTurn': 7}, {'championId': 21, 'pickTurn': 8}, {'championId': 25, 'pickTurn': 9}, {'championId': 234, 'pickTurn': 10}], 'objectives': {'baron': {'first': False, 'kills': 1}, 'champion': {'first': False, 'kills': 35}, 'dragon': {'first': False, 'kills': 4}, 'inhibitor': {'first': True, 'kills': 2}, 'riftHerald': {'first': True, 'kills': 1}, 'tower': {'first': False, 'kills': 7}}, 'teamId': 200, 'win': True}], 'tournamentCode': ''}\n",
      "metadata > {'dataVersion': '2', 'matchId': 'EUW1_5722834474', 'participants': ['SKYMwO2j3b_5KzY8OFZGW6PdENAbi4WMCqV_krff8LVxSySgj--jnQ4jBCOEP7d2Ilee6k927XnqRg', 'NxWL6eENWEnKtbpWwBbSAK1aMuw1XPht4oVJZ8RWx3MFU-nkjIhemjKQzjMa0WSTLIVMBzP6gH1HXg', 'zXhtxxlyUcLJRxcGxzKSQX9dZWbarbUrtkP0vpIcVl93ppUajaj1cnhPtuWt3X9Xa_qKGQKq4yUWJA', 'BeBNqIDDw5GvcIf7iKNL_eYDHGy1xDV4Ctk67T-KI9JaC-qleGDIwSSreiZWBHLHpNPUOqkWwE7K8w', 'AWxPq5JITrCgWCx2hN-pSoDGiN031I9Zq2_M2fspUnkrFoFO5K6wHCQc6vLrKAAeLUIvqcVjGW8CCA', 'yIH9UxVEx1eYn01A1mKuOyYz9OImo4pGgo9G72YsInAUzGfsgWuIRS7A7zvAcYJxYTx6ItHK3O9KKw', '0eJPa-Uvu6HHYjcwueODwivoBzstVtsD7yGtLu9rIWtJp0przPwgmDG_C6RO_VHVVLSltfygGPlizQ', 'Z_gM6P7mN7UpQ8W6nkDcs3b4_qUKMrree-cwEYMwgOF-G8ltYGXSG-1CBBP_58Hey60IM5GdC31Gkw', 'WOJ5x4WuUAGSIW0Z_8Kc7SVJlGTGBJj-sW9a-9MzRQxI7uC2vVt1JnNK4J8kfLhjGHec1BB3PQvrKw', 'FoFzbHyyaA9d_sRDmh7-T5xEgWxMf-mByWaVROMwlLTjnBd9L2pFHwcKmroA9zaODaSuvizCzpBKcg']}\n",
      "info > {'gameCreation': 1644507201000, 'gameDuration': 1299, 'gameEndTimestamp': 1644508537517, 'gameId': 5722834474, 'gameMode': 'CLASSIC', 'gameName': 'teambuilder-match-5722834474', 'gameStartTimestamp': 1644507238487, 'gameType': 'MATCHED_GAME', 'gameVersion': '12.3.421.5967', 'mapId': 11, 'participants': [{'assists': 0, 'baronKills': 0, 'bountyLevel': 1, 'challenges': {'12AssistStreakCount': 0, 'abilityUses': 134, 'acesBefore15Minutes': 0, 'alliedJungleMonsterKills': 4, 'baronTakedowns': 0, 'blastConeOppositeOpponentCount': 0, 'bountyGold': 700, 'buffsStolen': 0, 'controlWardsPlaced': 0, 'damagePerMinute': 3290.595559841033, 'damageTakenOnTeamPercentage': 0.19795823162213436, 'dancedWithRiftHerald': 0, 'deathsByEnemyChamps': 3, 'doubleAces': 0, 'dragonTakedowns': 0, 'earlyLaningPhaseGoldExpAdvantage': -0.13401788473129272, 'effectiveHealAndShielding': 0, 'elderDragonKillsWithOpposingSoul': 0, 'elderDragonMultikills': 0, 'enemyChampionImmobilizations': 0, 'enemyJungleMonsterKills': 0, 'epicMonsterKillsNearEnemyJungler': 0, 'epicMonsterKillsWithin30SecondsOfSpawn': 0, 'epicMonsterSteals': 0, 'flawlessAces': 0, 'fullTeamTakedown': 0, 'gameLength': 1299.1352696672695, 'getTakedownsInAllLanesEarlyJungleAsLaner': 0, 'goldPerMinute': 345.1661801996934, 'hadAfkTeammate': 0, 'hadOpenNexus': 0, 'initialBuffCount': 0, 'initialCrabCount': 0, 'jungleCsBefore10Minutes': 0, 'junglerKillsEarlyJungle': 0, 'junglerTakedownsNearDamagedEpicMonster': 0, 'kda': 0.3333333333333333, 'killParticipation': 0.030303030303030304, 'killsNearEnemyTurret': 0, 'killsOnLanersEarlyJungleAsJungler': 0, 'killsOnOtherLanesEarlyJungleAsLaner': 0, 'killsOnRecentlyHealedByAramPack': 0, 'killsUnderOwnTurret': 1, 'killsWithHelpFromEpicMonster': 0, 'laneMinionsFirst10Minutes': 62, 'laningPhaseGoldExpAdvantage': -0.16947776079177856, 'legendaryCount': 0, 'lostAnInhibitor': 0, 'maxCsAdvantageOnLaneOpponent': 6, 'maxKillDeficit': 0, 'maxLevelLeadLaneOpponent': 0, 'moreEnemyJungleThanOpponent': -131.00000008940697, 'mostWardsDestroyedOneSweeper': 0, 'multiKillOneSpell': 0, 'multikills': 0, 'multikillsAfterAggressiveFlash': 0, 'mythicItemUsed': 6631, 'outerTurretExecutesBefore10Minutes': 0, 'outnumberedKills': 0, 'outnumberedNexusKill': 0, 'perfectDragonSoulsTaken': 0, 'perfectGame': 0, 'poroExplosions': 0, 'riftHeraldTakedowns': 0, 'scuttleCrabKills': 0, 'skillshotsDodged': 43, 'skillshotsHit': 39, 'snowballsHit': 0, 'soloBaronKills': 0, 'soloKills': 0, 'stealthWardsPlaced': 6, 'survivedSingleDigitHpCount': 0, 'takedownOnFirstTurret': 0, 'takedowns': 1, 'takedownsAfterGainingLevelAdvantage': 0, 'takedownsBeforeJungleMinionSpawn': 0, 'takedownsFirst25Minutes': 1, 'takedownsInAlcove': 0, 'takedownsInEnemyFountain': 0, 'teamBaronKills': 0, 'teamDamagePercentage': 0.19641065937052749, 'teamElderDragonKills': 0, 'teamRiftHeraldKills': 1, 'turretPlatesTaken': 0, 'turretTakedowns': 1, 'turretsTakenWithRiftHerald': 5, 'twentyMinionsIn3SecondsCount': 0, 'unseenRecalls': 0, 'visionScoreAdvantageLaneOpponent': 0.5234798192977905, 'visionScorePerMinute': 0.44118621473405, 'wardTakedowns': 0, 'wardTakedownsBefore20M': 0, 'wardsGuarded': 0}, 'champExperience': 9649, 'champLevel': 12, 'championId': 86, 'championName': 'Garen', 'championTransform': 0, 'consumablesPurchased': 2, 'damageDealtToBuildings': 1313, 'damageDealtToObjectives': 1313, 'damageDealtToTurrets': 1313, 'damageSelfMitigated': 15197, 'deaths': 3, 'detectorWardsPlaced': 0, 'doubleKills': 0, 'dragonKills': 0, 'firstBloodAssist': False, 'firstBloodKill': False, 'firstTowerAssist': False, 'firstTowerKill': False, 'gameEndedInEarlySurrender': False, 'gameEndedInSurrender': True, 'goldEarned': 7473, 'goldSpent': 6200, 'individualPosition': 'TOP', 'inhibitorKills': 0, 'inhibitorTakedowns': 0, 'inhibitorsLost': 1, 'item0': 1055, 'item1': 6631, 'item2': 3111, 'item3': 1057, 'item4': 1028, 'item5': 0, 'item6': 3340, 'itemsPurchased': 14, 'killingSprees': 0, 'kills': 1, 'lane': 'TOP', 'largestCriticalStrike': 0, 'largestKillingSpree': 0, 'largestMultiKill': 1, 'longestTimeSpentLiving': 833, 'magicDamageDealt': 0, 'magicDamageDealtToChampions': 0, 'magicDamageTaken': 8418, 'neutralMinionsKilled': 4, 'nexusKills': 0, 'nexusLost': 0, 'nexusTakedowns': 0, 'objectivesStolen': 0, 'objectivesStolenAssists': 0, 'participantId': 1, 'pentaKills': 0, 'perks': {'statPerks': {'defense': 5003, 'flex': 5003, 'offense': 5007}, 'styles': [{'description': 'primaryStyle', 'selections': [{'perk': 8010, 'var1': 373, 'var2': 0, 'var3': 0}, {'perk': 9111, 'var1': 61, 'var2': 20, 'var3': 0}, {'perk': 9105, 'var1': 0, 'var2': 0, 'var3': 0}, {'perk': 8014, 'var1': 2, 'var2': 0, 'var3': 0}], 'style': 8000}, {'description': 'subStyle', 'selections': [{'perk': 8444, 'var1': 907, 'var2': 0, 'var3': 0}, {'perk': 8451, 'var1': 149, 'var2': 0, 'var3': 0}], 'style': 8400}]}, 'physicalDamageDealt': 68878, 'physicalDamageDealtToChampions': 5449, 'physicalDamageTaken': 4872, 'profileIcon': 4244, 'puuid': 'SKYMwO2j3b_5KzY8OFZGW6PdENAbi4WMCqV_krff8LVxSySgj--jnQ4jBCOEP7d2Ilee6k927XnqRg', 'quadraKills': 0, 'riotIdName': '', 'riotIdTagline': '', 'role': 'SOLO', 'sightWardsBoughtInGame': 0, 'spell1Casts': 60, 'spell2Casts': 22, 'spell3Casts': 49, 'spell4Casts': 3, 'summoner1Casts': 3, 'summoner1Id': 4, 'summoner2Casts': 4, 'summoner2Id': 14, 'summonerId': 'spmWk8RvahWQ-spz5qVeevFpe9HzsLIGHSkyT-cyZ8tc_qs', 'summonerLevel': 135, 'summonerName': 'saguimave', 'teamEarlySurrendered': False, 'teamId': 100, 'teamPosition': 'TOP', 'timeCCingOthers': 29, 'timePlayed': 1299, 'totalDamageDealt': 71248, 'totalDamageDealtToChampions': 7820, 'totalDamageShieldedOnTeammates': 0, 'totalDamageTaken': 13966, 'totalHeal': 337, 'totalHealsOnTeammates': 0, 'totalMinionsKilled': 136, 'totalTimeCCDealt': 156, 'totalTimeSpentDead': 84, 'totalUnitsHealed': 1, 'tripleKills': 0, 'trueDamageDealt': 2370, 'trueDamageDealtToChampions': 2370, 'trueDamageTaken': 676, 'turretKills': 1, 'turretTakedowns': 1, 'turretsLost': 6, 'unrealKills': 0, 'visionScore': 9, 'visionWardsBoughtInGame': 0, 'wardsKilled': 0, 'wardsPlaced': 6, 'win': False}, {'assists': 1, 'baronKills': 0, 'bountyLevel': 0, 'challenges': {'12AssistStreakCount': 0, 'abilityUses': 179, 'acesBefore15Minutes': 0, 'alliedJungleMonsterKills': 82.00000011920929, 'baronTakedowns': 0, 'blastConeOppositeOpponentCount': 0, 'bountyGold': 0, 'buffsStolen': 0, 'controlWardTimeCoverageInRiverOrEnemyHalf': 0.2649243158421445, 'controlWardsPlaced': 1, 'damagePerMinute': 4737.869792093655, 'damageTakenOnTeamPercentage': 0.3043687022876885, 'dancedWithRiftHerald': 0, 'deathsByEnemyChamps': 8, 'doubleAces': 0, 'dragonTakedowns': 2, 'earliestDragonTakedown': 650.291675695238, 'earlyLaningPhaseGoldExpAdvantage': -0.3293836712837219, 'effectiveHealAndShielding': 0, 'elderDragonKillsWithOpposingSoul': 0, 'elderDragonMultikills': 0, 'enemyChampionImmobilizations': 8, 'enemyJungleMonsterKills': 0, 'epicMonsterKillsNearEnemyJungler': 0, 'epicMonsterKillsWithin30SecondsOfSpawn': 1, 'epicMonsterSteals': 0, 'flawlessAces': 0, 'fullTeamTakedown': 0, 'gameLength': 1299.1352696672695, 'goldPerMinute': 292.8852728231117, 'hadAfkTeammate': 0, 'hadOpenNexus': 0, 'highestWardKills': 1, 'initialBuffCount': 2, 'initialCrabCount': 0, 'jungleCsBefore10Minutes': 60.000000059604645, 'junglerKillsEarlyJungle': 0, 'junglerTakedownsNearDamagedEpicMonster': 0, 'kda': 0.25, 'killParticipation': 0.06060606060606061, 'killsNearEnemyTurret': 0, 'killsOnLanersEarlyJungleAsJungler': 1, 'killsOnRecentlyHealedByAramPack': 0, 'killsUnderOwnTurret': 0, 'killsWithHelpFromEpicMonster': 1, 'laneMinionsFirst10Minutes': 1, 'laningPhaseGoldExpAdvantage': -0.3814547657966614, 'legendaryCount': 0, 'lostAnInhibitor': 0, 'maxCsAdvantageOnLaneOpponent': 1, 'maxKillDeficit': 0, 'maxLevelLeadLaneOpponent': 1, 'moreEnemyJungleThanOpponent': -71.00000002980232, 'mostWardsDestroyedOneSweeper': 0, 'multiKillOneSpell': 0, 'multikills': 0, 'multikillsAfterAggressiveFlash': 0, 'mythicItemUsed': 6672, 'outerTurretExecutesBefore10Minutes': 0, 'outnumberedKills': 0, 'outnumberedNexusKill': 0, 'perfectDragonSoulsTaken': 0, 'perfectGame': 0, 'poroExplosions': 0, 'riftHeraldTakedowns': 1, 'scuttleCrabKills': 1, 'skillshotsDodged': 29, 'skillshotsHit': 16, 'snowballsHit': 0, 'soloBaronKills': 0, 'soloKills': 0, 'stealthWardsPlaced': 4, 'survivedSingleDigitHpCount': 0, 'takedownOnFirstTurret': 0, 'takedowns': 2, 'takedownsAfterGainingLevelAdvantage': 0, 'takedownsBeforeJungleMinionSpawn': 0, 'takedownsFirst25Minutes': 2, 'takedownsInAlcove': 0, 'takedownsInEnemyFountain': 0, 'teamBaronKills': 0, 'teamDamagePercentage': 0.17988652873715677, 'teamElderDragonKills': 0, 'teamRiftHeraldKills': 1, 'teleportTakedowns': 1, 'turretPlatesTaken': 0, 'turretTakedowns': 0, 'turretsTakenWithRiftHerald': 5, 'twentyMinionsIn3SecondsCount': 0, 'unseenRecalls': 0, 'visionScoreAdvantageLaneOpponent': 1.1231805086135864, 'visionScorePerMinute': 0.9366452506687075, 'wardTakedowns': 4, 'wardTakedownsBefore20M': 4, 'wardsGuarded': 0}, 'champExperience': 7298, 'champLevel': 10, 'championId': 234, 'championName': 'Viego', 'championTransform': 0, 'consumablesPurchased': 1, 'damageDealtToBuildings': 0, 'damageDealtToObjectives': 21845, 'damageDealtToTurrets': 0, 'damageSelfMitigated': 12105, 'deaths': 8, 'detectorWardsPlaced': 1, 'doubleKills': 0, 'dragonKills': 2, 'firstBloodAssist': False, 'firstBloodKill': False, 'firstTowerAssist': False, 'firstTowerKill': False, 'gameEndedInEarlySurrender': False, 'gameEndedInSurrender': True, 'goldEarned': 6341, 'goldSpent': 6225, 'individualPosition': 'JUNGLE', 'inhibitorKills': 0, 'inhibitorTakedowns': 0, 'inhibitorsLost': 1, 'item0': 6672, 'item1': 3051, 'item2': 1033, 'item3': 3111, 'item4': 0, 'item5': 0, 'item6': 3364, 'itemsPurchased': 15, 'killingSprees': 0, 'kills': 1, 'lane': 'JUNGLE', 'largestCriticalStrike': 287, 'largestKillingSpree': 0, 'largestMultiKill': 1, 'longestTimeSpentLiving': 283, 'magicDamageDealt': 9725, 'magicDamageDealtToChampions': 646, 'magicDamageTaken': 8142, 'neutralMinionsKilled': 107, 'nexusKills': 0, 'nexusLost': 0, 'nexusTakedowns': 0, 'objectivesStolen': 0, 'objectivesStolenAssists': 0, 'participantId': 2, 'pentaKills': 0, 'perks': {'statPerks': {'defense': 5002, 'flex': 5008, 'offense': 5005}, 'styles': [{'description': 'primaryStyle', 'selections': [{'perk': 8010, 'var1': 210, 'var2': 0, 'var3': 0}, {'perk': 9111, 'var1': 106, 'var2': 40, 'var3': 0}, {'perk': 9104, 'var1': 16, 'var2': 10, 'var3': 0}, {'perk': 8014, 'var1': 100, 'var2': 0, 'var3': 0}], 'style': 8000}, {'description': 'subStyle', 'selections': [{'perk': 8304, 'var1': 10, 'var2': 3, 'var3': 0}, {'perk': 8347, 'var1': 0, 'var2': 0, 'var3': 0}], 'style': 8300}]}, 'physicalDamageDealt': 79373, 'physicalDamageDealtToChampions': 5674, 'physicalDamageTaken': 12941, 'profileIcon': 18, 'puuid': 'NxWL6eENWEnKtbpWwBbSAK1aMuw1XPht4oVJZ8RWx3MFU-nkjIhemjKQzjMa0WSTLIVMBzP6gH1HXg', 'quadraKills': 0, 'riotIdName': '', 'riotIdTagline': '', 'role': 'NONE', 'sightWardsBoughtInGame': 0, 'spell1Casts': 96, 'spell2Casts': 58, 'spell3Casts': 20, 'spell4Casts': 5, 'summoner1Casts': 13, 'summoner1Id': 11, 'summoner2Casts': 4, 'summoner2Id': 4, 'summonerId': 'jmLqnbfVHD0vAQZOL31879-sfRnwOVoCugR6qbk-CwFbSo7aV-9hNLNQcg', 'summonerLevel': 56, 'summonerName': 'cloupt', 'teamEarlySurrendered': False, 'teamId': 100, 'teamPosition': 'JUNGLE', 'timeCCingOthers': 13, 'timePlayed': 1299, 'totalDamageDealt': 102585, 'totalDamageDealtToChampions': 7162, 'totalDamageShieldedOnTeammates': 0, 'totalDamageTaken': 21474, 'totalHeal': 8809, 'totalHealsOnTeammates': 0, 'totalMinionsKilled': 7, 'totalTimeCCDealt': 153, 'totalTimeSpentDead': 203, 'totalUnitsHealed': 1, 'tripleKills': 0, 'trueDamageDealt': 13486, 'trueDamageDealtToChampions': 841, 'trueDamageTaken': 390, 'turretKills': 0, 'turretTakedowns': 0, 'turretsLost': 6, 'unrealKills': 0, 'visionScore': 20, 'visionWardsBoughtInGame': 1, 'wardsKilled': 4, 'wardsPlaced': 5, 'win': False}, {'assists': 1, 'baronKills': 0, 'bountyLevel': 0, 'challenges': {'12AssistStreakCount': 0, 'abilityUses': 135, 'acesBefore15Minutes': 0, 'alliedJungleMonsterKills': 0, 'baronTakedowns': 0, 'blastConeOppositeOpponentCount': 0, 'bountyGold': 0, 'buffsStolen': 0, 'controlWardTimeCoverageInRiverOrEnemyHalf': 0.3862076233361472, 'controlWardsPlaced': 3, 'damagePerMinute': 3662.239162915297, 'damageTakenOnTeamPercentage': 0.14070067568227831, 'dancedWithRiftHerald': 0, 'deathsByEnemyChamps': 5, 'doubleAces': 0, 'dragonTakedowns': 0, 'earlyLaningPhaseGoldExpAdvantage': 0, 'effectiveHealAndShielding': 0, 'elderDragonKillsWithOpposingSoul': 0, 'elderDragonMultikills': 0, 'enemyChampionImmobilizations': 11, 'enemyJungleMonsterKills': 0, 'epicMonsterKillsNearEnemyJungler': 0, 'epicMonsterKillsWithin30SecondsOfSpawn': 0, 'epicMonsterSteals': 0, 'flawlessAces': 0, 'fullTeamTakedown': 0, 'gameLength': 1299.1352696672695, 'getTakedownsInAllLanesEarlyJungleAsLaner': 0, 'goldPerMinute': 307.94144168919877, 'hadAfkTeammate': 0, 'hadOpenNexus': 0, 'initialBuffCount': 0, 'initialCrabCount': 0, 'jungleCsBefore10Minutes': 0, 'junglerKillsEarlyJungle': 0, 'junglerTakedownsNearDamagedEpicMonster': 0, 'kda': 0.2, 'killParticipation': 0.030303030303030304, 'killsNearEnemyTurret': 0, 'killsOnLanersEarlyJungleAsJungler': 0, 'killsOnOtherLanesEarlyJungleAsLaner': 0, 'killsOnRecentlyHealedByAramPack': 0, 'killsUnderOwnTurret': 0, 'killsWithHelpFromEpicMonster': 0, 'laneMinionsFirst10Minutes': 63, 'laningPhaseGoldExpAdvantage': -0.25594574213027954, 'legendaryCount': 0, 'lostAnInhibitor': 0, 'maxCsAdvantageOnLaneOpponent': 6, 'maxKillDeficit': 0, 'maxLevelLeadLaneOpponent': 1, 'moreEnemyJungleThanOpponent': -131.00000008940697, 'mostWardsDestroyedOneSweeper': 0, 'multiKillOneSpell': 0, 'multikills': 0, 'multikillsAfterAggressiveFlash': 0, 'outerTurretExecutesBefore10Minutes': 0, 'outnumberedKills': 0, 'outnumberedNexusKill': 0, 'perfectDragonSoulsTaken': 0, 'perfectGame': 0, 'poroExplosions': 0, 'riftHeraldTakedowns': 0, 'scuttleCrabKills': 0, 'skillshotsDodged': 8, 'skillshotsHit': 11, 'snowballsHit': 0, 'soloBaronKills': 0, 'soloKills': 0, 'stealthWardsPlaced': 4, 'survivedSingleDigitHpCount': 0, 'takedownOnFirstTurret': 0, 'takedowns': 1, 'takedownsAfterGainingLevelAdvantage': 0, 'takedownsBeforeJungleMinionSpawn': 0, 'takedownsFirst25Minutes': 1, 'takedownsInAlcove': 0, 'takedownsInEnemyFountain': 0, 'teamBaronKills': 0, 'teamDamagePercentage': 0.1855209724841287, 'teamElderDragonKills': 0, 'teamRiftHeraldKills': 1, 'turretPlatesTaken': 1, 'turretTakedowns': 1, 'turretsTakenWithRiftHerald': 5, 'twentyMinionsIn3SecondsCount': 0, 'unseenRecalls': 0, 'visionScoreAdvantageLaneOpponent': 0.8812063932418823, 'visionScorePerMinute': 0.7895392368270074, 'wardTakedowns': 2, 'wardTakedownsBefore20M': 2, 'wardsGuarded': 0}, 'champExperience': 9290, 'champLevel': 12, 'championId': 711, 'championName': 'Vex', 'championTransform': 0, 'consumablesPurchased': 5, 'damageDealtToBuildings': 2158, 'damageDealtToObjectives': 2158, 'damageDealtToTurrets': 2158, 'damageSelfMitigated': 4676, 'deaths': 5, 'detectorWardsPlaced': 3, 'doubleKills': 0, 'dragonKills': 0, 'firstBloodAssist': False, 'firstBloodKill': False, 'firstTowerAssist': False, 'firstTowerKill': False, 'gameEndedInEarlySurrender': False, 'gameEndedInSurrender': True, 'goldEarned': 6667, 'goldSpent': 6275, 'individualPosition': 'MIDDLE', 'inhibitorKills': 0, 'inhibitorTakedowns': 0, 'inhibitorsLost': 1, 'item0': 1056, 'item1': 2421, 'item2': 3020, 'item3': 6656, 'item4': 3191, 'item5': 0, 'item6': 3340, 'itemsPurchased': 17, 'killingSprees': 0, 'kills': 0, 'lane': 'MIDDLE', 'largestCriticalStrike': 0, 'largestKillingSpree': 0, 'largestMultiKill': 0, 'longestTimeSpentLiving': 445, 'magicDamageDealt': 66463, 'magicDamageDealtToChampions': 5214, 'magicDamageTaken': 7143, 'neutralMinionsKilled': 0, 'nexusKills': 0, 'nexusLost': 0, 'nexusTakedowns': 0, 'objectivesStolen': 0, 'objectivesStolenAssists': 0, 'participantId': 3, 'pentaKills': 0, 'perks': {'statPerks': {'defense': 5003, 'flex': 5008, 'offense': 5005}, 'styles': [{'description': 'primaryStyle', 'selections': [{'perk': 8112, 'var1': 614, 'var2': 0, 'var3': 0}, {'perk': 8126, 'var1': 266, 'var2': 0, 'var3': 0}, {'perk': 8138, 'var1': 2, 'var2': 0, 'var3': 0}, {'perk': 8106, 'var1': 1, 'var2': 0, 'var3': 0}], 'style': 8100}, {'description': 'subStyle', 'selections': [{'perk': 8210, 'var1': 0, 'var2': 0, 'var3': 0}, {'perk': 8236, 'var1': 24, 'var2': 0, 'var3': 0}], 'style': 8200}]}, 'physicalDamageDealt': 12014, 'physicalDamageDealtToChampions': 1354, 'physicalDamageTaken': 2523, 'profileIcon': 4655, 'puuid': 'zXhtxxlyUcLJRxcGxzKSQX9dZWbarbUrtkP0vpIcVl93ppUajaj1cnhPtuWt3X9Xa_qKGQKq4yUWJA', 'quadraKills': 0, 'riotIdName': '', 'riotIdTagline': '', 'role': 'SOLO', 'sightWardsBoughtInGame': 0, 'spell1Casts': 73, 'spell2Casts': 22, 'spell3Casts': 32, 'spell4Casts': 8, 'summoner1Casts': 1, 'summoner1Id': 4, 'summoner2Casts': 3, 'summoner2Id': 14, 'summonerId': 'jdHGKDVHlDIjhCRsvs3Y7gDJZLkQlaPHJUJIn4R7-bI-3J8', 'summonerLevel': 292, 'summonerName': 'Naysegreat', 'teamEarlySurrendered': False, 'teamId': 100, 'teamPosition': 'MIDDLE', 'timeCCingOthers': 12, 'timePlayed': 1299, 'totalDamageDealt': 79295, 'totalDamageDealtToChampions': 7386, 'totalDamageShieldedOnTeammates': 0, 'totalDamageTaken': 9927, 'totalHeal': 443, 'totalHealsOnTeammates': 0, 'totalMinionsKilled': 148, 'totalTimeCCDealt': 482, 'totalTimeSpentDead': 138, 'totalUnitsHealed': 1, 'tripleKills': 0, 'trueDamageDealt': 817, 'trueDamageDealtToChampions': 817, 'trueDamageTaken': 260, 'turretKills': 1, 'turretTakedowns': 1, 'turretsLost': 6, 'unrealKills': 0, 'visionScore': 17, 'visionWardsBoughtInGame': 3, 'wardsKilled': 2, 'wardsPlaced': 7, 'win': False}, {'assists': 1, 'baronKills': 0, 'bountyLevel': 0, 'challenges': {'12AssistStreakCount': 0, 'abilityUses': 100, 'acesBefore15Minutes': 0, 'alliedJungleMonsterKills': 0, 'baronTakedowns': 0, 'blastConeOppositeOpponentCount': 0, 'bountyGold': 0, 'buffsStolen': 0, 'controlWardsPlaced': 1, 'damagePerMinute': 2434.520228644119, 'damageTakenOnTeamPercentage': 0.16543135906222386, 'dancedWithRiftHerald': 0, 'deathsByEnemyChamps': 8, 'doubleAces': 0, 'dragonTakedowns': 1, 'earliestDragonTakedown': 971.7762773242583, 'earlyLaningPhaseGoldExpAdvantage': -0.04691016674041748, 'effectiveHealAndShielding': 285, 'elderDragonKillsWithOpposingSoul': 0, 'elderDragonMultikills': 0, 'enemyChampionImmobilizations': 4, 'enemyJungleMonsterKills': 0, 'epicMonsterKillsNearEnemyJungler': 0, 'epicMonsterKillsWithin30SecondsOfSpawn': 0, 'epicMonsterSteals': 0, 'flawlessAces': 0, 'fullTeamTakedown': 0, 'gameLength': 1299.1352696672695, 'getTakedownsInAllLanesEarlyJungleAsLaner': 0, 'goldPerMinute': 299.8129353331365, 'hadAfkTeammate': 0, 'hadOpenNexus': 0, 'initialBuffCount': 0, 'initialCrabCount': 0, 'jungleCsBefore10Minutes': 0, 'junglerKillsEarlyJungle': 0, 'junglerTakedownsNearDamagedEpicMonster': 0, 'kda': 0.375, 'killParticipation': 0.09090909090909091, 'killsNearEnemyTurret': 1, 'killsOnLanersEarlyJungleAsJungler': 0, 'killsOnOtherLanesEarlyJungleAsLaner': 0, 'killsOnRecentlyHealedByAramPack': 0, 'killsUnderOwnTurret': 0, 'killsWithHelpFromEpicMonster': 0, 'laneMinionsFirst10Minutes': 62, 'laningPhaseGoldExpAdvantage': -0.19527870416641235, 'legendaryCount': 0, 'lostAnInhibitor': 0, 'maxCsAdvantageOnLaneOpponent': 12, 'maxKillDeficit': 0, 'maxLevelLeadLaneOpponent': 1, 'moreEnemyJungleThanOpponent': -131.00000008940697, 'mostWardsDestroyedOneSweeper': 0, 'multiKillOneSpell': 0, 'multikills': 0, 'multikillsAfterAggressiveFlash': 0, 'outerTurretExecutesBefore10Minutes': 0, 'outnumberedKills': 0, 'outnumberedNexusKill': 0, 'perfectDragonSoulsTaken': 0, 'perfectGame': 0, 'poroExplosions': 0, 'riftHeraldTakedowns': 0, 'scuttleCrabKills': 0, 'skillshotsDodged': 44, 'skillshotsHit': 23, 'snowballsHit': 0, 'soloBaronKills': 0, 'soloKills': 0, 'stealthWardsPlaced': 5, 'survivedSingleDigitHpCount': 0, 'takedownOnFirstTurret': 0, 'takedowns': 3, 'takedownsAfterGainingLevelAdvantage': 0, 'takedownsBeforeJungleMinionSpawn': 0, 'takedownsFirst25Minutes': 3, 'takedownsInAlcove': 1, 'takedownsInEnemyFountain': 0, 'teamBaronKills': 0, 'teamDamagePercentage': 0.19436529136934905, 'teamElderDragonKills': 0, 'teamRiftHeraldKills': 1, 'turretPlatesTaken': 2, 'turretTakedowns': 0, 'turretsTakenWithRiftHerald': 5, 'twentyMinionsIn3SecondsCount': 0, 'unseenRecalls': 0, 'visionScoreAdvantageLaneOpponent': 1.4217199087142944, 'visionScorePerMinute': 0.5031033601492519, 'wardTakedowns': 1, 'wardTakedownsBefore20M': 1, 'wardsGuarded': 1}, 'champExperience': 6689, 'champLevel': 10, 'championId': 222, 'championName': 'Jinx', 'championTransform': 0, 'consumablesPurchased': 5, 'damageDealtToBuildings': 1427, 'damageDealtToObjectives': 1913, 'damageDealtToTurrets': 1427, 'damageSelfMitigated': 3574, 'deaths': 8, 'detectorWardsPlaced': 1, 'doubleKills': 0, 'dragonKills': 0, 'firstBloodAssist': False, 'firstBloodKill': False, 'firstTowerAssist': False, 'firstTowerKill': False, 'gameEndedInEarlySurrender': False, 'gameEndedInSurrender': True, 'goldEarned': 6491, 'goldSpent': 6425, 'individualPosition': 'BOTTOM', 'inhibitorKills': 0, 'inhibitorTakedowns': 0, 'inhibitorsLost': 1, 'item0': 6672, 'item1': 3086, 'item2': 1042, 'item3': 1042, 'item4': 3006, 'item5': 0, 'item6': 3340, 'itemsPurchased': 16, 'killingSprees': 0, 'kills': 2, 'lane': 'BOTTOM', 'largestCriticalStrike': 295, 'largestKillingSpree': 0, 'largestMultiKill': 1, 'longestTimeSpentLiving': 263, 'magicDamageDealt': 182, 'magicDamageDealtToChampions': 182, 'magicDamageTaken': 7674, 'neutralMinionsKilled': 0, 'nexusKills': 0, 'nexusLost': 0, 'nexusTakedowns': 0, 'objectivesStolen': 0, 'objectivesStolenAssists': 0, 'participantId': 4, 'pentaKills': 0, 'perks': {'statPerks': {'defense': 5002, 'flex': 5008, 'offense': 5005}, 'styles': [{'description': 'primaryStyle', 'selections': [{'perk': 8008, 'var1': 6, 'var2': 0, 'var3': 0}, {'perk': 8009, 'var1': 424, 'var2': 0, 'var3': 0}, {'perk': 9104, 'var1': 0, 'var2': 0, 'var3': 0}, {'perk': 8014, 'var1': 114, 'var2': 0, 'var3': 0}], 'style': 8000}, {'description': 'subStyle', 'selections': [{'perk': 8126, 'var1': 235, 'var2': 0, 'var3': 0}, {'perk': 8135, 'var1': 342, 'var2': 2, 'var3': 0}], 'style': 8100}]}, 'physicalDamageDealt': 48190, 'physicalDamageDealtToChampions': 7068, 'physicalDamageTaken': 3921, 'profileIcon': 581, 'puuid': 'BeBNqIDDw5GvcIf7iKNL_eYDHGy1xDV4Ctk67T-KI9JaC-qleGDIwSSreiZWBHLHpNPUOqkWwE7K8w', 'quadraKills': 0, 'riotIdName': '', 'riotIdTagline': '', 'role': 'CARRY', 'sightWardsBoughtInGame': 0, 'spell1Casts': 62, 'spell2Casts': 31, 'spell3Casts': 3, 'spell4Casts': 4, 'summoner1Casts': 3, 'summoner1Id': 4, 'summoner2Casts': 3, 'summoner2Id': 7, 'summonerId': 'WhWpzJ2zis26a_MWC0wrZ87eb7kfneZy85bgZjegdgx5Tuc', 'summonerLevel': 198, 'summonerName': 'Sharks7', 'teamEarlySurrendered': False, 'teamId': 100, 'teamPosition': 'BOTTOM', 'timeCCingOthers': 10, 'timePlayed': 1299, 'totalDamageDealt': 52712, 'totalDamageDealtToChampions': 7739, 'totalDamageShieldedOnTeammates': 0, 'totalDamageTaken': 11671, 'totalHeal': 805, 'totalHealsOnTeammates': 285, 'totalMinionsKilled': 107, 'totalTimeCCDealt': 29, 'totalTimeSpentDead': 198, 'totalUnitsHealed': 2, 'tripleKills': 0, 'trueDamageDealt': 4339, 'trueDamageDealtToChampions': 488, 'trueDamageTaken': 76, 'turretKills': 0, 'turretTakedowns': 0, 'turretsLost': 6, 'unrealKills': 0, 'visionScore': 10, 'visionWardsBoughtInGame': 1, 'wardsKilled': 1, 'wardsPlaced': 7, 'win': False}, {'assists': 4, 'baronKills': 0, 'bountyLevel': 0, 'challenges': {'12AssistStreakCount': 0, 'abilityUses': 134, 'acesBefore15Minutes': 0, 'alliedJungleMonsterKills': 0, 'baronTakedowns': 0, 'blastConeOppositeOpponentCount': 0, 'bountyGold': 750, 'buffsStolen': 0, 'controlWardsPlaced': 2, 'damagePerMinute': 1221.5281275859284, 'damageTakenOnTeamPercentage': 0.191541031345675, 'dancedWithRiftHerald': 0, 'deathsByEnemyChamps': 9, 'doubleAces': 0, 'dragonTakedowns': 0, 'earlyLaningPhaseGoldExpAdvantage': 0, 'effectiveHealAndShielding': 0, 'elderDragonKillsWithOpposingSoul': 0, 'elderDragonMultikills': 0, 'enemyChampionImmobilizations': 5, 'enemyJungleMonsterKills': 0, 'epicMonsterKillsNearEnemyJungler': 0, 'epicMonsterKillsWithin30SecondsOfSpawn': 0, 'epicMonsterSteals': 0, 'flawlessAces': 0, 'fullTeamTakedown': 0, 'gameLength': 1299.1352696672695, 'getTakedownsInAllLanesEarlyJungleAsLaner': 0, 'goldPerMinute': 311.5405680175314, 'hadAfkTeammate': 0, 'hadOpenNexus': 0, 'initialBuffCount': 0, 'initialCrabCount': 0, 'jungleCsBefore10Minutes': 0, 'junglerKillsEarlyJungle': 0, 'junglerTakedownsNearDamagedEpicMonster': 0, 'kda': 0.6666666666666666, 'killParticipation': 0.18181818181818182, 'killsNearEnemyTurret': 0, 'killsOnLanersEarlyJungleAsJungler': 0, 'killsOnOtherLanesEarlyJungleAsLaner': 0, 'killsOnRecentlyHealedByAramPack': 0, 'killsUnderOwnTurret': 1, 'killsWithHelpFromEpicMonster': 0, 'laneMinionsFirst10Minutes': 10, 'laningPhaseGoldExpAdvantage': 0, 'legendaryCount': 0, 'lostAnInhibitor': 0, 'maxCsAdvantageOnLaneOpponent': 23.599999994039536, 'maxKillDeficit': 0, 'maxLevelLeadLaneOpponent': 1, 'moreEnemyJungleThanOpponent': -131.00000008940697, 'mostWardsDestroyedOneSweeper': 0, 'multiKillOneSpell': 0, 'multikills': 0, 'multikillsAfterAggressiveFlash': 0, 'mythicItemUsed': 6655, 'outerTurretExecutesBefore10Minutes': 0, 'outnumberedKills': 1, 'outnumberedNexusKill': 0, 'perfectDragonSoulsTaken': 0, 'perfectGame': 0, 'poroExplosions': 0, 'riftHeraldTakedowns': 0, 'scuttleCrabKills': 0, 'skillshotsDodged': 39, 'skillshotsHit': 26, 'snowballsHit': 0, 'soloBaronKills': 0, 'soloKills': 1, 'stealthWardsPlaced': 19, 'survivedSingleDigitHpCount': 0, 'takedownOnFirstTurret': 0, 'takedowns': 6, 'takedownsAfterGainingLevelAdvantage': 0, 'takedownsBeforeJungleMinionSpawn': 0, 'takedownsFirst25Minutes': 6, 'takedownsInAlcove': 0, 'takedownsInEnemyFountain': 0, 'teamBaronKills': 0, 'teamDamagePercentage': 0.24381654803883804, 'teamElderDragonKills': 0, 'teamRiftHeraldKills': 1, 'teleportTakedowns': 1, 'turretPlatesTaken': 1, 'turretTakedowns': 0, 'turretsTakenWithRiftHerald': 5, 'twentyMinionsIn3SecondsCount': 0, 'unseenRecalls': 0, 'visionScoreAdvantageLaneOpponent': 1.0105221271514893, 'visionScorePerMinute': 1.7523770129866958, 'wardTakedowns': 2, 'wardTakedownsBefore20M': 1, 'wardsGuarded': 0}, 'champExperience': 6282, 'champLevel': 10, 'championId': 161, 'championName': 'Velkoz', 'championTransform': 0, 'consumablesPurchased': 6, 'damageDealtToBuildings': 82, 'damageDealtToObjectives': 82, 'damageDealtToTurrets': 82, 'damageSelfMitigated': 4662, 'deaths': 9, 'detectorWardsPlaced': 2, 'doubleKills': 0, 'dragonKills': 0, 'firstBloodAssist': False, 'firstBloodKill': False, 'firstTowerAssist': False, 'firstTowerKill': False, 'gameEndedInEarlySurrender': False, 'gameEndedInSurrender': True, 'goldEarned': 6745, 'goldSpent': 5675, 'individualPosition': 'UTILITY', 'inhibitorKills': 0, 'inhibitorTakedowns': 0, 'inhibitorsLost': 1, 'item0': 3020, 'item1': 6655, 'item2': 3853, 'item3': 2055, 'item4': 0, 'item5': 2421, 'item6': 3364, 'itemsPurchased': 17, 'killingSprees': 0, 'kills': 2, 'lane': 'BOTTOM', 'largestCriticalStrike': 0, 'largestKillingSpree': 0, 'largestMultiKill': 1, 'longestTimeSpentLiving': 506, 'magicDamageDealt': 22270, 'magicDamageDealtToChampions': 8476, 'magicDamageTaken': 9430, 'neutralMinionsKilled': 0, 'nexusKills': 0, 'nexusLost': 0, 'nexusTakedowns': 0, 'objectivesStolen': 0, 'objectivesStolenAssists': 0, 'participantId': 5, 'pentaKills': 0, 'perks': {'statPerks': {'defense': 5002, 'flex': 5003, 'offense': 5008}, 'styles': [{'description': 'primaryStyle', 'selections': [{'perk': 8128, 'var1': 457, 'var2': 8, 'var3': 0}, {'perk': 8139, 'var1': 646, 'var2': 0, 'var3': 0}, {'perk': 8138, 'var1': 12, 'var2': 0, 'var3': 0}, {'perk': 8105, 'var1': 8, 'var2': 3, 'var3': 0}], 'style': 8100}, {'description': 'subStyle', 'selections': [{'perk': 8233, 'var1': 9, 'var2': 10, 'var3': 0}, {'perk': 8236, 'var1': 24, 'var2': 0, 'var3': 0}], 'style': 8200}]}, 'physicalDamageDealt': 1440, 'physicalDamageDealtToChampions': 511, 'physicalDamageTaken': 3723, 'profileIcon': 4909, 'puuid': 'AWxPq5JITrCgWCx2hN-pSoDGiN031I9Zq2_M2fspUnkrFoFO5K6wHCQc6vLrKAAeLUIvqcVjGW8CCA', 'quadraKills': 0, 'riotIdName': '', 'riotIdTagline': '', 'role': 'SUPPORT', 'sightWardsBoughtInGame': 0, 'spell1Casts': 67, 'spell2Casts': 44, 'spell3Casts': 20, 'spell4Casts': 3, 'summoner1Casts': 4, 'summoner1Id': 3, 'summoner2Casts': 3, 'summoner2Id': 4, 'summonerId': 'x1ltBPBRgEv-yC-VM0y0F1vlsXIVFXMKUGorm-SENs-RTEA', 'summonerLevel': 315, 'summonerName': 'I am Axel', 'teamEarlySurrendered': False, 'teamId': 100, 'teamPosition': 'UTILITY', 'timeCCingOthers': 16, 'timePlayed': 1299, 'totalDamageDealt': 26448, 'totalDamageDealtToChampions': 9708, 'totalDamageShieldedOnTeammates': 0, 'totalDamageTaken': 13514, 'totalHeal': 639, 'totalHealsOnTeammates': 0, 'totalMinionsKilled': 31, 'totalTimeCCDealt': 121, 'totalTimeSpentDead': 217, 'totalUnitsHealed': 1, 'tripleKills': 0, 'trueDamageDealt': 2738, 'trueDamageDealtToChampions': 719, 'trueDamageTaken': 360, 'turretKills': 0, 'turretTakedowns': 0, 'turretsLost': 6, 'unrealKills': 0, 'visionScore': 37, 'visionWardsBoughtInGame': 3, 'wardsKilled': 2, 'wardsPlaced': 21, 'win': False}, {'assists': 6, 'baronKills': 0, 'bountyLevel': 3, 'challenges': {'12AssistStreakCount': 0, 'abilityUses': 196, 'acesBefore15Minutes': 0, 'alliedJungleMonsterKills': 0, 'baronTakedowns': 0, 'blastConeOppositeOpponentCount': 0, 'bountyGold': 0, 'buffsStolen': 0, 'controlWardTimeCoverageInRiverOrEnemyHalf': 0.7170148352653064, 'controlWardsPlaced': 1, 'damagePerMinute': 3691.6435778302916, 'damageTakenOnTeamPercentage': 0.17667713721383524, 'dancedWithRiftHerald': 0, 'deathsByEnemyChamps': 0, 'doubleAces': 0, 'dragonTakedowns': 1, 'earliestDragonTakedown': 1289.4130018270027, 'earlyLaningPhaseGoldExpAdvantage': 0, 'effectiveHealAndShielding': 0, 'elderDragonKillsWithOpposingSoul': 0, 'elderDragonMultikills': 0, 'enemyChampionImmobilizations': 0, 'enemyJungleMonsterKills': 0, 'epicMonsterKillsNearEnemyJungler': 0, 'epicMonsterKillsWithin30SecondsOfSpawn': 0, 'epicMonsterSteals': 0, 'firstTurretKilledTime': 893.3848642368976, 'flawlessAces': 1, 'fullTeamTakedown': 1, 'gameLength': 1299.1352696672695, 'getTakedownsInAllLanesEarlyJungleAsLaner': 0, 'goldPerMinute': 376.7913556672932, 'hadAfkTeammate': 0, 'hadOpenNexus': 0, 'highestCrowdControlScore': 1, 'initialBuffCount': 0, 'initialCrabCount': 0, 'jungleCsBefore10Minutes': 0, 'junglerKillsEarlyJungle': 0, 'junglerTakedownsNearDamagedEpicMonster': 0, 'kda': 9, 'killParticipation': 1.5, 'killsNearEnemyTurret': 1, 'killsOnLanersEarlyJungleAsJungler': 0, 'killsOnOtherLanesEarlyJungleAsLaner': 0, 'killsOnRecentlyHealedByAramPack': 0, 'killsUnderOwnTurret': 0, 'killsWithHelpFromEpicMonster': 0, 'laneMinionsFirst10Minutes': 78, 'laningPhaseGoldExpAdvantage': 0, 'legendaryCount': 0, 'lostAnInhibitor': 0, 'maxCsAdvantageOnLaneOpponent': 35, 'maxKillDeficit': 0, 'maxLevelLeadLaneOpponent': 1, 'moreEnemyJungleThanOpponent': -123.00000005960464, 'mostWardsDestroyedOneSweeper': 0, 'multiKillOneSpell': 0, 'multikills': 0, 'multikillsAfterAggressiveFlash': 0, 'mythicItemUsed': 6662, 'outerTurretExecutesBefore10Minutes': 0, 'outnumberedKills': 1, 'outnumberedNexusKill': 0, 'perfectDragonSoulsTaken': 0, 'perfectGame': 0, 'poroExplosions': 0, 'riftHeraldTakedowns': 1, 'scuttleCrabKills': 0, 'shortestTimeToAceFromFirstTakedown': 30.189515984943, 'skillshotsDodged': 11, 'skillshotsHit': 8, 'snowballsHit': 0, 'soloBaronKills': 0, 'soloKills': 1, 'stealthWardsPlaced': 4, 'survivedSingleDigitHpCount': 0, 'takedownOnFirstTurret': 0, 'takedowns': 9, 'takedownsAfterGainingLevelAdvantage': 0, 'takedownsBeforeJungleMinionSpawn': 0, 'takedownsFirst25Minutes': 9, 'takedownsInAlcove': 0, 'takedownsInEnemyFountain': 0, 'teamBaronKills': 0, 'teamDamagePercentage': 0.20794866174942572, 'teamElderDragonKills': 0, 'teamRiftHeraldKills': 0, 'teleportTakedowns': 4, 'turretPlatesTaken': 0, 'turretTakedowns': 3, 'turretsTakenWithRiftHerald': 0, 'twentyMinionsIn3SecondsCount': 0, 'unseenRecalls': 0, 'visionScoreAdvantageLaneOpponent': 1.9102932214736938, 'visionScorePerMinute': 0.8427950581594738, 'wardTakedowns': 2, 'wardTakedownsBefore20M': 0, 'wardsGuarded': 0}, 'champExperience': 11092, 'champLevel': 13, 'championId': 36, 'championName': 'DrMundo', 'championTransform': 0, 'consumablesPurchased': 2, 'damageDealtToBuildings': 3645, 'damageDealtToObjectives': 8715, 'damageDealtToTurrets': 3645, 'damageSelfMitigated': 11234, 'deaths': 0, 'detectorWardsPlaced': 1, 'doubleKills': 0, 'dragonKills': 0, 'firstBloodAssist': False, 'firstBloodKill': False, 'firstTowerAssist': False, 'firstTowerKill': False, 'gameEndedInEarlySurrender': False, 'gameEndedInSurrender': True, 'goldEarned': 8158, 'goldSpent': 6625, 'individualPosition': 'TOP', 'inhibitorKills': 0, 'inhibitorTakedowns': 0, 'inhibitorsLost': 0, 'item0': 6662, 'item1': 3047, 'item2': 3076, 'item3': 1054, 'item4': 3211, 'item5': 1028, 'item6': 3340, 'itemsPurchased': 11, 'killingSprees': 1, 'kills': 3, 'lane': 'TOP', 'largestCriticalStrike': 2, 'largestKillingSpree': 3, 'largestMultiKill': 1, 'longestTimeSpentLiving': 0, 'magicDamageDealt': 29699, 'magicDamageDealtToChampions': 7415, 'magicDamageTaken': 1381, 'neutralMinionsKilled': 0, 'nexusKills': 0, 'nexusLost': 0, 'nexusTakedowns': 0, 'objectivesStolen': 0, 'objectivesStolenAssists': 0, 'participantId': 6, 'pentaKills': 0, 'perks': {'statPerks': {'defense': 5001, 'flex': 5002, 'offense': 5005}, 'styles': [{'description': 'primaryStyle', 'selections': [{'perk': 8437, 'var1': 520, 'var2': 481, 'var3': 0}, {'perk': 8446, 'var1': 1859, 'var2': 0, 'var3': 0}, {'perk': 8444, 'var1': 826, 'var2': 0, 'var3': 0}, {'perk': 8451, 'var1': 170, 'var2': 0, 'var3': 0}], 'style': 8400}, {'description': 'subStyle', 'selections': [{'perk': 8304, 'var1': 11, 'var2': 1, 'var3': 5}, {'perk': 8410, 'var1': 53, 'var2': 0, 'var3': 0}], 'style': 8300}]}, 'physicalDamageDealt': 46362, 'physicalDamageDealtToChampions': 3505, 'physicalDamageTaken': 9775, 'profileIcon': 4834, 'puuid': 'yIH9UxVEx1eYn01A1mKuOyYz9OImo4pGgo9G72YsInAUzGfsgWuIRS7A7zvAcYJxYTx6ItHK3O9KKw', 'quadraKills': 0, 'riotIdName': '', 'riotIdTagline': '', 'role': 'SOLO', 'sightWardsBoughtInGame': 0, 'spell1Casts': 110, 'spell2Casts': 28, 'spell3Casts': 55, 'spell4Casts': 3, 'summoner1Casts': 3, 'summoner1Id': 14, 'summoner2Casts': 3, 'summoner2Id': 4, 'summonerId': 'pvemu-66Afc3Bx6-aJV8NL3DAbBjDwx7GD_RO6t-2LWzgac', 'summonerLevel': 180, 'summonerName': 'Kim Jong II', 'teamEarlySurrendered': False, 'teamId': 200, 'teamPosition': 'TOP', 'timeCCingOthers': 12, 'timePlayed': 1299, 'totalDamageDealt': 79932, 'totalDamageDealtToChampions': 11530, 'totalDamageShieldedOnTeammates': 0, 'totalDamageTaken': 11741, 'totalHeal': 3925, 'totalHealsOnTeammates': 0, 'totalMinionsKilled': 166, 'totalTimeCCDealt': 640, 'totalTimeSpentDead': 0, 'totalUnitsHealed': 1, 'tripleKills': 0, 'trueDamageDealt': 3869, 'trueDamageDealtToChampions': 610, 'trueDamageTaken': 584, 'turretKills': 2, 'turretTakedowns': 3, 'turretsLost': 2, 'unrealKills': 0, 'visionScore': 18, 'visionWardsBoughtInGame': 1, 'wardsKilled': 2, 'wardsPlaced': 5, 'win': True}, {'assists': 11, 'baronKills': 0, 'bountyLevel': 2, 'challenges': {'12AssistStreakCount': 0, 'abilityUses': 186, 'acesBefore15Minutes': 0, 'alliedJungleMonsterKills': 79.00000011920929, 'baronTakedowns': 0, 'blastConeOppositeOpponentCount': 0, 'bountyGold': 0, 'buffsStolen': 1, 'controlWardTimeCoverageInRiverOrEnemyHalf': 0.1405574185272743, 'controlWardsPlaced': 3, 'damagePerMinute': 6413.284239549508, 'damageTakenOnTeamPercentage': 0.32885397286033585, 'dancedWithRiftHerald': 0, 'deathsByEnemyChamps': 1, 'doubleAces': 0, 'dragonTakedowns': 1, 'earliestDragonTakedown': 1289.4130018270027, 'earlyLaningPhaseGoldExpAdvantage': 0, 'effectiveHealAndShielding': 0, 'elderDragonKillsWithOpposingSoul': 0, 'elderDragonMultikills': 0, 'enemyChampionImmobilizations': 6, 'enemyJungleMonsterKills': 11, 'epicMonsterKillsNearEnemyJungler': 0, 'epicMonsterKillsWithin30SecondsOfSpawn': 1, 'epicMonsterSteals': 0, 'fastestLegendary': 853.5811795913992, 'firstTurretKilledTime': 893.3848642368976, 'flawlessAces': 1, 'fullTeamTakedown': 1, 'gameLength': 1299.1352696672695, 'goldPerMinute': 526.7674158992862, 'hadAfkTeammate': 0, 'hadOpenNexus': 0, 'highestChampionDamage': 1, 'initialBuffCount': 2, 'initialCrabCount': 2, 'jungleCsBefore10Minutes': 68.00000008940697, 'junglerKillsEarlyJungle': 0, 'junglerTakedownsNearDamagedEpicMonster': 0, 'kda': 24, 'killParticipation': 4, 'killsNearEnemyTurret': 6, 'killsOnLanersEarlyJungleAsJungler': 5, 'killsOnRecentlyHealedByAramPack': 0, 'killsUnderOwnTurret': 0, 'killsWithHelpFromEpicMonster': 0, 'laneMinionsFirst10Minutes': 4, 'laningPhaseGoldExpAdvantage': 0, 'legendaryCount': 1, 'lostAnInhibitor': 0, 'maxCsAdvantageOnLaneOpponent': 39.5, 'maxKillDeficit': 0, 'maxLevelLeadLaneOpponent': 3, 'moreEnemyJungleThanOpponent': -54.99999997019768, 'mostWardsDestroyedOneSweeper': 0, 'multiKillOneSpell': 0, 'multikills': 1, 'multikillsAfterAggressiveFlash': 1, 'mythicItemUsed': 3152, 'outerTurretExecutesBefore10Minutes': 0, 'outnumberedKills': 2, 'outnumberedNexusKill': 0, 'perfectDragonSoulsTaken': 0, 'perfectGame': 0, 'poroExplosions': 0, 'riftHeraldTakedowns': 0, 'scuttleCrabKills': 4, 'shortestTimeToAceFromFirstTakedown': 30.189515984943, 'skillshotsDodged': 23, 'skillshotsHit': 22, 'snowballsHit': 0, 'soloBaronKills': 0, 'soloKills': 5, 'stealthWardsPlaced': 1, 'survivedSingleDigitHpCount': 0, 'takedownOnFirstTurret': 0, 'takedowns': 24, 'takedownsAfterGainingLevelAdvantage': 0, 'takedownsBeforeJungleMinionSpawn': 0, 'takedownsFirst25Minutes': 24, 'takedownsInAlcove': 1, 'takedownsInEnemyFountain': 0, 'teamBaronKills': 0, 'teamDamagePercentage': 0.28338378061479336, 'teamElderDragonKills': 0, 'teamRiftHeraldKills': 0, 'teleportTakedowns': 1, 'turretPlatesTaken': 1, 'turretTakedowns': 4, 'turretsTakenWithRiftHerald': 0, 'twentyMinionsIn3SecondsCount': 0, 'unseenRecalls': 0, 'visionScoreAdvantageLaneOpponent': 0.8903288245201111, 'visionScorePerMinute': 0.8339222738616257, 'wardTakedowns': 2, 'wardTakedownsBefore20M': 2, 'wardsGuarded': 1}, 'champExperience': 11253, 'champLevel': 13, 'championId': 245, 'championName': 'Ekko', 'championTransform': 0, 'consumablesPurchased': 4, 'damageDealtToBuildings': 4220, 'damageDealtToObjectives': 13504, 'damageDealtToTurrets': 4220, 'damageSelfMitigated': 12924, 'deaths': 1, 'detectorWardsPlaced': 3, 'doubleKills': 1, 'dragonKills': 1, 'firstBloodAssist': False, 'firstBloodKill': True, 'firstTowerAssist': False, 'firstTowerKill': False, 'gameEndedInEarlySurrender': False, 'gameEndedInSurrender': True, 'goldEarned': 11405, 'goldSpent': 8375, 'individualPosition': 'JUNGLE', 'inhibitorKills': 0, 'inhibitorTakedowns': 1, 'inhibitorsLost': 0, 'item0': 2421, 'item1': 2031, 'item2': 3152, 'item3': 3100, 'item4': 3020, 'item5': 0, 'item6': 3364, 'itemsPurchased': 15, 'killingSprees': 2, 'kills': 13, 'lane': 'JUNGLE', 'largestCriticalStrike': 0, 'largestKillingSpree': 11, 'largestMultiKill': 2, 'longestTimeSpentLiving': 936, 'magicDamageDealt': 109973, 'magicDamageDealtToChampions': 12171, 'magicDamageTaken': 4294, 'neutralMinionsKilled': 120, 'nexusKills': 0, 'nexusLost': 0, 'nexusTakedowns': 0, 'objectivesStolen': 0, 'objectivesStolenAssists': 0, 'participantId': 7, 'pentaKills': 0, 'perks': {'statPerks': {'defense': 5002, 'flex': 5008, 'offense': 5005}, 'styles': [{'description': 'primaryStyle', 'selections': [{'perk': 8128, 'var1': 1094, 'var2': 16, 'var3': 0}, {'perk': 8143, 'var1': 589, 'var2': 0, 'var3': 0}, {'perk': 8138, 'var1': 30, 'var2': 0, 'var3': 0}, {'perk': 8135, 'var1': 4359, 'var2': 5, 'var3': 0}], 'style': 8100}, {'description': 'subStyle', 'selections': [{'perk': 8304, 'var1': 8, 'var2': 1, 'var3': 5}, {'perk': 8347, 'var1': 0, 'var2': 0, 'var3': 0}], 'style': 8300}]}, 'physicalDamageDealt': 20110, 'physicalDamageDealtToChampions': 2465, 'physicalDamageTaken': 15142, 'profileIcon': 3379, 'puuid': '0eJPa-Uvu6HHYjcwueODwivoBzstVtsD7yGtLu9rIWtJp0przPwgmDG_C6RO_VHVVLSltfygGPlizQ', 'quadraKills': 0, 'riotIdName': '', 'riotIdTagline': '', 'role': 'NONE', 'sightWardsBoughtInGame': 0, 'spell1Casts': 96, 'spell2Casts': 30, 'spell3Casts': 54, 'spell4Casts': 6, 'summoner1Casts': 4, 'summoner1Id': 4, 'summoner2Casts': 16, 'summoner2Id': 11, 'summonerId': 'u6-XwNdp_OGAW4fyUwdTJIm4VWFReVmsU3Zc4jnQpraUNZ1O', 'summonerLevel': 159, 'summonerName': 'BobbiStreamer', 'teamEarlySurrendered': False, 'teamId': 200, 'teamPosition': 'JUNGLE', 'timeCCingOthers': 18, 'timePlayed': 1299, 'totalDamageDealt': 138862, 'totalDamageDealtToChampions': 15712, 'totalDamageShieldedOnTeammates': 0, 'totalDamageTaken': 21854, 'totalHeal': 9222, 'totalHealsOnTeammates': 0, 'totalMinionsKilled': 34, 'totalTimeCCDealt': 408, 'totalTimeSpentDead': 35, 'totalUnitsHealed': 1, 'tripleKills': 0, 'trueDamageDealt': 8778, 'trueDamageDealtToChampions': 1076, 'trueDamageTaken': 2417, 'turretKills': 1, 'turretTakedowns': 4, 'turretsLost': 2, 'unrealKills': 0, 'visionScore': 18, 'visionWardsBoughtInGame': 4, 'wardsKilled': 2, 'wardsPlaced': 4, 'win': True}, {'assists': 4, 'baronKills': 0, 'bountyLevel': 5, 'challenges': {'12AssistStreakCount': 0, 'abilityUses': 186, 'acesBefore15Minutes': 0, 'alliedJungleMonsterKills': 0, 'baronTakedowns': 0, 'blastConeOppositeOpponentCount': 0, 'bountyGold': 0, 'buffsStolen': 1, 'controlWardTimeCoverageInRiverOrEnemyHalf': 0.33869063772850466, 'controlWardsPlaced': 3, 'damagePerMinute': 4301.673875293446, 'damageTakenOnTeamPercentage': 0.18591215834705982, 'dancedWithRiftHerald': 0, 'deathsByEnemyChamps': 0, 'doubleAces': 0, 'dragonTakedowns': 0, 'earlyLaningPhaseGoldExpAdvantage': -0.030580878257751465, 'effectiveHealAndShielding': 0, 'elderDragonKillsWithOpposingSoul': 0, 'elderDragonMultikills': 0, 'enemyChampionImmobilizations': 0, 'enemyJungleMonsterKills': 4, 'epicMonsterKillsNearEnemyJungler': 0, 'epicMonsterKillsWithin30SecondsOfSpawn': 0, 'epicMonsterSteals': 0, 'firstTurretKilledTime': 893.3848642368976, 'flawlessAces': 1, 'fullTeamTakedown': 1, 'gameLength': 1299.1352696672695, 'getTakedownsInAllLanesEarlyJungleAsLaner': 0, 'goldPerMinute': 409.4849100654069, 'hadAfkTeammate': 0, 'hadOpenNexus': 0, 'initialBuffCount': 0, 'initialCrabCount': 0, 'jungleCsBefore10Minutes': 0, 'junglerKillsEarlyJungle': 0, 'junglerTakedownsNearDamagedEpicMonster': 0, 'kda': 9, 'killParticipation': 1.5, 'killsNearEnemyTurret': 4, 'killsOnLanersEarlyJungleAsJungler': 0, 'killsOnOtherLanesEarlyJungleAsLaner': 0, 'killsOnRecentlyHealedByAramPack': 0, 'killsUnderOwnTurret': 0, 'killsWithHelpFromEpicMonster': 0, 'laneMinionsFirst10Minutes': 66, 'laningPhaseGoldExpAdvantage': 0, 'legendaryCount': 0, 'lostAnInhibitor': 0, 'maxCsAdvantageOnLaneOpponent': 24, 'maxKillDeficit': 0, 'maxLevelLeadLaneOpponent': 2, 'moreEnemyJungleThanOpponent': -123.00000005960464, 'mostWardsDestroyedOneSweeper': 0, 'multiKillOneSpell': 0, 'multikills': 0, 'multikillsAfterAggressiveFlash': 0, 'mythicItemUsed': 4636, 'outerTurretExecutesBefore10Minutes': 0, 'outnumberedKills': 0, 'outnumberedNexusKill': 0, 'perfectDragonSoulsTaken': 0, 'perfectGame': 0, 'poroExplosions': 0, 'riftHeraldTakedowns': 0, 'scuttleCrabKills': 0, 'shortestTimeToAceFromFirstTakedown': 30.189515984943, 'skillshotsDodged': 23, 'skillshotsHit': 19, 'snowballsHit': 0, 'soloBaronKills': 0, 'soloKills': 1, 'stealthWardsPlaced': 4, 'survivedSingleDigitHpCount': 0, 'takedownOnFirstTurret': 0, 'takedowns': 9, 'takedownsAfterGainingLevelAdvantage': 1, 'takedownsBeforeJungleMinionSpawn': 0, 'takedownsFirst25Minutes': 9, 'takedownsInAlcove': 0, 'takedownsInEnemyFountain': 0, 'teamBaronKills': 0, 'teamDamagePercentage': 0.1792292663055771, 'teamElderDragonKills': 0, 'teamRiftHeraldKills': 0, 'teleportTakedowns': 1, 'turretPlatesTaken': 3, 'turretTakedowns': 2, 'turretsTakenWithRiftHerald': 0, 'twentyMinionsIn3SecondsCount': 0, 'unseenRecalls': 0, 'visionScoreAdvantageLaneOpponent': 1.1348079442977905, 'visionScorePerMinute': 0.8959753863012083, 'wardTakedowns': 1, 'wardTakedownsBefore20M': 1, 'wardsGuarded': 0}, 'champExperience': 11334, 'champLevel': 13, 'championId': 8, 'championName': 'Vladimir', 'championTransform': 0, 'consumablesPurchased': 4, 'damageDealtToBuildings': 5276, 'damageDealtToObjectives': 5276, 'damageDealtToTurrets': 5276, 'damageSelfMitigated': 4727, 'deaths': 0, 'detectorWardsPlaced': 3, 'doubleKills': 0, 'dragonKills': 0, 'firstBloodAssist': False, 'firstBloodKill': False, 'firstTowerAssist': False, 'firstTowerKill': False, 'gameEndedInEarlySurrender': False, 'gameEndedInSurrender': True, 'goldEarned': 8866, 'goldSpent': 7525, 'individualPosition': 'MIDDLE', 'inhibitorKills': 1, 'inhibitorTakedowns': 1, 'inhibitorsLost': 0, 'item0': 4636, 'item1': 0, 'item2': 1058, 'item3': 1058, 'item4': 1054, 'item5': 3020, 'item6': 3363, 'itemsPurchased': 13, 'killingSprees': 1, 'kills': 5, 'lane': 'MIDDLE', 'largestCriticalStrike': 0, 'largestKillingSpree': 5, 'largestMultiKill': 1, 'longestTimeSpentLiving': 0, 'magicDamageDealt': 81390, 'magicDamageDealtToChampions': 9164, 'magicDamageTaken': 3362, 'neutralMinionsKilled': 4, 'nexusKills': 0, 'nexusLost': 0, 'nexusTakedowns': 0, 'objectivesStolen': 0, 'objectivesStolenAssists': 0, 'participantId': 8, 'pentaKills': 0, 'perks': {'statPerks': {'defense': 5003, 'flex': 5008, 'offense': 5008}, 'styles': [{'description': 'primaryStyle', 'selections': [{'perk': 8128, 'var1': 586, 'var2': 9, 'var3': 0}, {'perk': 8139, 'var1': 686, 'var2': 0, 'var3': 0}, {'perk': 8138, 'var1': 18, 'var2': 0, 'var3': 0}, {'perk': 8135, 'var1': 1498, 'var2': 5, 'var3': 0}], 'style': 8100}, {'description': 'subStyle', 'selections': [{'perk': 8275, 'var1': 4, 'var2': 0, 'var3': 0}, {'perk': 8236, 'var1': 24, 'var2': 0, 'var3': 0}], 'style': 8200}]}, 'physicalDamageDealt': 11674, 'physicalDamageDealtToChampions': 697, 'physicalDamageTaken': 8390, 'profileIcon': 3000, 'puuid': 'Z_gM6P7mN7UpQ8W6nkDcs3b4_qUKMrree-cwEYMwgOF-G8ltYGXSG-1CBBP_58Hey60IM5GdC31Gkw', 'quadraKills': 0, 'riotIdName': '', 'riotIdTagline': '', 'role': 'SOLO', 'sightWardsBoughtInGame': 0, 'spell1Casts': 120, 'spell2Casts': 7, 'spell3Casts': 55, 'spell4Casts': 4, 'summoner1Casts': 2, 'summoner1Id': 4, 'summoner2Casts': 2, 'summoner2Id': 14, 'summonerId': 'Jrp69cSth1-1YfThqxYnBq31bSU23MkDhvLsxcdKTOsxeqFlCkpjCaCgKQ', 'summonerLevel': 33, 'summonerName': 'Russ1anMaf1a', 'teamEarlySurrendered': False, 'teamId': 200, 'teamPosition': 'MIDDLE', 'timeCCingOthers': 2, 'timePlayed': 1299, 'totalDamageDealt': 93140, 'totalDamageDealtToChampions': 9937, 'totalDamageShieldedOnTeammates': 0, 'totalDamageTaken': 12355, 'totalHeal': 12301, 'totalHealsOnTeammates': 0, 'totalMinionsKilled': 162, 'totalTimeCCDealt': 60, 'totalTimeSpentDead': 0, 'totalUnitsHealed': 1, 'tripleKills': 0, 'trueDamageDealt': 76, 'trueDamageDealtToChampions': 76, 'trueDamageTaken': 602, 'turretKills': 0, 'turretTakedowns': 2, 'turretsLost': 2, 'unrealKills': 0, 'visionScore': 19, 'visionWardsBoughtInGame': 3, 'wardsKilled': 1, 'wardsPlaced': 9, 'win': True}, {'assists': 8, 'baronKills': 0, 'bountyLevel': 0, 'challenges': {'12AssistStreakCount': 0, 'abilityUses': 117, 'acesBefore15Minutes': 0, 'alliedJungleMonsterKills': 0, 'baronTakedowns': 0, 'blastConeOppositeOpponentCount': 0, 'bountyGold': 0, 'buffsStolen': 0, 'controlWardsPlaced': 0, 'damagePerMinute': 2915.4715166574347, 'damageTakenOnTeamPercentage': 0.17397048864782116, 'dancedWithRiftHerald': 0, 'deathsByEnemyChamps': 3, 'doubleAces': 0, 'dragonTakedowns': 0, 'earlyLaningPhaseGoldExpAdvantage': 0, 'effectiveHealAndShielding': 390, 'elderDragonKillsWithOpposingSoul': 0, 'elderDragonMultikills': 0, 'enemyChampionImmobilizations': 0, 'enemyJungleMonsterKills': 3.600000023841858, 'epicMonsterKillsNearEnemyJungler': 0, 'epicMonsterKillsWithin30SecondsOfSpawn': 0, 'epicMonsterSteals': 0, 'fastestLegendary': 1219.5839771179888, 'firstTurretKilledTime': 893.3848642368976, 'flawlessAces': 1, 'fullTeamTakedown': 1, 'gameLength': 1299.1352696672695, 'getTakedownsInAllLanesEarlyJungleAsLaner': 0, 'goldPerMinute': 452.00880897329273, 'hadAfkTeammate': 0, 'hadOpenNexus': 0, 'initialBuffCount': 0, 'initialCrabCount': 0, 'jungleCsBefore10Minutes': 0, 'junglerKillsEarlyJungle': 0, 'junglerTakedownsNearDamagedEpicMonster': 0, 'kda': 6, 'killParticipation': 3, 'killsNearEnemyTurret': 8, 'killsOnLanersEarlyJungleAsJungler': 0, 'killsOnOtherLanesEarlyJungleAsLaner': 0, 'killsOnRecentlyHealedByAramPack': 0, 'killsUnderOwnTurret': 0, 'killsWithHelpFromEpicMonster': 0, 'laneMinionsFirst10Minutes': 61, 'laningPhaseGoldExpAdvantage': 0, 'legendaryCount': 1, 'lostAnInhibitor': 0, 'maxCsAdvantageOnLaneOpponent': 20, 'maxKillDeficit': 0, 'maxLevelLeadLaneOpponent': 2, 'moreEnemyJungleThanOpponent': -123.00000005960464, 'mostWardsDestroyedOneSweeper': 0, 'multiKillOneSpell': 0, 'multikills': 0, 'multikillsAfterAggressiveFlash': 0, 'outerTurretExecutesBefore10Minutes': 0, 'outnumberedKills': 0, 'outnumberedNexusKill': 0, 'perfectDragonSoulsTaken': 0, 'perfectGame': 0, 'poroExplosions': 0, 'riftHeraldTakedowns': 0, 'scuttleCrabKills': 0, 'shortestTimeToAceFromFirstTakedown': 30.189515984943, 'skillshotsDodged': 55, 'skillshotsHit': 22, 'snowballsHit': 0, 'soloBaronKills': 0, 'soloKills': 1, 'stealthWardsPlaced': 3, 'survivedSingleDigitHpCount': 0, 'takedownOnFirstTurret': 1, 'takedowns': 18, 'takedownsAfterGainingLevelAdvantage': 0, 'takedownsBeforeJungleMinionSpawn': 0, 'takedownsFirst25Minutes': 18, 'takedownsInAlcove': 0, 'takedownsInEnemyFountain': 0, 'teamBaronKills': 0, 'teamDamagePercentage': 0.25591151766663744, 'teamElderDragonKills': 0, 'teamRiftHeraldKills': 0, 'teleportTakedowns': 1, 'turretPlatesTaken': 2, 'turretTakedowns': 5, 'turretsTakenWithRiftHerald': 0, 'twentyMinionsIn3SecondsCount': 0, 'unseenRecalls': 0, 'visionScoreAdvantageLaneOpponent': 0.7033734321594238, 'visionScorePerMinute': 0.3538695306457978, 'wardTakedowns': 2, 'wardTakedownsBefore20M': 2, 'wardsGuarded': 0}, 'champExperience': 8923, 'champLevel': 12, 'championId': 145, 'championName': 'Kaisa', 'championTransform': 0, 'consumablesPurchased': 5, 'damageDealtToBuildings': 4762, 'damageDealtToObjectives': 4762, 'damageDealtToTurrets': 4762, 'damageSelfMitigated': 5660, 'deaths': 3, 'detectorWardsPlaced': 0, 'doubleKills': 0, 'dragonKills': 0, 'firstBloodAssist': False, 'firstBloodKill': False, 'firstTowerAssist': False, 'firstTowerKill': True, 'gameEndedInEarlySurrender': False, 'gameEndedInSurrender': True, 'goldEarned': 9787, 'goldSpent': 9400, 'individualPosition': 'BOTTOM', 'inhibitorKills': 0, 'inhibitorTakedowns': 1, 'inhibitorsLost': 0, 'item0': 3115, 'item1': 2031, 'item2': 3042, 'item3': 4644, 'item4': 1042, 'item5': 2422, 'item6': 3363, 'itemsPurchased': 21, 'killingSprees': 1, 'kills': 10, 'lane': 'BOTTOM', 'largestCriticalStrike': 0, 'largestKillingSpree': 10, 'largestMultiKill': 1, 'longestTimeSpentLiving': 675, 'magicDamageDealt': 17959, 'magicDamageDealtToChampions': 7401, 'magicDamageTaken': 2752, 'neutralMinionsKilled': 3, 'nexusKills': 0, 'nexusLost': 0, 'nexusTakedowns': 0, 'objectivesStolen': 0, 'objectivesStolenAssists': 0, 'participantId': 9, 'pentaKills': 0, 'perks': {'statPerks': {'defense': 5002, 'flex': 5008, 'offense': 5005}, 'styles': [{'description': 'primaryStyle', 'selections': [{'perk': 9923, 'var1': 38, 'var2': 84, 'var3': 0}, {'perk': 8139, 'var1': 720, 'var2': 0, 'var3': 0}, {'perk': 8138, 'var1': 30, 'var2': 0, 'var3': 0}, {'perk': 8135, 'var1': 1139, 'var2': 4, 'var3': 0}], 'style': 8100}, {'description': 'subStyle', 'selections': [{'perk': 8304, 'var1': 9, 'var2': 4, 'var3': 5}, {'perk': 8345, 'var1': 3, 'var2': 0, 'var3': 0}], 'style': 8300}]}, 'physicalDamageDealt': 45166, 'physicalDamageDealtToChampions': 6788, 'physicalDamageTaken': 7245, 'profileIcon': 3797, 'puuid': 'WOJ5x4WuUAGSIW0Z_8Kc7SVJlGTGBJj-sW9a-9MzRQxI7uC2vVt1JnNK4J8kfLhjGHec1BB3PQvrKw', 'quadraKills': 0, 'riotIdName': '', 'riotIdTagline': '', 'role': 'CARRY', 'sightWardsBoughtInGame': 0, 'spell1Casts': 46, 'spell2Casts': 35, 'spell3Casts': 30, 'spell4Casts': 6, 'summoner1Casts': 3, 'summoner1Id': 4, 'summoner2Casts': 3, 'summoner2Id': 7, 'summonerId': 'n_bYJAU52-foquMjC7pAii0IW67am38HuBrqkrwWn48YFic', 'summonerLevel': 455, 'summonerName': 'Taka desu', 'teamEarlySurrendered': False, 'teamId': 200, 'teamPosition': 'BOTTOM', 'timeCCingOthers': 0, 'timePlayed': 1299, 'totalDamageDealt': 63126, 'totalDamageDealtToChampions': 14189, 'totalDamageShieldedOnTeammates': 0, 'totalDamageTaken': 11561, 'totalHeal': 1957, 'totalHealsOnTeammates': 390, 'totalMinionsKilled': 118, 'totalTimeCCDealt': 0, 'totalTimeSpentDead': 30, 'totalUnitsHealed': 3, 'tripleKills': 0, 'trueDamageDealt': 0, 'trueDamageDealtToChampions': 0, 'trueDamageTaken': 1564, 'turretKills': 2, 'turretTakedowns': 5, 'turretsLost': 2, 'unrealKills': 0, 'visionScore': 7, 'visionWardsBoughtInGame': 0, 'wardsKilled': 2, 'wardsPlaced': 3, 'win': True}, {'assists': 17, 'baronKills': 0, 'bountyLevel': 2, 'challenges': {'12AssistStreakCount': 0, 'abilityUses': 136, 'acesBefore15Minutes': 0, 'alliedJungleMonsterKills': 0, 'baronTakedowns': 0, 'blastConeOppositeOpponentCount': 0, 'bountyGold': 0, 'buffsStolen': 0, 'controlWardTimeCoverageInRiverOrEnemyHalf': 0.08879212657787391, 'controlWardsPlaced': 1, 'damagePerMinute': 796.9672939275025, 'damageTakenOnTeamPercentage': 0.13458624293094795, 'dancedWithRiftHerald': 0, 'deathsByEnemyChamps': 2, 'doubleAces': 0, 'dragonTakedowns': 0, 'earlyLaningPhaseGoldExpAdvantage': -0.011939167976379395, 'effectiveHealAndShielding': 4227.87890625, 'elderDragonKillsWithOpposingSoul': 0, 'elderDragonMultikills': 0, 'enemyChampionImmobilizations': 23, 'enemyJungleMonsterKills': 0.4000000059604645, 'epicMonsterKillsNearEnemyJungler': 0, 'epicMonsterKillsWithin30SecondsOfSpawn': 0, 'epicMonsterSteals': 0, 'firstTurretKilledTime': 893.3848642368976, 'flawlessAces': 1, 'fullTeamTakedown': 1, 'gameLength': 1299.1352696672695, 'getTakedownsInAllLanesEarlyJungleAsLaner': 0, 'goldPerMinute': 320.91968840494934, 'hadAfkTeammate': 0, 'hadOpenNexus': 0, 'highestWardKills': 1, 'initialBuffCount': 0, 'initialCrabCount': 0, 'jungleCsBefore10Minutes': 0, 'junglerKillsEarlyJungle': 0, 'junglerTakedownsNearDamagedEpicMonster': 0, 'kda': 9.5, 'killParticipation': 3.1666666666666665, 'killsNearEnemyTurret': 0, 'killsOnLanersEarlyJungleAsJungler': 0, 'killsOnOtherLanesEarlyJungleAsLaner': 0, 'killsOnRecentlyHealedByAramPack': 0, 'killsUnderOwnTurret': 0, 'killsWithHelpFromEpicMonster': 0, 'laneMinionsFirst10Minutes': 3, 'laningPhaseGoldExpAdvantage': -0.02537459135055542, 'legendaryCount': 0, 'lostAnInhibitor': 0, 'maxCsAdvantageOnLaneOpponent': 3, 'maxKillDeficit': 0, 'maxLevelLeadLaneOpponent': 2, 'moreEnemyJungleThanOpponent': -123.00000005960464, 'mostWardsDestroyedOneSweeper': 0, 'multiKillOneSpell': 0, 'multikills': 0, 'multikillsAfterAggressiveFlash': 0, 'mythicItemUsed': 2065, 'outerTurretExecutesBefore10Minutes': 0, 'outnumberedKills': 0, 'outnumberedNexusKill': 0, 'perfectDragonSoulsTaken': 0, 'perfectGame': 0, 'poroExplosions': 0, 'riftHeraldTakedowns': 0, 'scuttleCrabKills': 0, 'shortestTimeToAceFromFirstTakedown': 30.189515984943, 'skillshotsDodged': 55, 'skillshotsHit': 21, 'snowballsHit': 0, 'soloBaronKills': 0, 'soloKills': 0, 'stealthWardsPlaced': 17, 'survivedSingleDigitHpCount': 0, 'takedownOnFirstTurret': 0, 'takedowns': 19, 'takedownsAfterGainingLevelAdvantage': 0, 'takedownsBeforeJungleMinionSpawn': 0, 'takedownsFirst25Minutes': 19, 'takedownsInAlcove': 0, 'takedownsInEnemyFountain': 0, 'teamBaronKills': 0, 'teamDamagePercentage': 0.07352677366356636, 'teamElderDragonKills': 0, 'teamRiftHeraldKills': 0, 'turretPlatesTaken': 2, 'turretTakedowns': 5, 'turretsTakenWithRiftHerald': 0, 'twentyMinionsIn3SecondsCount': 0, 'unseenRecalls': 0, 'visionScoreAdvantageLaneOpponent': 0.9895874261856079, 'visionScorePerMinute': 1.7341302118877755, 'wardTakedowns': 4, 'wardTakedownsBefore20M': 3, 'wardsGuarded': 0}, 'champExperience': 7627, 'champLevel': 11, 'championId': 40, 'championName': 'Janna', 'championTransform': 0, 'consumablesPurchased': 6, 'damageDealtToBuildings': 2307, 'damageDealtToObjectives': 2307, 'damageDealtToTurrets': 2307, 'damageSelfMitigated': 3922, 'deaths': 2, 'detectorWardsPlaced': 1, 'doubleKills': 0, 'dragonKills': 0, 'firstBloodAssist': False, 'firstBloodKill': False, 'firstTowerAssist': True, 'firstTowerKill': False, 'gameEndedInEarlySurrender': False, 'gameEndedInSurrender': True, 'goldEarned': 6948, 'goldSpent': 5135, 'individualPosition': 'UTILITY', 'inhibitorKills': 0, 'inhibitorTakedowns': 1, 'inhibitorsLost': 0, 'item0': 2065, 'item1': 3158, 'item2': 3853, 'item3': 2055, 'item4': 1052, 'item5': 3114, 'item6': 3364, 'itemsPurchased': 18, 'killingSprees': 1, 'kills': 2, 'lane': 'BOTTOM', 'largestCriticalStrike': 0, 'largestKillingSpree': 2, 'largestMultiKill': 1, 'longestTimeSpentLiving': 480, 'magicDamageDealt': 14126, 'magicDamageDealtToChampions': 3160, 'magicDamageTaken': 4119, 'neutralMinionsKilled': 0, 'nexusKills': 0, 'nexusLost': 0, 'nexusTakedowns': 0, 'objectivesStolen': 0, 'objectivesStolenAssists': 0, 'participantId': 10, 'pentaKills': 0, 'perks': {'statPerks': {'defense': 5002, 'flex': 5008, 'offense': 5007}, 'styles': [{'description': 'primaryStyle', 'selections': [{'perk': 8351, 'var1': 71, 'var2': 727, 'var3': 0}, {'perk': 8304, 'var1': 10, 'var2': 3, 'var3': 0}, {'perk': 8345, 'var1': 3, 'var2': 0, 'var3': 0}, {'perk': 8410, 'var1': 59, 'var2': 0, 'var3': 0}], 'style': 8300}, {'description': 'subStyle', 'selections': [{'perk': 8226, 'var1': 250, 'var2': 207, 'var3': 0}, {'perk': 8237, 'var1': 350, 'var2': 0, 'var3': 0}], 'style': 8200}]}, 'physicalDamageDealt': 3129, 'physicalDamageDealtToChampions': 916, 'physicalDamageTaken': 4757, 'profileIcon': 22, 'puuid': 'FoFzbHyyaA9d_sRDmh7-T5xEgWxMf-mByWaVROMwlLTjnBd9L2pFHwcKmroA9zaODaSuvizCzpBKcg', 'quadraKills': 0, 'riotIdName': '', 'riotIdTagline': '', 'role': 'SUPPORT', 'sightWardsBoughtInGame': 0, 'spell1Casts': 67, 'spell2Casts': 24, 'spell3Casts': 42, 'spell4Casts': 3, 'summoner1Casts': 1, 'summoner1Id': 4, 'summoner2Casts': 3, 'summoner2Id': 3, 'summonerId': 'ZNHs38NbqfsFfRBKHi16x5crSlxYc0z3nQNYJ6cfFY5PgRU', 'summonerLevel': 290, 'summonerName': 'xSeya', 'teamEarlySurrendered': False, 'teamId': 200, 'teamPosition': 'UTILITY', 'timeCCingOthers': 34, 'timePlayed': 1299, 'totalDamageDealt': 17256, 'totalDamageDealtToChampions': 4076, 'totalDamageShieldedOnTeammates': 2319, 'totalDamageTaken': 8944, 'totalHeal': 3052, 'totalHealsOnTeammates': 1908, 'totalMinionsKilled': 7, 'totalTimeCCDealt': 329, 'totalTimeSpentDead': 35, 'totalUnitsHealed': 8, 'tripleKills': 0, 'trueDamageDealt': 0, 'trueDamageDealtToChampions': 0, 'trueDamageTaken': 68, 'turretKills': 1, 'turretTakedowns': 5, 'turretsLost': 2, 'unrealKills': 0, 'visionScore': 37, 'visionWardsBoughtInGame': 2, 'wardsKilled': 4, 'wardsPlaced': 18, 'win': True}], 'platformId': 'EUW1', 'queueId': 420, 'teams': [{'bans': [{'championId': 221, 'pickTurn': 1}, {'championId': 99, 'pickTurn': 2}, {'championId': 101, 'pickTurn': 3}, {'championId': 28, 'pickTurn': 4}, {'championId': 41, 'pickTurn': 5}], 'objectives': {'baron': {'first': False, 'kills': 0}, 'champion': {'first': False, 'kills': 6}, 'dragon': {'first': True, 'kills': 2}, 'inhibitor': {'first': False, 'kills': 0}, 'riftHerald': {'first': True, 'kills': 1}, 'tower': {'first': False, 'kills': 2}}, 'teamId': 100, 'win': False}, {'bans': [{'championId': 53, 'pickTurn': 6}, {'championId': 38, 'pickTurn': 7}, {'championId': 23, 'pickTurn': 8}, {'championId': 103, 'pickTurn': 9}, {'championId': 141, 'pickTurn': 10}], 'objectives': {'baron': {'first': False, 'kills': 0}, 'champion': {'first': True, 'kills': 33}, 'dragon': {'first': False, 'kills': 1}, 'inhibitor': {'first': True, 'kills': 1}, 'riftHerald': {'first': False, 'kills': 0}, 'tower': {'first': True, 'kills': 6}}, 'teamId': 200, 'win': True}], 'tournamentCode': ''}\n",
      "metadata > {'dataVersion': '2', 'matchId': 'EUW1_5722150171', 'participants': ['EdC8fCC2nqCo-TKIQBsZcVYKUxJBu6tEsIt88F1McXuOIhJUX-MEF_O_sxYsy4TQfdoElB1M-yLw3Q', '8XMSTFJgIgCvyzuy4KRRNoDgqOOqHO20v_tcnwDoNffL2QIHPJ4x8GvFh-3Y02Fp1DNCMu8dmLS3wA', 'FR_JVR2_k8fh6r3TOcMpVc_HGYdggfzDBI4kWc7aMeVU_s-Wjlfpdc6BVR-O79qP7wUtnK65PIf-mA', 'oY9wVJteTrs_6AzMbpll04BZ5xqX8rTvgCYPWeSyIcF05b_PcTwjBmtkN0hlzgcwrI2vmbAJrCzRmQ', 'xn6l5eRxv0jFNRnowC5laVlf-kuxSTu9l3Gd7oQivV9DrnSmGBetYaRgzvmi3wj46_On1xtXy4Xzpw', 'o5N-MBf6KDZlhizleX0D3zPar8uWhrUQwM02EtC62eEJb4eUorCgBqu_dkP3csdqghK6KrXH5v-qHw', '5rEyoABE2bqOFE9v2jZI9lHtLmfLjIZ_n85biO44zPPZn4P6-mrCIs9sUne_aPcaFiPFK8YU8nz3vA', 'vouAFlC_Z5ATd2aOuZ4SoTgYQGR1RK0uWqMLRBIID-W9Qlaq-uXkuUFNMZzo7evsehODq6wa-wQ_Vw', 'it9cjnfT7i4RhNInluChaZXwB1QNCKpkA1Cb8gLReV3tAyfuX5oVFvh6vU5f5vOSMMnCiF2xMWOm8Q', 'Tn8p2K6e8E_7aEL63dP7IXuStmCGkbju5oos97f7bISwmWfBtAoX19pv-4LmRDWnRhbGsxzJzTxZXQ']}\n",
      "info > {'gameCreation': 1644449331000, 'gameDuration': 1089, 'gameEndTimestamp': 1644450443756, 'gameId': 5722150171, 'gameMode': 'URF', 'gameName': 'teambuilder-match-5722150171', 'gameStartTimestamp': 1644449354727, 'gameType': 'MATCHED_GAME', 'gameVersion': '12.3.421.5967', 'mapId': 11, 'participants': [{'assists': 6, 'baronKills': 0, 'bountyLevel': 0, 'champExperience': 14499, 'champLevel': 15, 'championId': 555, 'championName': 'Pyke', 'championTransform': 0, 'consumablesPurchased': 1, 'damageDealtToBuildings': 0, 'damageDealtToObjectives': 0, 'damageDealtToTurrets': 0, 'damageSelfMitigated': 13995, 'deaths': 9, 'detectorWardsPlaced': 0, 'doubleKills': 3, 'dragonKills': 0, 'firstBloodAssist': True, 'firstBloodKill': False, 'firstTowerAssist': False, 'firstTowerKill': False, 'gameEndedInEarlySurrender': False, 'gameEndedInSurrender': False, 'goldEarned': 19276, 'goldSpent': 17450, 'individualPosition': 'Invalid', 'inhibitorKills': 0, 'inhibitorTakedowns': 0, 'inhibitorsLost': 1, 'item0': 6333, 'item1': 3142, 'item2': 6691, 'item3': 3117, 'item4': 3814, 'item5': 6694, 'item6': 3364, 'itemsPurchased': 17, 'killingSprees': 6, 'kills': 19, 'lane': 'NONE', 'largestCriticalStrike': 0, 'largestKillingSpree': 7, 'largestMultiKill': 3, 'longestTimeSpentLiving': 251, 'magicDamageDealt': 0, 'magicDamageDealtToChampions': 0, 'magicDamageTaken': 10252, 'neutralMinionsKilled': 8, 'nexusKills': 0, 'nexusLost': 1, 'nexusTakedowns': 0, 'objectivesStolen': 0, 'objectivesStolenAssists': 0, 'participantId': 1, 'pentaKills': 0, 'perks': {'statPerks': {'defense': 5002, 'flex': 5008, 'offense': 5008}, 'styles': [{'description': 'primaryStyle', 'selections': [{'perk': 8128, 'var1': 1466, 'var2': 25, 'var3': 0}, {'perk': 8143, 'var1': 811, 'var2': 0, 'var3': 0}, {'perk': 8138, 'var1': 18, 'var2': 0, 'var3': 0}, {'perk': 8135, 'var1': 1525, 'var2': 5, 'var3': 0}], 'style': 8100}, {'description': 'subStyle', 'selections': [{'perk': 9111, 'var1': 837, 'var2': 500, 'var3': 0}, {'perk': 8014, 'var1': 552, 'var2': 0, 'var3': 0}], 'style': 8000}]}, 'physicalDamageDealt': 46707, 'physicalDamageDealtToChampions': 21544, 'physicalDamageTaken': 10896, 'profileIcon': 5041, 'puuid': 'EdC8fCC2nqCo-TKIQBsZcVYKUxJBu6tEsIt88F1McXuOIhJUX-MEF_O_sxYsy4TQfdoElB1M-yLw3Q', 'quadraKills': 0, 'riotIdName': '', 'riotIdTagline': '', 'role': 'SUPPORT', 'sightWardsBoughtInGame': 0, 'spell1Casts': 163, 'spell2Casts': 72, 'spell3Casts': 81, 'spell4Casts': 23, 'summoner1Casts': 9, 'summoner1Id': 4, 'summoner2Casts': 13, 'summoner2Id': 14, 'summonerId': 'hiwRjNQrAUflQjzxIRVaHs6c7cMZ_Ej84d-f_1arEzlPaCVZ', 'summonerLevel': 246, 'summonerName': 'ImWanted', 'teamEarlySurrendered': False, 'teamId': 100, 'teamPosition': '', 'timeCCingOthers': 56, 'timePlayed': 1089, 'totalDamageDealt': 55428, 'totalDamageDealtToChampions': 27516, 'totalDamageShieldedOnTeammates': 0, 'totalDamageTaken': 23468, 'totalHeal': 4151, 'totalHealsOnTeammates': 0, 'totalMinionsKilled': 59, 'totalTimeCCDealt': 335, 'totalTimeSpentDead': 219, 'totalUnitsHealed': 1, 'tripleKills': 1, 'trueDamageDealt': 8721, 'trueDamageDealtToChampions': 5972, 'trueDamageTaken': 2318, 'turretKills': 0, 'turretTakedowns': 0, 'turretsLost': 8, 'unrealKills': 0, 'visionScore': 16, 'visionWardsBoughtInGame': 0, 'wardsKilled': 0, 'wardsPlaced': 10, 'win': False}, {'assists': 13, 'baronKills': 0, 'bountyLevel': 0, 'champExperience': 13311, 'champLevel': 15, 'championId': 90, 'championName': 'Malzahar', 'championTransform': 0, 'consumablesPurchased': 3, 'damageDealtToBuildings': 743, 'damageDealtToObjectives': 5008, 'damageDealtToTurrets': 743, 'damageSelfMitigated': 8208, 'deaths': 9, 'detectorWardsPlaced': 0, 'doubleKills': 0, 'dragonKills': 1, 'firstBloodAssist': False, 'firstBloodKill': True, 'firstTowerAssist': False, 'firstTowerKill': False, 'gameEndedInEarlySurrender': False, 'gameEndedInSurrender': False, 'goldEarned': 12126, 'goldSpent': 11650, 'individualPosition': 'Invalid', 'inhibitorKills': 0, 'inhibitorTakedowns': 0, 'inhibitorsLost': 1, 'item0': 1056, 'item1': 6653, 'item2': 3116, 'item3': 4637, 'item4': 3009, 'item5': 1058, 'item6': 3340, 'itemsPurchased': 18, 'killingSprees': 0, 'kills': 3, 'lane': 'NONE', 'largestCriticalStrike': 0, 'largestKillingSpree': 0, 'largestMultiKill': 1, 'longestTimeSpentLiving': 265, 'magicDamageDealt': 49953, 'magicDamageDealtToChampions': 14776, 'magicDamageTaken': 11944, 'neutralMinionsKilled': 4, 'nexusKills': 0, 'nexusLost': 1, 'nexusTakedowns': 0, 'objectivesStolen': 0, 'objectivesStolenAssists': 0, 'participantId': 2, 'pentaKills': 0, 'perks': {'statPerks': {'defense': 5001, 'flex': 5008, 'offense': 5005}, 'styles': [{'description': 'primaryStyle', 'selections': [{'perk': 8128, 'var1': 1108, 'var2': 27, 'var3': 0}, {'perk': 8139, 'var1': 1428, 'var2': 0, 'var3': 0}, {'perk': 8136, 'var1': 0, 'var2': 0, 'var3': 0}, {'perk': 8105, 'var1': 13, 'var2': 5, 'var3': 0}], 'style': 8100}, {'description': 'subStyle', 'selections': [{'perk': 8237, 'var1': 614, 'var2': 0, 'var3': 0}, {'perk': 8210, 'var1': 0, 'var2': 0, 'var3': 0}], 'style': 8200}]}, 'physicalDamageDealt': 909, 'physicalDamageDealtToChampions': 97, 'physicalDamageTaken': 9698, 'profileIcon': 4589, 'puuid': '8XMSTFJgIgCvyzuy4KRRNoDgqOOqHO20v_tcnwDoNffL2QIHPJ4x8GvFh-3Y02Fp1DNCMu8dmLS3wA', 'quadraKills': 0, 'riotIdName': '', 'riotIdTagline': '', 'role': 'SUPPORT', 'sightWardsBoughtInGame': 0, 'spell1Casts': 176, 'spell2Casts': 33, 'spell3Casts': 40, 'spell4Casts': 7, 'summoner1Casts': 9, 'summoner1Id': 4, 'summoner2Casts': 10, 'summoner2Id': 6, 'summonerId': 'h89EI8bS6dpLwyfp0f0YR3evAzpn58HoO5CrmqEpUl1TGlM', 'summonerLevel': 78, 'summonerName': 'MirOfficial', 'teamEarlySurrendered': False, 'teamId': 100, 'teamPosition': '', 'timeCCingOthers': 84, 'timePlayed': 1089, 'totalDamageDealt': 50863, 'totalDamageDealtToChampions': 14874, 'totalDamageShieldedOnTeammates': 0, 'totalDamageTaken': 21981, 'totalHeal': 908, 'totalHealsOnTeammates': 0, 'totalMinionsKilled': 66, 'totalTimeCCDealt': 352, 'totalTimeSpentDead': 211, 'totalUnitsHealed': 1, 'tripleKills': 0, 'trueDamageDealt': 0, 'trueDamageDealtToChampions': 0, 'trueDamageTaken': 338, 'turretKills': 0, 'turretTakedowns': 0, 'turretsLost': 8, 'unrealKills': 0, 'visionScore': 13, 'visionWardsBoughtInGame': 0, 'wardsKilled': 0, 'wardsPlaced': 9, 'win': False}, {'assists': 7, 'baronKills': 0, 'bountyLevel': 0, 'champExperience': 13834, 'champLevel': 15, 'championId': 79, 'championName': 'Gragas', 'championTransform': 0, 'consumablesPurchased': 4, 'damageDealtToBuildings': 9909, 'damageDealtToObjectives': 10741, 'damageDealtToTurrets': 9909, 'damageSelfMitigated': 11292, 'deaths': 12, 'detectorWardsPlaced': 0, 'doubleKills': 1, 'dragonKills': 0, 'firstBloodAssist': True, 'firstBloodKill': False, 'firstTowerAssist': False, 'firstTowerKill': False, 'gameEndedInEarlySurrender': False, 'gameEndedInSurrender': False, 'goldEarned': 12911, 'goldSpent': 12700, 'individualPosition': 'Invalid', 'inhibitorKills': 0, 'inhibitorTakedowns': 0, 'inhibitorsLost': 1, 'item0': 3020, 'item1': 6655, 'item2': 3100, 'item3': 3115, 'item4': 1058, 'item5': 1058, 'item6': 3340, 'itemsPurchased': 22, 'killingSprees': 2, 'kills': 7, 'lane': 'NONE', 'largestCriticalStrike': 0, 'largestKillingSpree': 2, 'largestMultiKill': 2, 'longestTimeSpentLiving': 218, 'magicDamageDealt': 69135, 'magicDamageDealtToChampions': 14266, 'magicDamageTaken': 12380, 'neutralMinionsKilled': 0, 'nexusKills': 0, 'nexusLost': 1, 'nexusTakedowns': 0, 'objectivesStolen': 0, 'objectivesStolenAssists': 0, 'participantId': 3, 'pentaKills': 0, 'perks': {'statPerks': {'defense': 5001, 'flex': 5008, 'offense': 5008}, 'styles': [{'description': 'primaryStyle', 'selections': [{'perk': 8439, 'var1': 477, 'var2': 1347, 'var3': 0}, {'perk': 8446, 'var1': 1628, 'var2': 0, 'var3': 0}, {'perk': 8444, 'var1': 867, 'var2': 0, 'var3': 0}, {'perk': 8451, 'var1': 141, 'var2': 0, 'var3': 0}], 'style': 8400}, {'description': 'subStyle', 'selections': [{'perk': 8304, 'var1': 5, 'var2': 3, 'var3': 0}, {'perk': 8321, 'var1': 3, 'var2': 0, 'var3': 0}], 'style': 8300}]}, 'physicalDamageDealt': 5966, 'physicalDamageDealtToChampions': 823, 'physicalDamageTaken': 14379, 'profileIcon': 4804, 'puuid': 'FR_JVR2_k8fh6r3TOcMpVc_HGYdggfzDBI4kWc7aMeVU_s-Wjlfpdc6BVR-O79qP7wUtnK65PIf-mA', 'quadraKills': 0, 'riotIdName': '', 'riotIdTagline': '', 'role': 'SUPPORT', 'sightWardsBoughtInGame': 0, 'spell1Casts': 154, 'spell2Casts': 40, 'spell3Casts': 88, 'spell4Casts': 10, 'summoner1Casts': 5, 'summoner1Id': 6, 'summoner2Casts': 6, 'summoner2Id': 4, 'summonerId': 'o1a4J_yZQeuKOE5WXSLq7r_m6b6etQHrOWgz8KPlGFXbrFU', 'summonerLevel': 99, 'summonerName': 'Carlo97', 'teamEarlySurrendered': False, 'teamId': 100, 'teamPosition': '', 'timeCCingOthers': 22, 'timePlayed': 1089, 'totalDamageDealt': 75102, 'totalDamageDealtToChampions': 15089, 'totalDamageShieldedOnTeammates': 0, 'totalDamageTaken': 27397, 'totalHeal': 3467, 'totalHealsOnTeammates': 0, 'totalMinionsKilled': 76, 'totalTimeCCDealt': 212, 'totalTimeSpentDead': 279, 'totalUnitsHealed': 1, 'tripleKills': 0, 'trueDamageDealt': 0, 'trueDamageDealtToChampions': 0, 'trueDamageTaken': 637, 'turretKills': 2, 'turretTakedowns': 3, 'turretsLost': 8, 'unrealKills': 0, 'visionScore': 25, 'visionWardsBoughtInGame': 0, 'wardsKilled': 0, 'wardsPlaced': 16, 'win': False}, {'assists': 8, 'baronKills': 0, 'bountyLevel': 0, 'champExperience': 14021, 'champLevel': 15, 'championId': 41, 'championName': 'Gangplank', 'championTransform': 0, 'consumablesPurchased': 0, 'damageDealtToBuildings': 0, 'damageDealtToObjectives': 4342, 'damageDealtToTurrets': 0, 'damageSelfMitigated': 6232, 'deaths': 11, 'detectorWardsPlaced': 0, 'doubleKills': 1, 'dragonKills': 0, 'firstBloodAssist': True, 'firstBloodKill': False, 'firstTowerAssist': False, 'firstTowerKill': False, 'gameEndedInEarlySurrender': False, 'gameEndedInSurrender': False, 'goldEarned': 14786, 'goldSpent': 14500, 'individualPosition': 'Invalid', 'inhibitorKills': 0, 'inhibitorTakedowns': 0, 'inhibitorsLost': 1, 'item0': 6693, 'item1': 3508, 'item2': 1018, 'item3': 3035, 'item4': 6676, 'item5': 3031, 'item6': 3340, 'itemsPurchased': 19, 'killingSprees': 3, 'kills': 10, 'lane': 'NONE', 'largestCriticalStrike': 1767, 'largestKillingSpree': 3, 'largestMultiKill': 2, 'longestTimeSpentLiving': 221, 'magicDamageDealt': 8421, 'magicDamageDealtToChampions': 891, 'magicDamageTaken': 9823, 'neutralMinionsKilled': 12, 'nexusKills': 0, 'nexusLost': 1, 'nexusTakedowns': 0, 'objectivesStolen': 0, 'objectivesStolenAssists': 0, 'participantId': 4, 'pentaKills': 0, 'perks': {'statPerks': {'defense': 5001, 'flex': 5008, 'offense': 5008}, 'styles': [{'description': 'primaryStyle', 'selections': [{'perk': 8369, 'var1': 1001, 'var2': 839, 'var3': 0}, {'perk': 8313, 'var1': 0, 'var2': 0, 'var3': 0}, {'perk': 8321, 'var1': 1, 'var2': 0, 'var3': 0}, {'perk': 8347, 'var1': 0, 'var2': 0, 'var3': 0}], 'style': 8300}, {'description': 'subStyle', 'selections': [{'perk': 8233, 'var1': 9, 'var2': 10, 'var3': 0}, {'perk': 8236, 'var1': 28, 'var2': 0, 'var3': 0}], 'style': 8200}]}, 'physicalDamageDealt': 116142, 'physicalDamageDealtToChampions': 15277, 'physicalDamageTaken': 11346, 'profileIcon': 29, 'puuid': 'oY9wVJteTrs_6AzMbpll04BZ5xqX8rTvgCYPWeSyIcF05b_PcTwjBmtkN0hlzgcwrI2vmbAJrCzRmQ', 'quadraKills': 0, 'riotIdName': '', 'riotIdTagline': '', 'role': 'SUPPORT', 'sightWardsBoughtInGame': 0, 'spell1Casts': 146, 'spell2Casts': 25, 'spell3Casts': 162, 'spell4Casts': 8, 'summoner1Casts': 8, 'summoner1Id': 6, 'summoner2Casts': 10, 'summoner2Id': 4, 'summonerId': 'eNZdFfAhFSAOFcGTgIPWJME0CU6XMklP5FEaVuCAsV2Oy_o', 'summonerLevel': 219, 'summonerName': 'Joris28', 'teamEarlySurrendered': False, 'teamId': 100, 'teamPosition': '', 'timeCCingOthers': 5, 'timePlayed': 1089, 'totalDamageDealt': 128189, 'totalDamageDealtToChampions': 18211, 'totalDamageShieldedOnTeammates': 0, 'totalDamageTaken': 21340, 'totalHeal': 2377, 'totalHealsOnTeammates': 0, 'totalMinionsKilled': 58, 'totalTimeCCDealt': 182, 'totalTimeSpentDead': 294, 'totalUnitsHealed': 1, 'tripleKills': 0, 'trueDamageDealt': 3624, 'trueDamageDealtToChampions': 2042, 'trueDamageTaken': 170, 'turretKills': 0, 'turretTakedowns': 0, 'turretsLost': 8, 'unrealKills': 0, 'visionScore': 3, 'visionWardsBoughtInGame': 0, 'wardsKilled': 0, 'wardsPlaced': 1, 'win': False}, {'assists': 12, 'baronKills': 0, 'bountyLevel': 0, 'champExperience': 17053, 'champLevel': 17, 'championId': 221, 'championName': 'Zeri', 'championTransform': 0, 'consumablesPurchased': 1, 'damageDealtToBuildings': 10303, 'damageDealtToObjectives': 23279, 'damageDealtToTurrets': 10303, 'damageSelfMitigated': 7544, 'deaths': 11, 'detectorWardsPlaced': 0, 'doubleKills': 2, 'dragonKills': 1, 'firstBloodAssist': True, 'firstBloodKill': False, 'firstTowerAssist': False, 'firstTowerKill': False, 'gameEndedInEarlySurrender': False, 'gameEndedInSurrender': False, 'goldEarned': 16235, 'goldSpent': 14933, 'individualPosition': 'Invalid', 'inhibitorKills': 0, 'inhibitorTakedowns': 0, 'inhibitorsLost': 1, 'item0': 3078, 'item1': 3006, 'item2': 3085, 'item3': 3091, 'item4': 3748, 'item5': 1043, 'item6': 3340, 'itemsPurchased': 20, 'killingSprees': 2, 'kills': 8, 'lane': 'NONE', 'largestCriticalStrike': 275, 'largestKillingSpree': 2, 'largestMultiKill': 2, 'longestTimeSpentLiving': 152, 'magicDamageDealt': 24170, 'magicDamageDealtToChampions': 8065, 'magicDamageTaken': 7396, 'neutralMinionsKilled': 32, 'nexusKills': 0, 'nexusLost': 1, 'nexusTakedowns': 0, 'objectivesStolen': 0, 'objectivesStolenAssists': 0, 'participantId': 5, 'pentaKills': 0, 'perks': {'statPerks': {'defense': 5002, 'flex': 5008, 'offense': 5005}, 'styles': [{'description': 'primaryStyle', 'selections': [{'perk': 8008, 'var1': 89, 'var2': 0, 'var3': 0}, {'perk': 9111, 'var1': 1200, 'var2': 400, 'var3': 0}, {'perk': 9104, 'var1': 7, 'var2': 20, 'var3': 0}, {'perk': 8014, 'var1': 640, 'var2': 0, 'var3': 0}], 'style': 8000}, {'description': 'subStyle', 'selections': [{'perk': 8139, 'var1': 1852, 'var2': 0, 'var3': 0}, {'perk': 8135, 'var1': 3794, 'var2': 5, 'var3': 0}], 'style': 8100}]}, 'physicalDamageDealt': 87004, 'physicalDamageDealtToChampions': 23663, 'physicalDamageTaken': 14541, 'profileIcon': 4904, 'puuid': 'xn6l5eRxv0jFNRnowC5laVlf-kuxSTu9l3Gd7oQivV9DrnSmGBetYaRgzvmi3wj46_On1xtXy4Xzpw', 'quadraKills': 0, 'riotIdName': '', 'riotIdTagline': '', 'role': 'SUPPORT', 'sightWardsBoughtInGame': 0, 'spell1Casts': 486, 'spell2Casts': 62, 'spell3Casts': 93, 'spell4Casts': 10, 'summoner1Casts': 5, 'summoner1Id': 14, 'summoner2Casts': 8, 'summoner2Id': 4, 'summonerId': 'uFMSd57lk3Ws3h0EfyPL550JyOBUVgnHtROhzB_a0B2KNw0', 'summonerLevel': 312, 'summonerName': 'Gyr0', 'teamEarlySurrendered': False, 'teamId': 100, 'teamPosition': '', 'timeCCingOthers': 5, 'timePlayed': 1089, 'totalDamageDealt': 114755, 'totalDamageDealtToChampions': 32135, 'totalDamageShieldedOnTeammates': 0, 'totalDamageTaken': 22294, 'totalHeal': 2226, 'totalHealsOnTeammates': 0, 'totalMinionsKilled': 87, 'totalTimeCCDealt': 73, 'totalTimeSpentDead': 239, 'totalUnitsHealed': 1, 'tripleKills': 0, 'trueDamageDealt': 3581, 'trueDamageDealtToChampions': 406, 'trueDamageTaken': 355, 'turretKills': 3, 'turretTakedowns': 3, 'turretsLost': 8, 'unrealKills': 0, 'visionScore': 20, 'visionWardsBoughtInGame': 0, 'wardsKilled': 0, 'wardsPlaced': 11, 'win': False}, {'assists': 10, 'baronKills': 0, 'bountyLevel': 1, 'champExperience': 16034, 'champLevel': 16, 'championId': 102, 'championName': 'Shyvana', 'championTransform': 0, 'consumablesPurchased': 1, 'damageDealtToBuildings': 10592, 'damageDealtToObjectives': 10592, 'damageDealtToTurrets': 10592, 'damageSelfMitigated': 11974, 'deaths': 8, 'detectorWardsPlaced': 0, 'doubleKills': 0, 'dragonKills': 0, 'firstBloodAssist': False, 'firstBloodKill': False, 'firstTowerAssist': False, 'firstTowerKill': True, 'gameEndedInEarlySurrender': False, 'gameEndedInSurrender': False, 'goldEarned': 17430, 'goldSpent': 15000, 'individualPosition': 'Invalid', 'inhibitorKills': 1, 'inhibitorTakedowns': 1, 'inhibitorsLost': 0, 'item0': 3089, 'item1': 4636, 'item2': 3020, 'item3': 4637, 'item4': 3116, 'item5': 3191, 'item6': 3340, 'itemsPurchased': 23, 'killingSprees': 2, 'kills': 11, 'lane': 'NONE', 'largestCriticalStrike': 0, 'largestKillingSpree': 3, 'largestMultiKill': 1, 'longestTimeSpentLiving': 190, 'magicDamageDealt': 96043, 'magicDamageDealtToChampions': 23172, 'magicDamageTaken': 6197, 'neutralMinionsKilled': 8, 'nexusKills': 1, 'nexusLost': 0, 'nexusTakedowns': 1, 'objectivesStolen': 0, 'objectivesStolenAssists': 0, 'participantId': 6, 'pentaKills': 0, 'perks': {'statPerks': {'defense': 5002, 'flex': 5008, 'offense': 5008}, 'styles': [{'description': 'primaryStyle', 'selections': [{'perk': 8128, 'var1': 1011, 'var2': 20, 'var3': 0}, {'perk': 8126, 'var1': 307, 'var2': 0, 'var3': 0}, {'perk': 8138, 'var1': 30, 'var2': 0, 'var3': 0}, {'perk': 8135, 'var1': 2590, 'var2': 5, 'var3': 0}], 'style': 8100}, {'description': 'subStyle', 'selections': [{'perk': 9111, 'var1': 1558, 'var2': 420, 'var3': 0}, {'perk': 8014, 'var1': 647, 'var2': 0, 'var3': 0}], 'style': 8000}]}, 'physicalDamageDealt': 12694, 'physicalDamageDealtToChampions': 1659, 'physicalDamageTaken': 18070, 'profileIcon': 3376, 'puuid': 'o5N-MBf6KDZlhizleX0D3zPar8uWhrUQwM02EtC62eEJb4eUorCgBqu_dkP3csdqghK6KrXH5v-qHw', 'quadraKills': 0, 'riotIdName': '', 'riotIdTagline': '', 'role': 'SUPPORT', 'sightWardsBoughtInGame': 0, 'spell1Casts': 78, 'spell2Casts': 162, 'spell3Casts': 142, 'spell4Casts': 10, 'summoner1Casts': 8, 'summoner1Id': 4, 'summoner2Casts': 11, 'summoner2Id': 6, 'summonerId': 'lQ-hFok7_sPH0gZH9jV0_flbI7UQ14o0orPkNYSkASUmoXw', 'summonerLevel': 282, 'summonerName': 'ZsarfVuclorias', 'teamEarlySurrendered': False, 'teamId': 200, 'teamPosition': '', 'timeCCingOthers': 3, 'timePlayed': 1089, 'totalDamageDealt': 109187, 'totalDamageDealtToChampions': 25130, 'totalDamageShieldedOnTeammates': 0, 'totalDamageTaken': 26228, 'totalHeal': 1245, 'totalHealsOnTeammates': 0, 'totalMinionsKilled': 106, 'totalTimeCCDealt': 88, 'totalTimeSpentDead': 237, 'totalUnitsHealed': 1, 'tripleKills': 0, 'trueDamageDealt': 448, 'trueDamageDealtToChampions': 298, 'trueDamageTaken': 1960, 'turretKills': 1, 'turretTakedowns': 6, 'turretsLost': 5, 'unrealKills': 0, 'visionScore': 7, 'visionWardsBoughtInGame': 0, 'wardsKilled': 0, 'wardsPlaced': 5, 'win': True}, {'assists': 13, 'baronKills': 0, 'bountyLevel': 2, 'champExperience': 17272, 'champLevel': 17, 'championId': 45, 'championName': 'Veigar', 'championTransform': 0, 'consumablesPurchased': 2, 'damageDealtToBuildings': 14054, 'damageDealtToObjectives': 14054, 'damageDealtToTurrets': 14054, 'damageSelfMitigated': 6461, 'deaths': 5, 'detectorWardsPlaced': 1, 'doubleKills': 1, 'dragonKills': 0, 'firstBloodAssist': False, 'firstBloodKill': False, 'firstTowerAssist': False, 'firstTowerKill': False, 'gameEndedInEarlySurrender': False, 'gameEndedInSurrender': False, 'goldEarned': 16672, 'goldSpent': 14025, 'individualPosition': 'Invalid', 'inhibitorKills': 0, 'inhibitorTakedowns': 1, 'inhibitorsLost': 0, 'item0': 3157, 'item1': 3089, 'item2': 3020, 'item3': 4644, 'item4': 3135, 'item5': 4632, 'item6': 3340, 'itemsPurchased': 18, 'killingSprees': 4, 'kills': 13, 'lane': 'NONE', 'largestCriticalStrike': 0, 'largestKillingSpree': 5, 'largestMultiKill': 2, 'longestTimeSpentLiving': 409, 'magicDamageDealt': 102193, 'magicDamageDealtToChampions': 23355, 'magicDamageTaken': 9787, 'neutralMinionsKilled': 4, 'nexusKills': 0, 'nexusLost': 0, 'nexusTakedowns': 1, 'objectivesStolen': 0, 'objectivesStolenAssists': 0, 'participantId': 7, 'pentaKills': 0, 'perks': {'statPerks': {'defense': 5002, 'flex': 5008, 'offense': 5008}, 'styles': [{'description': 'primaryStyle', 'selections': [{'perk': 8128, 'var1': 1037, 'var2': 18, 'var3': 0}, {'perk': 8126, 'var1': 388, 'var2': 0, 'var3': 0}, {'perk': 8138, 'var1': 30, 'var2': 0, 'var3': 0}, {'perk': 8135, 'var1': 2273, 'var2': 5, 'var3': 0}], 'style': 8100}, {'description': 'subStyle', 'selections': [{'perk': 9111, 'var1': 1477, 'var2': 520, 'var3': 0}, {'perk': 8014, 'var1': 584, 'var2': 0, 'var3': 0}], 'style': 8000}]}, 'physicalDamageDealt': 2123, 'physicalDamageDealtToChampions': 655, 'physicalDamageTaken': 6870, 'profileIcon': 4072, 'puuid': '5rEyoABE2bqOFE9v2jZI9lHtLmfLjIZ_n85biO44zPPZn4P6-mrCIs9sUne_aPcaFiPFK8YU8nz3vA', 'quadraKills': 0, 'riotIdName': '', 'riotIdTagline': '', 'role': 'SUPPORT', 'sightWardsBoughtInGame': 0, 'spell1Casts': 128, 'spell2Casts': 60, 'spell3Casts': 81, 'spell4Casts': 14, 'summoner1Casts': 5, 'summoner1Id': 3, 'summoner2Casts': 8, 'summoner2Id': 4, 'summonerId': '8ME-QRiO2FFsY2gPpRuOVGYB2k0Op9qUrM0-tBX3H69en18', 'summonerLevel': 187, 'summonerName': 'MadGankFarm', 'teamEarlySurrendered': False, 'teamId': 200, 'teamPosition': '', 'timeCCingOthers': 62, 'timePlayed': 1089, 'totalDamageDealt': 104837, 'totalDamageDealtToChampions': 24530, 'totalDamageShieldedOnTeammates': 0, 'totalDamageTaken': 18143, 'totalHeal': 1456, 'totalHealsOnTeammates': 0, 'totalMinionsKilled': 84, 'totalTimeCCDealt': 257, 'totalTimeSpentDead': 162, 'totalUnitsHealed': 1, 'tripleKills': 0, 'trueDamageDealt': 520, 'trueDamageDealtToChampions': 520, 'trueDamageTaken': 1485, 'turretKills': 5, 'turretTakedowns': 7, 'turretsLost': 5, 'unrealKills': 0, 'visionScore': 28, 'visionWardsBoughtInGame': 1, 'wardsKilled': 1, 'wardsPlaced': 9, 'win': True}, {'assists': 13, 'baronKills': 0, 'bountyLevel': 0, 'champExperience': 16615, 'champLevel': 17, 'championId': 104, 'championName': 'Graves', 'championTransform': 0, 'consumablesPurchased': 0, 'damageDealtToBuildings': 872, 'damageDealtToObjectives': 872, 'damageDealtToTurrets': 872, 'damageSelfMitigated': 14146, 'deaths': 12, 'detectorWardsPlaced': 0, 'doubleKills': 0, 'dragonKills': 0, 'firstBloodAssist': False, 'firstBloodKill': False, 'firstTowerAssist': False, 'firstTowerKill': False, 'gameEndedInEarlySurrender': False, 'gameEndedInSurrender': False, 'goldEarned': 12699, 'goldSpent': 10200, 'individualPosition': 'Invalid', 'inhibitorKills': 0, 'inhibitorTakedowns': 0, 'inhibitorsLost': 0, 'item0': 6692, 'item1': 3006, 'item2': 6676, 'item3': 3142, 'item4': 0, 'item5': 0, 'item6': 3340, 'itemsPurchased': 18, 'killingSprees': 2, 'kills': 8, 'lane': 'NONE', 'largestCriticalStrike': 364, 'largestKillingSpree': 3, 'largestMultiKill': 1, 'longestTimeSpentLiving': 345, 'magicDamageDealt': 2874, 'magicDamageDealtToChampions': 1440, 'magicDamageTaken': 11854, 'neutralMinionsKilled': 8, 'nexusKills': 0, 'nexusLost': 0, 'nexusTakedowns': 0, 'objectivesStolen': 0, 'objectivesStolenAssists': 0, 'participantId': 8, 'pentaKills': 0, 'perks': {'statPerks': {'defense': 5003, 'flex': 5008, 'offense': 5005}, 'styles': [{'description': 'primaryStyle', 'selections': [{'perk': 8128, 'var1': 902, 'var2': 19, 'var3': 0}, {'perk': 8143, 'var1': 725, 'var2': 0, 'var3': 0}, {'perk': 8138, 'var1': 18, 'var2': 0, 'var3': 0}, {'perk': 8135, 'var1': 1200, 'var2': 5, 'var3': 0}], 'style': 8100}, {'description': 'subStyle', 'selections': [{'perk': 9104, 'var1': 9, 'var2': 40, 'var3': 0}, {'perk': 8017, 'var1': 1302, 'var2': 0, 'var3': 0}], 'style': 8000}]}, 'physicalDamageDealt': 54916, 'physicalDamageDealtToChampions': 21493, 'physicalDamageTaken': 8132, 'profileIcon': 4490, 'puuid': 'vouAFlC_Z5ATd2aOuZ4SoTgYQGR1RK0uWqMLRBIID-W9Qlaq-uXkuUFNMZzo7evsehODq6wa-wQ_Vw', 'quadraKills': 0, 'riotIdName': '', 'riotIdTagline': '', 'role': 'SUPPORT', 'sightWardsBoughtInGame': 0, 'spell1Casts': 72, 'spell2Casts': 42, 'spell3Casts': 85, 'spell4Casts': 11, 'summoner1Casts': 12, 'summoner1Id': 21, 'summoner2Casts': 9, 'summoner2Id': 4, 'summonerId': 'v4alZ--4-_TDDEP6zxDNxptp-3pX9bNzLeoc7fq8O25Gsm0', 'summonerLevel': 323, 'summonerName': 'blac971', 'teamEarlySurrendered': False, 'teamId': 200, 'teamPosition': '', 'timeCCingOthers': 24, 'timePlayed': 1089, 'totalDamageDealt': 58295, 'totalDamageDealtToChampions': 23318, 'totalDamageShieldedOnTeammates': 0, 'totalDamageTaken': 21304, 'totalHeal': 378, 'totalHealsOnTeammates': 0, 'totalMinionsKilled': 42, 'totalTimeCCDealt': 291, 'totalTimeSpentDead': 300, 'totalUnitsHealed': 1, 'tripleKills': 0, 'trueDamageDealt': 504, 'trueDamageDealtToChampions': 384, 'trueDamageTaken': 1317, 'turretKills': 0, 'turretTakedowns': 1, 'turretsLost': 5, 'unrealKills': 0, 'visionScore': 16, 'visionWardsBoughtInGame': 0, 'wardsKilled': 3, 'wardsPlaced': 9, 'win': True}, {'assists': 10, 'baronKills': 0, 'bountyLevel': 3, 'champExperience': 17038, 'champLevel': 17, 'championId': 59, 'championName': 'JarvanIV', 'championTransform': 0, 'consumablesPurchased': 0, 'damageDealtToBuildings': 4151, 'damageDealtToObjectives': 4151, 'damageDealtToTurrets': 4151, 'damageSelfMitigated': 18387, 'deaths': 12, 'detectorWardsPlaced': 0, 'doubleKills': 1, 'dragonKills': 0, 'firstBloodAssist': False, 'firstBloodKill': False, 'firstTowerAssist': True, 'firstTowerKill': False, 'gameEndedInEarlySurrender': False, 'gameEndedInSurrender': False, 'goldEarned': 15953, 'goldSpent': 12225, 'individualPosition': 'Invalid', 'inhibitorKills': 0, 'inhibitorTakedowns': 1, 'inhibitorsLost': 0, 'item0': 6692, 'item1': 1037, 'item2': 3047, 'item3': 3814, 'item4': 3142, 'item5': 3134, 'item6': 3340, 'itemsPurchased': 25, 'killingSprees': 2, 'kills': 13, 'lane': 'NONE', 'largestCriticalStrike': 0, 'largestKillingSpree': 3, 'largestMultiKill': 2, 'longestTimeSpentLiving': 173, 'magicDamageDealt': 8669, 'magicDamageDealtToChampions': 3349, 'magicDamageTaken': 2883, 'neutralMinionsKilled': 0, 'nexusKills': 0, 'nexusLost': 0, 'nexusTakedowns': 1, 'objectivesStolen': 0, 'objectivesStolenAssists': 0, 'participantId': 9, 'pentaKills': 0, 'perks': {'statPerks': {'defense': 5003, 'flex': 5008, 'offense': 5008}, 'styles': [{'description': 'primaryStyle', 'selections': [{'perk': 8128, 'var1': 1231, 'var2': 23, 'var3': 0}, {'perk': 8143, 'var1': 743, 'var2': 0, 'var3': 0}, {'perk': 8138, 'var1': 18, 'var2': 0, 'var3': 0}, {'perk': 8135, 'var1': 1089, 'var2': 5, 'var3': 0}], 'style': 8100}, {'description': 'subStyle', 'selections': [{'perk': 9111, 'var1': 1109, 'var2': 460, 'var3': 0}, {'perk': 9104, 'var1': 8, 'var2': 40, 'var3': 0}], 'style': 8000}]}, 'physicalDamageDealt': 53688, 'physicalDamageDealtToChampions': 18743, 'physicalDamageTaken': 18166, 'profileIcon': 5204, 'puuid': 'it9cjnfT7i4RhNInluChaZXwB1QNCKpkA1Cb8gLReV3tAyfuX5oVFvh6vU5f5vOSMMnCiF2xMWOm8Q', 'quadraKills': 0, 'riotIdName': '', 'riotIdTagline': '', 'role': 'SUPPORT', 'sightWardsBoughtInGame': 0, 'spell1Casts': 83, 'spell2Casts': 38, 'spell3Casts': 140, 'spell4Casts': 10, 'summoner1Casts': 8, 'summoner1Id': 4, 'summoner2Casts': 12, 'summoner2Id': 6, 'summonerId': 'cSyD_-hW3DlJL2VKDaF0kNBpUDsSwW7vb93wIpoAGRUip51iqWTs_m3G5A', 'summonerLevel': 281, 'summonerName': 'D Sky NC ', 'teamEarlySurrendered': False, 'teamId': 200, 'teamPosition': '', 'timeCCingOthers': 13, 'timePlayed': 1089, 'totalDamageDealt': 62816, 'totalDamageDealtToChampions': 22455, 'totalDamageShieldedOnTeammates': 0, 'totalDamageTaken': 23078, 'totalHeal': 769, 'totalHealsOnTeammates': 0, 'totalMinionsKilled': 54, 'totalTimeCCDealt': 156, 'totalTimeSpentDead': 292, 'totalUnitsHealed': 1, 'tripleKills': 0, 'trueDamageDealt': 457, 'trueDamageDealtToChampions': 361, 'trueDamageTaken': 2027, 'turretKills': 2, 'turretTakedowns': 7, 'turretsLost': 5, 'unrealKills': 0, 'visionScore': 13, 'visionWardsBoughtInGame': 0, 'wardsKilled': 0, 'wardsPlaced': 10, 'win': True}, {'assists': 3, 'baronKills': 0, 'bountyLevel': 0, 'champExperience': 11838, 'champLevel': 14, 'championId': 77, 'championName': 'Udyr', 'championTransform': 0, 'consumablesPurchased': 2, 'damageDealtToBuildings': 1133, 'damageDealtToObjectives': 9961, 'damageDealtToTurrets': 1133, 'damageSelfMitigated': 34999, 'deaths': 10, 'detectorWardsPlaced': 0, 'doubleKills': 0, 'dragonKills': 1, 'firstBloodAssist': False, 'firstBloodKill': False, 'firstTowerAssist': False, 'firstTowerKill': False, 'gameEndedInEarlySurrender': False, 'gameEndedInSurrender': False, 'goldEarned': 11851, 'goldSpent': 11033, 'individualPosition': 'Invalid', 'inhibitorKills': 0, 'inhibitorTakedowns': 0, 'inhibitorsLost': 0, 'item0': 3009, 'item1': 3078, 'item2': 3075, 'item3': 3083, 'item4': 1043, 'item5': 0, 'item6': 3340, 'itemsPurchased': 20, 'killingSprees': 3, 'kills': 7, 'lane': 'NONE', 'largestCriticalStrike': 13, 'largestKillingSpree': 2, 'largestMultiKill': 1, 'longestTimeSpentLiving': 171, 'magicDamageDealt': 2407, 'magicDamageDealtToChampions': 133, 'magicDamageTaken': 7277, 'neutralMinionsKilled': 12, 'nexusKills': 0, 'nexusLost': 0, 'nexusTakedowns': 0, 'objectivesStolen': 0, 'objectivesStolenAssists': 0, 'participantId': 10, 'pentaKills': 0, 'perks': {'statPerks': {'defense': 5002, 'flex': 5008, 'offense': 5008}, 'styles': [{'description': 'primaryStyle', 'selections': [{'perk': 8124, 'var1': 60, 'var2': 0, 'var3': 0}, {'perk': 8126, 'var1': 304, 'var2': 0, 'var3': 0}, {'perk': 8138, 'var1': 18, 'var2': 0, 'var3': 0}, {'perk': 8105, 'var1': 12, 'var2': 5, 'var3': 0}], 'style': 8100}, {'description': 'subStyle', 'selections': [{'perk': 8275, 'var1': 22, 'var2': 0, 'var3': 0}, {'perk': 8234, 'var1': 11707, 'var2': 0, 'var3': 0}], 'style': 8200}]}, 'physicalDamageDealt': 49756, 'physicalDamageDealtToChampions': 8742, 'physicalDamageTaken': 19280, 'profileIcon': 508, 'puuid': 'Tn8p2K6e8E_7aEL63dP7IXuStmCGkbju5oos97f7bISwmWfBtAoX19pv-4LmRDWnRhbGsxzJzTxZXQ', 'quadraKills': 0, 'riotIdName': '', 'riotIdTagline': '', 'role': 'SUPPORT', 'sightWardsBoughtInGame': 0, 'spell1Casts': 154, 'spell2Casts': 189, 'spell3Casts': 230, 'spell4Casts': 0, 'summoner1Casts': 11, 'summoner1Id': 4, 'summoner2Casts': 11, 'summoner2Id': 14, 'summonerId': '-sZfgQ2NwtvhpMGpdMGL7PD2KM4M81n86X37k7D1VC_cgto', 'summonerLevel': 169, 'summonerName': 'roneotypeur', 'teamEarlySurrendered': False, 'teamId': 200, 'teamPosition': '', 'timeCCingOthers': 15, 'timePlayed': 1089, 'totalDamageDealt': 56914, 'totalDamageDealtToChampions': 11132, 'totalDamageShieldedOnTeammates': 0, 'totalDamageTaken': 28187, 'totalHeal': 2537, 'totalHealsOnTeammates': 0, 'totalMinionsKilled': 53, 'totalTimeCCDealt': 48, 'totalTimeSpentDead': 223, 'totalUnitsHealed': 1, 'tripleKills': 0, 'trueDamageDealt': 4751, 'trueDamageDealtToChampions': 2256, 'trueDamageTaken': 1628, 'turretKills': 0, 'turretTakedowns': 0, 'turretsLost': 5, 'unrealKills': 0, 'visionScore': 6, 'visionWardsBoughtInGame': 0, 'wardsKilled': 0, 'wardsPlaced': 4, 'win': True}], 'platformId': 'EUW1', 'queueId': 900, 'teams': [{'bans': [], 'objectives': {'baron': {'first': False, 'kills': 0}, 'champion': {'first': True, 'kills': 47}, 'dragon': {'first': False, 'kills': 2}, 'inhibitor': {'first': False, 'kills': 0}, 'riftHerald': {'first': False, 'kills': 0}, 'tower': {'first': False, 'kills': 5}}, 'teamId': 100, 'win': False}, {'bans': [], 'objectives': {'baron': {'first': False, 'kills': 0}, 'champion': {'first': False, 'kills': 52}, 'dragon': {'first': True, 'kills': 1}, 'inhibitor': {'first': True, 'kills': 1}, 'riftHerald': {'first': False, 'kills': 0}, 'tower': {'first': True, 'kills': 8}}, 'teamId': 200, 'win': True}], 'tournamentCode': ''}\n"
     ]
    }
   ],
   "source": [
    "# Create a dictionary to store all the results\n",
    "\n",
    "for row in sumo_info.itertuples():\n",
    "    for match_id in row.match_ids: # match id\n",
    "        match_deets = lol_watcher.match.by_id(row.riot_watcher_region, match_id)\n",
    "        for k, v in match_deets.items():\n",
    "             print(k, '>', v)\n",
    "        # print(match_deets['info'])\n",
    "        # for k in match_deets['info']:\n",
    "        #     print(k)\n",
    "        # things of interrest     \n",
    "        # print(type(match_deets))\n",
    "\n",
    "\n",
    "#         game_id = match[\"gameId\"]\n",
    "#         queue_type = match[\"queue\"]\n",
    "#         match_detail = lol_watcher.match.by_id(region, game_id)\n",
    "#         match_start = match[\"timestamp\"]\n",
    "#         match_duration = match_detail[\"gameDuration\"]*1000\n",
    "#         lobby_end = match_detail[\"gameCreation\"]\n",
    "\n",
    "#         # Store filtered information pertinent to the match itself\n",
    "#         match_info[game_id][\"game_info\"][\"game_type\"] = queue_type\n",
    "#         match_info[game_id][\"game_info\"][\"begin_time\"] = lobby_end - min_lobby_time\n",
    "#         match_info[game_id][\"game_info\"][\"end_time\"] = match_start + match_duration\n",
    "\n",
    "        break\n",
    "    # Collect match details\n"
   ]
  },
  {
   "cell_type": "code",
   "execution_count": null,
   "metadata": {},
   "outputs": [],
   "source": [
    "\n",
    "match_info = defaultdict(lambda: defaultdict(lambda: defaultdict(dict)))\n",
    "# for match in matches[\"matches\"][:1]:\n",
    "#         # Collect information pertinent to the match itself\n",
    "#         game_id = match[\"gameId\"]\n",
    "#         queue_type = match[\"queue\"]\n",
    "#         match_detail = lol_watcher.match.by_id(region, game_id)\n",
    "#         match_start = match[\"timestamp\"]\n",
    "#         match_duration = match_detail[\"gameDuration\"]*1000\n",
    "#         lobby_end = match_detail[\"gameCreation\"]\n",
    "\n",
    "#         # Store filtered information pertinent to the match itself\n",
    "#         match_info[game_id][\"game_info\"][\"game_type\"] = queue_type\n",
    "#         match_info[game_id][\"game_info\"][\"begin_time\"] = lobby_end - min_lobby_time\n",
    "#         match_info[game_id][\"game_info\"][\"end_time\"] = match_start + match_duration\n",
    "\n",
    "#         # Store filtered information pertinent to participants\n",
    "#         protagonist_blue = None\n",
    "#         # Collect participant ID and summoner name\n",
    "#         for participant in match_detail[\"participantIdentities\"]:\n",
    "#                 part_id = participant[\"participantId\"]\n",
    "#                 summoner_name = participant[\"player\"][\"summonerName\"]\n",
    "#                 # Storing summoner name using participant ID as key\n",
    "#                 match_info[game_id][\"player_data\"][part_id][\"participant_id\"] = part_id \n",
    "#                 match_info[game_id][\"player_data\"][part_id][\"name\"] = summoner_name\n",
    "#                 if summoner_name.lower() == protagonist.lower():\n",
    "#                         protagonist_blue = True if part_id <=5 else False\n",
    "\n",
    "#         # Collect kills, deaths, assists and win\n",
    "#         for participant in match_detail[\"participants\"]:\n",
    "#                 part_id = participant[\"stats\"][\"participantId\"]\n",
    "#                 kills = participant[\"stats\"][\"kills\"] \n",
    "#                 deaths = participant[\"stats\"][\"deaths\"]\n",
    "#                 assists = participant[\"stats\"][\"assists\"]\n",
    "#                 kda = round((kills+assists)/ max(1, deaths), 3)\n",
    "#                 win = participant[\"stats\"][\"win\"]\n",
    "\n",
    "#                 # Store kills, deaths, assists, kda and win\n",
    "#                 match_info[game_id][\"player_data\"][part_id][\"kills\"] = kills\n",
    "#                 match_info[game_id][\"player_data\"][part_id][\"deaths\"] = deaths\n",
    "#                 match_info[game_id][\"player_data\"][part_id][\"assists\"] = assists\n",
    "#                 match_info[game_id][\"player_data\"][part_id][\"kda\"] = kda\n",
    "#                 match_info[game_id][\"player_data\"][part_id][\"win\"] = win\n",
    "\n",
    "#                 # Assign participants as ally or enemy of the protagonist                   \n",
    "#                 match_info[game_id][\"player_data\"][part_id][\"allied\"] = bool(part_id <=5) == protagonist_blue\n",
    "\n",
    "# print(\"done\", datetime.datetime.now())\n",
    "# # TODO: print how long it took"
   ]
  },
  {
   "cell_type": "code",
   "execution_count": null,
   "metadata": {},
   "outputs": [],
   "source": [
    "# short script to IO files\n",
    "\n",
    "summ_list_loc = out_dir / \"summoner_list.tsv\"\n",
    "with open(summ_list_loc, \"w\") as out_file:    \n",
    "    sumo_info.to_csv(out_file, sep='\\t', index = False, line_terminator='\\n')\n",
    "\n",
    "\n",
    "# Read in the summoner information\n",
    "sumo_info = pd.read_csv(summ_list_loc, sep = \"\\t\")\n"
   ]
  },
  {
   "cell_type": "code",
   "execution_count": 23,
   "metadata": {},
   "outputs": [],
   "source": [
    "# Output for for easy reading\n",
    "for i in match_info.keys():\n",
    "        print(\"this is match\", i)\n",
    "        print(match_info[i].keys())\n",
    "        print(match_info[i][\"game_info\"].keys())\n",
    "        print(convert_time(match_info[i][\"game_info\"][\"begin_time\"]))\n",
    "        print(convert_time(match_info[i][\"game_info\"][\"end_time\"]))\n",
    "        print(\"\")\n",
    "\n",
    "        print(\"match info\")\n",
    "        for y in match_info[i][\"game_info\"]:\n",
    "                print(match_info[i][\"game_info\"][y])\n",
    "\n",
    "        print(\"\")\n",
    "        print(\"player info\")\n",
    "        for player in match_info[i][\"player_data\"]:\n",
    "                print(match_info[i][\"player_data\"][player])\n",
    "\n",
    "        print(\"\\n------------------------\\n\")"
   ]
  },
  {
   "cell_type": "code",
   "execution_count": null,
   "metadata": {},
   "outputs": [],
   "source": [
    "# todo: write a function that measures how long a block took to run\n",
    "# datetime.now()"
   ]
  },
  {
   "cell_type": "code",
   "execution_count": 71,
   "metadata": {},
   "outputs": [
    {
     "name": "stdout",
     "output_type": "stream",
     "text": [
      "1607493600\n",
      "2020-12-08T22:00:00-08:00\n"
     ]
    }
   ],
   "source": [
    "with open(data_folder / \"patches.json\") as f:\n",
    "    data = json.load(f)\n",
    "\n",
    "patch = data[\"patches\"][-1]  # most recent\n",
    "utc_timestamp = patch[\"start\"]\n",
    "\n",
    "north_america_timestamp = utc_timestamp + data[\"shifts\"][region.upper()]\n",
    "print(north_america_timestamp)\n",
    "dt = arrow.get(north_america_timestamp)\n",
    "print(dt.to(\"US/Pacific\"))"
   ]
  },
  {
   "cell_type": "code",
   "execution_count": null,
   "metadata": {},
   "outputs": [],
   "source": [
    "\n",
    "# participants = []\n",
    "# for row in match_detail['participants']:\n",
    "#     participants_row = {}\n",
    "#     participants_row['champion'] = row['championId']\n",
    "#     # participants_row['spell1'] = row['spell1Id']\n",
    "#     # participants_row['spell2'] = row['spell2Id']\n",
    "#     participants_row['win'] = row['stats']['win']\n",
    "#     participants_row['kills'] = row['stats']['kills']\n",
    "#     participants_row['deaths'] = row['stats']['deaths']\n",
    "#     participants_row['assists'] = row['stats']['assists']\n",
    "#     participants_row['KDA'] = kda(row['stats']['kills'], row['stats']['deaths'], row['stats']['assists'])\n",
    "#     participants_row['totalDamageDealt'] = row['stats']['totalDamageDealt']\n",
    "#     participants_row['goldEarned'] = row['stats']['goldEarned']\n",
    "#     participants_row['champLevel'] = row['stats']['champLevel']\n",
    "#     participants_row['totalMinionsKilled'] = row['stats']['totalMinionsKilled']\n",
    "#     # participants_row['item0'] = row['stats']['item0']\n",
    "#     # participants_row['item1'] = row['stats']['item1']\n",
    "#     participants.append(participants_row)\n",
    "# df = pd.DataFrame(participants) # this step is still important 07-2\n",
    "# # df"
   ]
  },
  {
   "cell_type": "code",
   "execution_count": 44,
   "metadata": {},
   "outputs": [
    {
     "name": "stdout",
     "output_type": "stream",
     "text": [
      "[220 330 440 550]\n"
     ]
    }
   ],
   "source": [
    "\n",
    "thingy = np.arange(220,551,110)\n",
    "\n",
    "print(thingy)"
   ]
  },
  {
   "cell_type": "markdown",
   "metadata": {},
   "source": [
    "### Patch an season info"
   ]
  },
  {
   "cell_type": "code",
   "execution_count": 62,
   "metadata": {},
   "outputs": [
    {
     "name": "stdout",
     "output_type": "stream",
     "text": [
      "1607515200\n",
      "2020-12-09T04:00:00-08:00\n"
     ]
    }
   ],
   "source": [
    "# example of how to Read time\n",
    "# 2018-01-24T03:00:00-08:00  (for patch 8.2) --> corresponds to 3am on January 24th, 2018 in Pacific Time\n",
    "\n",
    "with open(data_folder / \"patches.json\") as f:\n",
    "    data = json.load(f)\n",
    "\n",
    "patch = data[\"patches\"][-1]  # most recent\n",
    "utc_timestamp = patch[\"start\"]\n",
    "north_america_timestamp = utc_timestamp + data[\"shifts\"][\"NA1\"]\n",
    "print(north_america_timestamp)\n",
    "dt = arrow.get(north_america_timestamp)\n",
    "print(dt.to(\"US/Pacific\"))\n",
    "\n"
   ]
  },
  {
   "cell_type": "code",
   "execution_count": null,
   "metadata": {},
   "outputs": [],
   "source": []
  },
  {
   "cell_type": "code",
   "execution_count": null,
   "metadata": {},
   "outputs": [],
   "source": []
  },
  {
   "cell_type": "code",
   "execution_count": null,
   "metadata": {},
   "outputs": [],
   "source": []
  },
  {
   "cell_type": "code",
   "execution_count": null,
   "metadata": {},
   "outputs": [],
   "source": [
    "# Not needed anymore \n",
    "def kda(kill, death, assist):\n",
    "    \"\"\"\n",
    "    Calculate kill assist to death ratio.\n",
    "    If a player would have 0 deaths, a value of 1 will be used to avoid a KDA of infinity.\n",
    "    \n",
    "    Args:\n",
    "        kill (int): Number of kills performed by the player.\n",
    "        death (int): Number of deaths of the player.\n",
    "        assists (int): Number of times the player has assisted another player in a kill.\n",
    "    Returns:\n",
    "        kda_score (int): The number of kills and/or assists a player got per death on average.\n",
    "    \"\"\"\n",
    "\n",
    "    kda_score = round((kill+assist) / max(1, death), 3)\n",
    "\n",
    "    return kda_score"
   ]
  },
  {
   "cell_type": "code",
   "execution_count": null,
   "metadata": {},
   "outputs": [],
   "source": [
    "# example end script for wayyy later\n",
    "\n",
    "try:\n",
    "    response = lol_watcher.summoner.by_name(region, summoner_name)\n",
    "    print(response)\n",
    "except ApiError as error:\n",
    "    if error.response.status_code == 429:\n",
    "        print('Request limit reached retry in {} seconds.'.format(err.headers['Retry-After']))\n",
    "    elif error.response.status_code == 404: \n",
    "        print(\"Found no match\")"
   ]
  },
  {
   "cell_type": "code",
   "execution_count": null,
   "metadata": {},
   "outputs": [],
   "source": [
    "# try except loop\n",
    "    #     try:\n",
    "    #         # Retrieve the matches between two time points\n",
    "    #         match_list = lol_watcher.match.matchlist_by_puuid(reg,\n",
    "    #                                                           row.puuid,\n",
    "    #                                                           start_time=s_time,\n",
    "    #                                                           end_time=e_time,\n",
    "    #                                                           count=100)     \n",
    "    #     except ApiError as error:\n",
    "    #         if error.response.status_code == 400:\n",
    "    #             continue\n"
   ]
  }
 ],
 "metadata": {
  "kernelspec": {
   "display_name": "Python 3",
   "language": "python",
   "name": "python3"
  },
  "language_info": {
   "codemirror_mode": {
    "name": "ipython",
    "version": 3
   },
   "file_extension": ".py",
   "mimetype": "text/x-python",
   "name": "python",
   "nbconvert_exporter": "python",
   "pygments_lexer": "ipython3",
   "version": "3.9.1"
  },
  "orig_nbformat": 2
 },
 "nbformat": 4,
 "nbformat_minor": 2
}
