{
 "cells": [
  {
   "cell_type": "markdown",
   "metadata": {},
   "source": [
    "# TILT - Teemo Induced Loss of Tranquility\n",
    "A research insentive to study main factors in inducing tilt.\n"
   ]
  },
  {
   "cell_type": "markdown",
   "metadata": {},
   "source": [
    "# Imports"
   ]
  },
  {
   "cell_type": "code",
   "execution_count": 1,
   "metadata": {},
   "outputs": [],
   "source": [
    "from collections import defaultdict\n",
    "from pathlib2 import Path\n",
    "from riotwatcher import LolWatcher, ApiError\n",
    "\n",
    "\n",
    "# import arrow\n",
    "import datetime\n",
    "import time\n",
    "import json\n",
    "import numpy as np\n",
    "import pandas as pd"
   ]
  },
  {
   "cell_type": "markdown",
   "metadata": {},
   "source": [
    "# Functions"
   ]
  },
  {
   "cell_type": "code",
   "execution_count": 9,
   "metadata": {},
   "outputs": [],
   "source": [
    "  \n",
    "def api_key(api_key_loc):\n",
    "    \"\"\"\n",
    "    Read in the development API key from a file and checks if it is viable.\n",
    "    \n",
    "    Args:\n",
    "        credentials (str): Name of json file containing the credentials.\n",
    "    Returns:\n",
    "        api_key (str): The API key.\n",
    "    \"\"\"\n",
    "\n",
    "    while True:\n",
    "        with open(api_key_loc, \"r\") as json_data:\n",
    "            creds = json.load(json_data)\n",
    "            api_key = creds[\"dev_api_key\"]\n",
    "            lol_watcher = LolWatcher(creds[\"dev_api_key\"])\n",
    "            try:\n",
    "                # Validate API key by using it to check server status\n",
    "                lol_watcher.lol_status.shard_data(\"euw1\")\n",
    "                # Break if key is functional\n",
    "                break\n",
    "            except ApiError as error:\n",
    "                # If the current API key does not work input new one\n",
    "                if error.response.status_code == 403:\n",
    "                    new_api_key = input(\"API key is incorrect, enter correct key here.\")\n",
    "                    creds[\"dev_api_key\"] = new_api_key\n",
    "                    # Replace the old API key\n",
    "                    with open(api_key_loc, \"w\") as json_data:\n",
    "                        json.dump(creds, json_data)\n",
    "    return api_key"
   ]
  },
  {
   "cell_type": "code",
   "execution_count": 20,
   "metadata": {},
   "outputs": [],
   "source": [
    "def convert_time(utc_time):\n",
    "    \"\"\"\n",
    "    Converts UTC to GMT time.\n",
    "\n",
    "    Args:\n",
    "        time (int): Time in milliseconds following the Coordinated Universal Time (UTC) format.\n",
    "    Returns:\n",
    "        hr_time (str): Time in Greenwich Mean Time format (Year-Month-Day Hour:Minute:Second). \n",
    "    \"\"\"\n",
    "    \n",
    "    gmt_time = str(datetime.datetime.fromtimestamp(time / 1000))\n",
    "    return(gmt_time)"
   ]
  },
  {
   "cell_type": "code",
   "execution_count": 27,
   "metadata": {},
   "outputs": [],
   "source": [
    "def kda(kill, death, assist):\n",
    "    #somehow does not work\n",
    "    \"\"\"\n",
    "    Calculate kill assist to death ratio. \n",
    "    If a player would have 0 deaths, a value of 1 will be used to avoid a KDA of infinity  \n",
    "    \n",
    "    Args:\n",
    "        kill (str): Time in milliseconds following the Coordinated Universal Time (UTC) format.\n",
    "        death (str):\n",
    "        assists (str)\n",
    "    Returns:\n",
    "        hr_time (str): Time in Greenwich Mean Time format (Year-Month-Day Hour:Minute:Second). \n",
    "    \"\"\"\n",
    "    Input is string\n",
    "\n",
    "    \"\"\"\n",
    "    score = round((kill+assist) / max(1, death), 3)\n",
    "\n",
    "    return score"
   ]
  },
  {
   "cell_type": "code",
   "execution_count": 30,
   "metadata": {},
   "outputs": [
    {
     "name": "stdout",
     "output_type": "stream",
     "text": [
      "10.0\n"
     ]
    }
   ],
   "source": [
    "print(kda(5,1,5))"
   ]
  },
  {
   "cell_type": "markdown",
   "metadata": {},
   "source": [
    "# Main"
   ]
  },
  {
   "cell_type": "code",
   "execution_count": 14,
   "metadata": {},
   "outputs": [],
   "source": [
    "# Folder locations\n",
    "\n",
    "# Project folders\n",
    "project_folder = Path.cwd().parent\n",
    "\n",
    "# Raw data storage\n",
    "data_folder = project_folder / \"data\"\n",
    "\n",
    "# Out folder\n",
    "out_folder = project_folder / \"out\""
   ]
  },
  {
   "cell_type": "code",
   "execution_count": 15,
   "metadata": {},
   "outputs": [],
   "source": [
    "# Set API key\n",
    "\n",
    "# API key location\n",
    "api_key_loc = data_folder / \"dev_api_key.json\"\n",
    "\n",
    "# Set API key\n",
    "lol_watcher = LolWatcher(api_key(api_key_loc))"
   ]
  },
  {
   "cell_type": "code",
   "execution_count": 26,
   "metadata": {},
   "outputs": [],
   "source": [
    "# Constants\n",
    "\n",
    "# Minimum durtion of champion select according to https://leagueoflegends.fandom.com/wiki/Draft_Pick 7-02-2021\n",
    "min_lobby_time = 239*1000 \n"
   ]
  },
  {
   "cell_type": "code",
   "execution_count": 19,
   "metadata": {},
   "outputs": [],
   "source": [
    "# Set user request parameters\n",
    "\n",
    "# Set region\n",
    "region = \"euw1\"\n",
    "\n",
    "# Set summonder name \n",
    "protagonist = \"alnas\" # not case sensitive"
   ]
  },
  {
   "cell_type": "markdown",
   "metadata": {},
   "source": [
    "### User info"
   ]
  },
  {
   "cell_type": "code",
   "execution_count": 18,
   "metadata": {},
   "outputs": [
    {
     "name": "stdout",
     "output_type": "stream",
     "text": [
      "{'id': 'C6R-3UT4OoZ5pd5v3cbLAO6CQeKGzESmAKsI_ZKcAOioKf0', 'accountId': 'Kk8PvJLYQzu-GbSacqZqL3yPXjn_BvEpzc8aT86BPqX0gg', 'puuid': 'pmzyZf0APVn-_KRaTzgA3inKNh5_CSKYuWQX3c0JxUGs1f9kxjBmstXG2W-bY4Nz-Z4gP3gSEmlRDA', 'name': 'Aderynn', 'profileIconId': 4491, 'revisionDate': 1644051914000, 'summonerLevel': 67}\n"
     ]
    }
   ],
   "source": [
    "# retrieve info using region and summoner name\n",
    "user = lol_watcher.summoner.by_name(region, protagonist)\n",
    "print(user)"
   ]
  },
  {
   "cell_type": "code",
   "execution_count": 29,
   "metadata": {},
   "outputs": [
    {
     "name": "stdout",
     "output_type": "stream",
     "text": [
      "[{'leagueId': 'f45c0593-8eab-41ca-a45e-987f2cff8cca', 'queueType': 'RANKED_SOLO_5x5', 'tier': 'GOLD', 'rank': 'IV', 'summonerId': 'L2OqMzNqsCelFfcFlPx5iQWRB7dKLDdf9xGgO_W1dNau3EI', 'summonerName': 'Alnas', 'leaguePoints': 50, 'wins': 16, 'losses': 18, 'veteran': False, 'inactive': False, 'freshBlood': False, 'hotStreak': False}]\n"
     ]
    }
   ],
   "source": [
    "# Check rank stats using user id\n",
    "ranked_stats = lol_watcher.league.by_summoner(region, user[\"id\"])\n",
    "print(ranked_stats)"
   ]
  },
  {
   "cell_type": "markdown",
   "metadata": {},
   "source": [
    "### Match info"
   ]
  },
  {
   "cell_type": "code",
   "execution_count": 30,
   "metadata": {},
   "outputs": [],
   "source": [
    "# set match request parameters\n",
    "\n",
    "# Set queue\n",
    "queue = 420\n",
    "\n",
    "# Set season ????"
   ]
  },
  {
   "cell_type": "code",
   "execution_count": 31,
   "metadata": {
    "tags": []
   },
   "outputs": [
    {
     "ename": "AttributeError",
     "evalue": "'MatchApiV4' object has no attribute 'matchlist_by_puuid'",
     "output_type": "error",
     "traceback": [
      "\u001b[1;31m---------------------------------------------------------------------------\u001b[0m",
      "\u001b[1;31mAttributeError\u001b[0m                            Traceback (most recent call last)",
      "\u001b[1;32m<ipython-input-31-b5f56102c4ff>\u001b[0m in \u001b[0;36m<module>\u001b[1;34m\u001b[0m\n\u001b[0;32m      3\u001b[0m \u001b[1;33m\u001b[0m\u001b[0m\n\u001b[0;32m      4\u001b[0m \u001b[1;33m\u001b[0m\u001b[0m\n\u001b[1;32m----> 5\u001b[1;33m matches = lol_watcher.match.matchlist_by_puuid(region=region,\n\u001b[0m\u001b[0;32m      6\u001b[0m                                                  \u001b[0mencrypted_account_id\u001b[0m\u001b[1;33m=\u001b[0m\u001b[0muser\u001b[0m\u001b[1;33m[\u001b[0m\u001b[1;34m\"accountId\"\u001b[0m\u001b[1;33m]\u001b[0m\u001b[1;33m,\u001b[0m\u001b[1;33m\u001b[0m\u001b[1;33m\u001b[0m\u001b[0m\n\u001b[0;32m      7\u001b[0m                                                  \u001b[0mqueue\u001b[0m\u001b[1;33m=\u001b[0m\u001b[0mqueue\u001b[0m\u001b[1;33m,\u001b[0m\u001b[1;33m\u001b[0m\u001b[1;33m\u001b[0m\u001b[0m\n",
      "\u001b[1;31mAttributeError\u001b[0m: 'MatchApiV4' object has no attribute 'matchlist_by_puuid'"
     ]
    }
   ],
   "source": [
    "# Retrieve match id from a single match, ranked queue based on time\n",
    "# (max is last 100 matches https://developer.riotgames.com/apis#match-v4) but time range is 1 week \n",
    "\n",
    "\n",
    "matches = lol_watcher.match.matchlist_by_account(region=region,\n",
    "                                                 encrypted_account_id=user[\"accountId\"],\n",
    "                                                 queue=queue,\n",
    "                                                 begin_index=0,\n",
    "                                                 end_index=100)\n",
    "#TODO: make this work with time\n",
    "\n",
    "                                                 \n",
    "# print(matches.keys())\n",
    "# print(matches[\"matches\"][0])\n",
    "# print(matches[\"startIndex\"])\n",
    "# print(matches[\"endIndex\"])\n",
    "# print(matches[\"totalGames\"]) \n"
   ]
  },
  {
   "cell_type": "code",
   "execution_count": 24,
   "metadata": {
    "tags": []
   },
   "outputs": [
    {
     "ename": "NameError",
     "evalue": "name 'matches' is not defined",
     "output_type": "error",
     "traceback": [
      "\u001b[1;31m---------------------------------------------------------------------------\u001b[0m",
      "\u001b[1;31mNameError\u001b[0m                                 Traceback (most recent call last)",
      "\u001b[1;32m<ipython-input-24-cefd337407d8>\u001b[0m in \u001b[0;36m<module>\u001b[1;34m\u001b[0m\n\u001b[0;32m      3\u001b[0m \u001b[1;33m\u001b[0m\u001b[0m\n\u001b[0;32m      4\u001b[0m \u001b[1;31m# Get match details of last 10 matches\u001b[0m\u001b[1;33m\u001b[0m\u001b[1;33m\u001b[0m\u001b[1;33m\u001b[0m\u001b[0m\n\u001b[1;32m----> 5\u001b[1;33m \u001b[1;32mfor\u001b[0m \u001b[0mmatch\u001b[0m \u001b[1;32min\u001b[0m \u001b[0mmatches\u001b[0m\u001b[1;33m[\u001b[0m\u001b[1;34m\"matches\"\u001b[0m\u001b[1;33m]\u001b[0m\u001b[1;33m[\u001b[0m\u001b[1;33m:\u001b[0m\u001b[1;36m1\u001b[0m\u001b[1;33m]\u001b[0m\u001b[1;33m:\u001b[0m\u001b[1;33m\u001b[0m\u001b[1;33m\u001b[0m\u001b[0m\n\u001b[0m\u001b[0;32m      6\u001b[0m         \u001b[1;31m# Collect information pertinent to the match itself\u001b[0m\u001b[1;33m\u001b[0m\u001b[1;33m\u001b[0m\u001b[1;33m\u001b[0m\u001b[0m\n\u001b[0;32m      7\u001b[0m         \u001b[0mgame_id\u001b[0m \u001b[1;33m=\u001b[0m \u001b[0mmatch\u001b[0m\u001b[1;33m[\u001b[0m\u001b[1;34m\"gameId\"\u001b[0m\u001b[1;33m]\u001b[0m\u001b[1;33m\u001b[0m\u001b[1;33m\u001b[0m\u001b[0m\n",
      "\u001b[1;31mNameError\u001b[0m: name 'matches' is not defined"
     ]
    }
   ],
   "source": [
    "# Create a dictionary to store all the results\n",
    "match_info = defaultdict(lambda: defaultdict(lambda: defaultdict(dict)))\n",
    "\n",
    "# Get match details of last 10 matches\n",
    "for match in matches[\"matches\"][:1]:\n",
    "        # Collect information pertinent to the match itself\n",
    "        game_id = match[\"gameId\"]\n",
    "        queue_type = match[\"queue\"]\n",
    "        match_detail = lol_watcher.match.by_id(region, game_id)\n",
    "        match_start = match[\"timestamp\"]\n",
    "        match_duration = match_detail[\"gameDuration\"]*1000\n",
    "        lobby_end = match_detail[\"gameCreation\"]\n",
    "\n",
    "        # Store filtered information pertinent to the match itself\n",
    "        match_info[game_id][\"game_info\"][\"game_type\"] = queue_type\n",
    "        match_info[game_id][\"game_info\"][\"begin_time\"] = lobby_end - min_lobby_time\n",
    "        match_info[game_id][\"game_info\"][\"end_time\"] = match_start + match_duration\n",
    "\n",
    "        # Store filtered information pertinent to participants\n",
    "        protagonist_blue = None\n",
    "        # Collect participant ID and summoner name\n",
    "        for participant in match_detail[\"participantIdentities\"]:\n",
    "                part_id = participant[\"participantId\"]\n",
    "                summoner_name = participant[\"player\"][\"summonerName\"]\n",
    "                # Storing summoner name using participant ID as key\n",
    "                match_info[game_id][\"player_data\"][part_id][\"participant_id\"] = part_id \n",
    "                match_info[game_id][\"player_data\"][part_id][\"name\"] = summoner_name\n",
    "                if summoner_name.lower() == protagonist.lower():\n",
    "                        protagonist_blue = True if part_id <=5 else False\n",
    "\n",
    "        # Collect kills, deaths, assists and win\n",
    "        for participant in match_detail[\"participants\"]:\n",
    "                part_id = participant[\"stats\"][\"participantId\"]\n",
    "                kills = participant[\"stats\"][\"kills\"] \n",
    "                deaths = participant[\"stats\"][\"deaths\"]\n",
    "                assists = participant[\"stats\"][\"assists\"]\n",
    "                kda = round((kills+assists)/ max(1, deaths), 3)\n",
    "                win = participant[\"stats\"][\"win\"]\n",
    "\n",
    "                # Store kills, deaths, assists, kda and win\n",
    "                match_info[game_id][\"player_data\"][part_id][\"kills\"] = kills\n",
    "                match_info[game_id][\"player_data\"][part_id][\"deaths\"] = deaths\n",
    "                match_info[game_id][\"player_data\"][part_id][\"assists\"] = assists\n",
    "                match_info[game_id][\"player_data\"][part_id][\"kda\"] = kda\n",
    "                match_info[game_id][\"player_data\"][part_id][\"win\"] = win\n",
    "\n",
    "                # Assign participants as ally or enemy of the protagonist                   \n",
    "                match_info[game_id][\"player_data\"][part_id][\"allied\"] = bool(part_id <=5) == protagonist_blue\n",
    "\n",
    "print(\"done\", datetime.datetime.now())\n",
    "# TODO: print how long it took"
   ]
  },
  {
   "cell_type": "code",
   "execution_count": 23,
   "metadata": {},
   "outputs": [],
   "source": [
    "# Output for for easy reading\n",
    "for i in match_info.keys():\n",
    "        print(\"this is match\", i)\n",
    "        print(match_info[i].keys())\n",
    "        print(match_info[i][\"game_info\"].keys())\n",
    "        print(convert_time(match_info[i][\"game_info\"][\"begin_time\"]))\n",
    "        print(convert_time(match_info[i][\"game_info\"][\"end_time\"]))\n",
    "        print(\"\")\n",
    "\n",
    "        print(\"match info\")\n",
    "        for y in match_info[i][\"game_info\"]:\n",
    "                print(match_info[i][\"game_info\"][y])\n",
    "\n",
    "        print(\"\")\n",
    "        print(\"player info\")\n",
    "        for player in match_info[i][\"player_data\"]:\n",
    "                print(match_info[i][\"player_data\"][player])\n",
    "\n",
    "        print(\"\\n------------------------\\n\")"
   ]
  },
  {
   "cell_type": "code",
   "execution_count": null,
   "metadata": {},
   "outputs": [],
   "source": [
    "# todo: write a function that measures how long a block took to run\n",
    "# datetime.now()"
   ]
  },
  {
   "cell_type": "code",
   "execution_count": 71,
   "metadata": {},
   "outputs": [
    {
     "name": "stdout",
     "output_type": "stream",
     "text": [
      "1607493600\n",
      "2020-12-08T22:00:00-08:00\n"
     ]
    }
   ],
   "source": [
    "with open(data_folder / \"patches.json\") as f:\n",
    "    data = json.load(f)\n",
    "\n",
    "patch = data[\"patches\"][-1]  # most recent\n",
    "utc_timestamp = patch[\"start\"]\n",
    "\n",
    "north_america_timestamp = utc_timestamp + data[\"shifts\"][region.upper()]\n",
    "print(north_america_timestamp)\n",
    "dt = arrow.get(north_america_timestamp)\n",
    "print(dt.to(\"US/Pacific\"))"
   ]
  },
  {
   "cell_type": "code",
   "execution_count": null,
   "metadata": {},
   "outputs": [],
   "source": [
    "\n",
    "# participants = []\n",
    "# for row in match_detail['participants']:\n",
    "#     participants_row = {}\n",
    "#     participants_row['champion'] = row['championId']\n",
    "#     # participants_row['spell1'] = row['spell1Id']\n",
    "#     # participants_row['spell2'] = row['spell2Id']\n",
    "#     participants_row['win'] = row['stats']['win']\n",
    "#     participants_row['kills'] = row['stats']['kills']\n",
    "#     participants_row['deaths'] = row['stats']['deaths']\n",
    "#     participants_row['assists'] = row['stats']['assists']\n",
    "#     participants_row['KDA'] = kda(row['stats']['kills'], row['stats']['deaths'], row['stats']['assists'])\n",
    "#     participants_row['totalDamageDealt'] = row['stats']['totalDamageDealt']\n",
    "#     participants_row['goldEarned'] = row['stats']['goldEarned']\n",
    "#     participants_row['champLevel'] = row['stats']['champLevel']\n",
    "#     participants_row['totalMinionsKilled'] = row['stats']['totalMinionsKilled']\n",
    "#     # participants_row['item0'] = row['stats']['item0']\n",
    "#     # participants_row['item1'] = row['stats']['item1']\n",
    "#     participants.append(participants_row)\n",
    "# df = pd.DataFrame(participants) # this step is still important 07-2\n",
    "# # df"
   ]
  },
  {
   "cell_type": "code",
   "execution_count": 44,
   "metadata": {},
   "outputs": [
    {
     "name": "stdout",
     "output_type": "stream",
     "text": [
      "[220 330 440 550]\n"
     ]
    }
   ],
   "source": [
    "\n",
    "thingy = np.arange(220,551,110)\n",
    "\n",
    "print(thingy)"
   ]
  },
  {
   "cell_type": "markdown",
   "metadata": {},
   "source": [
    "### Patch an season info"
   ]
  },
  {
   "cell_type": "code",
   "execution_count": 62,
   "metadata": {},
   "outputs": [
    {
     "name": "stdout",
     "output_type": "stream",
     "text": [
      "1607515200\n",
      "2020-12-09T04:00:00-08:00\n"
     ]
    }
   ],
   "source": [
    "# example of how to Read time\n",
    "# 2018-01-24T03:00:00-08:00  (for patch 8.2) --> corresponds to 3am on January 24th, 2018 in Pacific Time\n",
    "\n",
    "with open(data_folder / \"patches.json\") as f:\n",
    "    data = json.load(f)\n",
    "\n",
    "patch = data[\"patches\"][-1]  # most recent\n",
    "utc_timestamp = patch[\"start\"]\n",
    "north_america_timestamp = utc_timestamp + data[\"shifts\"][\"NA1\"]\n",
    "print(north_america_timestamp)\n",
    "dt = arrow.get(north_america_timestamp)\n",
    "print(dt.to(\"US/Pacific\"))\n",
    "\n"
   ]
  },
  {
   "cell_type": "code",
   "execution_count": null,
   "metadata": {},
   "outputs": [],
   "source": []
  },
  {
   "cell_type": "code",
   "execution_count": null,
   "metadata": {},
   "outputs": [],
   "source": []
  },
  {
   "cell_type": "code",
   "execution_count": null,
   "metadata": {},
   "outputs": [],
   "source": []
  },
  {
   "cell_type": "code",
   "execution_count": null,
   "metadata": {},
   "outputs": [],
   "source": []
  },
  {
   "cell_type": "code",
   "execution_count": null,
   "metadata": {},
   "outputs": [],
   "source": [
    "# example end script for wayyy later\n",
    "\n",
    "try:\n",
    "    response = lol_watcher.summoner.by_name(region, summoner_name)\n",
    "    print(response)\n",
    "except ApiError as error:\n",
    "    if error.response.status_code == 429:\n",
    "        print('Request limit reached retry in {} seconds.'.format(err.headers['Retry-After']))\n",
    "    elif error.response.status_code == 404: \n",
    "        print(\"Found no match\")"
   ]
  }
 ],
 "metadata": {
  "kernelspec": {
   "display_name": "Python 3",
   "language": "python",
   "name": "python3"
  },
  "language_info": {
   "codemirror_mode": {
    "name": "ipython",
    "version": 3
   },
   "file_extension": ".py",
   "mimetype": "text/x-python",
   "name": "python",
   "nbconvert_exporter": "python",
   "pygments_lexer": "ipython3",
   "version": "3.9.1"
  },
  "orig_nbformat": 2
 },
 "nbformat": 4,
 "nbformat_minor": 2
}
